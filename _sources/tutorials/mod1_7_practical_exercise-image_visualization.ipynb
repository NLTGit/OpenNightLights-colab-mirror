{
 "cells": [
  {
   "cell_type": "markdown",
   "metadata": {},
   "source": [
    "# 7. Practical exercise: image visualization (10 min)\n",
    "\n",
    "When you’re working with maps and images, what is the first thing you want to do? Display it! In this exercise, we’re going to display nighttime lights for Nigeria in 1992 and 2013.\n",
    "\n",
    "Our tasks:\n",
    "1. Use the Python geemap module to create an interactive map object in our Jupyter Notebook\n",
    "2. Query DMSP-OLS data for 1992 in GEE and add it to our map object\n",
    "3. Display Nigeria nighttime lights for 1992\n",
    "4. Visual inspection\n",
    "5. Repeat steps 2 and 3 for Nigeria in 2013\n",
    "\n",
    "\n",
    "## 7. 1 Using geemap, we'll set up an interactive map object\n",
    "\n",
    "Let's first make sure `geemap` and it's dependencies are working properly.\n",
    "\n",
    "Later in this tutorial, we're going to show you how to import other geospatial data files, such as the boundaries to countries or sub-national regions, to help you analyze nighttime lights.\n",
    "\n",
    "For now, we're going to focus our scene on Nigeria, but we'll do that simply by centering our map on the capital city of Abuja, which we can find at approximately, latitude: 9.0 and longitude: 7.4 and we'll set our map zoom factor to 6 to include the entire country in our view. You should get in the habit of saving parameters as variables. This makes it easy to re-use your code for different values."
   ]
  },
  {
   "cell_type": "code",
   "execution_count": 1,
   "metadata": {},
   "outputs": [],
   "source": [
    "# import geemap for our Python session\n",
    "import geemap\n",
    "\n",
    "# set our initial map parameters for Abuja, Nigeria\n",
    "center_lat = 9.0\n",
    "center_lon = 7.4\n",
    "zoomlevel=6\n",
    "\n",
    "# initialize our map\n",
    "myFirstMap = geemap.Map(center=[center_lat,center_lon], zoom=zoomlevel)"
   ]
  },
  {
   "cell_type": "markdown",
   "metadata": {},
   "source": [
    "<div class=\"alert alert-warning\">\n",
    "Recall that to use GEE you need an account. The first time you execute this cell, you'll be prompted to enter your authentication code. Another browser window will open where you can select the Google account you have associated with your GEE account. Copy the authentication code provided and enter it in the input box provided in this notebook and hit enter and you should be ready to go. You should not need to do this again on this computer. </div>\n",
    "\n",
    "Because this is an interactive object, when we add layers (as we will below), you dont have to display a new map. The object we created, `myFirstMap` will be updated in memory. All we need to do then is refresh (re-execute) this cell to display our map whenever we want."
   ]
  },
  {
   "cell_type": "code",
   "execution_count": 2,
   "metadata": {},
   "outputs": [
    {
     "data": {
      "application/vnd.jupyter.widget-view+json": {
       "model_id": "5c8dac7cf8f3493ca604325a6345cfca",
       "version_major": 2,
       "version_minor": 0
      },
      "text/plain": [
       "Map(center=[9.0, 7.4], controls=(ZoomControl(options=['position', 'zoom_in_text', 'zoom_in_title', 'zoom_out_t…"
      ]
     },
     "metadata": {},
     "output_type": "display_data"
    }
   ],
   "source": [
    "# display our map\n",
    "myFirstMap"
   ]
  },
  {
   "cell_type": "markdown",
   "metadata": {},
   "source": [
    "<div class=\"alert alert-warning\">\n",
    "Once you've authenticated. Executing the previous cell should display a map, centered on the Nigerian capital city of Abuja.<br><br>\n",
    "If you don't see a map: don't panic! But you've run into one of the challenges of interpreted open-source languages -- your Python packages and dependencies, including Jupyter notebook, and your computer's \"back-end\" software may not be in sync.</div>\n",
    "\n",
    "First, make sure `geemap` and `jupyter` are installed properly as per our earlier module [link]. If you're using a virtual environment, make sure that's activated and your packages are installed within it!\n",
    "\n",
    "If that doesnt resolve the issue, another fix is to make sure your Jupyter extensions enable `ipyleaflet` by running this code in command line (you can proxy this action, by adding a shebang in your notebook code, like this:"
   ]
  },
  {
   "cell_type": "code",
   "execution_count": 3,
   "metadata": {},
   "outputs": [
    {
     "name": "stdout",
     "output_type": "stream",
     "text": [
      "Enabling notebook extension jupyter-leaflet/extension...\r\n",
      "      - Validating: \u001b[32mOK\u001b[0m\r\n"
     ]
    }
   ],
   "source": [
    "!jupyter nbextension enable --py --sys-prefix ipyleaflet"
   ]
  },
  {
   "cell_type": "markdown",
   "metadata": {},
   "source": [
    "You may have to close out and restart your notebook after this, but you should only have to do this once.\n",
    "\n",
    "Hopefully, you've got `geemap` set up and working. If not, you'll want to troubleshoot possible issues -- here's the advantage of Python as an open-source language: there are many forums for discussing common problems. If you learn to properly frame your problem and search for it on Google (including details like the language and version of packages and any error message you receive) you can often find others who have dealt with your issue. If you havent, you can try posting the issue yourself on a focum like StackOverflow.com\n",
    "\n",
    "![fishing](img/mod1_7_fig1.png)\n",
    "\n",
    "If you learn to do this, it will serve you well. Troubles can be frustrating, but \"shooting\" them requires problem-solving that helps you better understand what you're doing and become a better programmer and data scientist.\n",
    "\n",
    "\n",
    "\n",
    "## 7. 2 Query DMSP-OLS data for 1992 in GEE and add it to our map object\n",
    "\n",
    "### Get DMSP-OLS image ID for 1992\n",
    "\n",
    "Now we want to query our nighttime lights. We're looking at the DMSP-OLS series. Images are what Google Earth Engine uses to describe raster files and ImageCollections are collections (like a time series) of images. We're looking for the DMSP-OLS Nighttime lights ImageCollection.\n",
    "\n",
    "The ImageCollection id for that is: \"NOAA/DMSP-OLS/NIGHTTIME_LIGHTS\"\n",
    "\n",
    "...but in case you forgot, it's easy to search for particular collections. For example, if you're using the GEE code editor, search for \"DMSP\" and it will prompt you for 2 collections -- we want the nighttime lights.\n",
    "\n",
    "![DMSP_search](img/mod1_7_fig2.png)\n",
    "\n",
    "Select the collection for \"Nighttime lights\" and in the window that appears, you'll see the exact collect ID (highlighed in the lower left). `NOAA/DMSP-OLS/NIGHTTIME_LIGHTS`\n",
    "\n",
    "![DMSP_window](img/mod1_7_fig3.png)\n",
    "\n",
    "Since we're doing this via the Python API in our own notebook, all we need is the ImageCollection id to call this. That full collection is a lot of data; however. And all we really need is the image for 1992 (recall that the DMSP-OLS nighttime lights are only available annually).\n",
    "\n",
    "Recall that the DMSP is composed of six satellites spanning 1992 to 2013. The satellite designated \"F10\" is what provided images for 1992 (refer to that grid if you  forget!).\n",
    "\n",
    "So the full Image id for our desired image is the ImageCollection ID: `NOAA/DMSP-OLS/NIGHTTIME_LIGHTS`\n",
    "\n",
    "...plus the image ID for 1992: `/F101992`\n",
    "\n",
    "Again, let's get in the habit of setting variables so we avoid repetition (including repeated typos!)"
   ]
  },
  {
   "cell_type": "code",
   "execution_count": 3,
   "metadata": {},
   "outputs": [],
   "source": [
    "dmsp92id = \"NOAA/DMSP-OLS/NIGHTTIME_LIGHTS/F101992\""
   ]
  },
  {
   "cell_type": "markdown",
   "metadata": {},
   "source": [
    "## 7.3 Create an Earth Engine object for the DMSP 1992 image and add to our map object"
   ]
  },
  {
   "cell_type": "code",
   "execution_count": 4,
   "metadata": {},
   "outputs": [],
   "source": [
    "# import the module ee, which was automatially installed when we installed geemap\n",
    "import ee\n",
    "\n",
    "# now we can create an ee object for our 1992 image\n",
    "# note that for DMSP, there is only one band, so we dont need to worry about selecting a band.\n",
    "dmsp92 = ee.Image(dmsp92id)\n",
    "\n",
    "# let's add this image as a layer to our map object and call it \"DMSP NTL 1992\"\n",
    "myFirstMap.addLayer(dmsp92, name='DMSP NTL 1992')"
   ]
  },
  {
   "cell_type": "code",
   "execution_count": 13,
   "metadata": {},
   "outputs": [
    {
     "data": {
      "application/vnd.jupyter.widget-view+json": {
       "model_id": "50a22194d8ee453ba0fe67105611b2ec",
       "version_major": 2,
       "version_minor": 0
      },
      "text/plain": [
       "Map(bottom=62332.0, center=[9.511370449204525, 8.448486328125002], controls=(ZoomControl(options=['position', …"
      ]
     },
     "metadata": {},
     "output_type": "display_data"
    }
   ],
   "source": [
    "# re-display our map\n",
    "myFirstMap"
   ]
  },
  {
   "cell_type": "markdown",
   "metadata": {},
   "source": [
    "Voila! We have a nighttime layer from the 1992 DMSP-OLS composite.\n",
    "\n",
    "**Pro tip:** We didn't need to re-type `myFirstMap` to display it again. Because we created an interactive object, we could just scroll back up to the cell with `myFirstMap` displayed above the first time and re-execute that cell to show our map with this new layer. This is handy if you want to save space and avoid duplicating displays.\n",
    "\n",
    "You may notice it's quite dark; however. You can always toggle the layer off, but if you want to visualize the nighttime lights over the basemap, you'll want to change the opacity of your nighttime lights layer. Fortunately, this is very easy for us to do.\n",
    "\n",
    "Our `.addLayer` function allows for other visual parameters, like `opacity`. Let's give this layer an opacity of 75%:"
   ]
  },
  {
   "cell_type": "code",
   "execution_count": 8,
   "metadata": {},
   "outputs": [],
   "source": [
    "myFirstMap.addLayer(dmsp92.mask(dmsp92), name='DMSP NTL 1992', opacity=0.75)"
   ]
  },
  {
   "cell_type": "markdown",
   "metadata": {},
   "source": [
    "Notice that by using the same name as before, we over-wrote the previous layer. \n",
    "\n",
    "If you wanted to create a new layer, this time with 50% opacity, but keep the previous layer, just change the name. Now you have both layers and you can toggle them on/off if you'd wish."
   ]
  },
  {
   "cell_type": "code",
   "execution_count": 9,
   "metadata": {},
   "outputs": [],
   "source": [
    "myFirstMap.addLayer(dmsp92, name='DMSP NTL 1992 opc. 50%', opacity=0.5)"
   ]
  },
  {
   "cell_type": "markdown",
   "metadata": {},
   "source": [
    "## 7.4 Visual inspection\n",
    "TODO: add note on changing basemap\n",
    "\n",
    "Take a look around. Interact with the map you just created with just the basemap (Open Street Maps by default) and the first (75% opacity) layer (toggle the other DMSP layer off or it will darken your view).\n",
    "\n",
    "Navigate to Abuja and zoom in. \n",
    "\n",
    "Can you see where the overlap of the nighttime lights are with the roads? \n",
    "\n",
    "How well do they overlap? \n",
    "\n",
    "Are there any surprises?\n",
    "\n",
    "What about other parts of Nigeria?"
   ]
  },
  {
   "cell_type": "markdown",
   "metadata": {},
   "source": [
    "## 7.5 Add a layer for DMSP-OLS 2013\n",
    "\n",
    "Now let's look at nighttime lights for 2013. To do this, we can just add a new layer to our object.\n",
    "\n",
    "Can you do this on your own?"
   ]
  },
  {
   "cell_type": "code",
   "execution_count": 9,
   "metadata": {},
   "outputs": [],
   "source": [
    "# your code here\n"
   ]
  },
  {
   "cell_type": "markdown",
   "metadata": {},
   "source": [
    "<br><br><br><br><br><br><br><br><br><br><br><br>\n",
    "\n",
    "Need some hints?"
   ]
  },
  {
   "cell_type": "code",
   "execution_count": 10,
   "metadata": {},
   "outputs": [],
   "source": [
    "# find the Image ID and set it as a new variable (hint: the satellite's name is \"F18\")\n",
    "\n",
    "\n",
    "# create the ee object\n",
    "\n",
    "\n",
    "# add this image object as a new layer in your map\n",
    "# name it \"DMSP NTL 2013\" and give it an opacity of 75%."
   ]
  },
  {
   "cell_type": "markdown",
   "metadata": {},
   "source": [
    "You should have been able to add a new layer and when refreshing the cell for `myFirstMap` above, see your new layer. If not, scroll down to see the code...\n",
    "\n",
    "<br><br><br><br><br><br><br><br><br><br><br><br>"
   ]
  },
  {
   "cell_type": "code",
   "execution_count": 10,
   "metadata": {},
   "outputs": [],
   "source": [
    "# find the Image ID and set it as a new variable (hint: the satellite's name is \"F18\")\n",
    "dmsp2013id = \"NOAA/DMSP-OLS/NIGHTTIME_LIGHTS/F182013\"\n",
    "\n",
    "# create the ee object\n",
    "dmsp2013 = ee.Image(dmsp2013id)\n",
    "\n",
    "# add this image as a new layer in your map object, myFirstMap\n",
    "# name it \"DMSP NTL 2013\" and give it an opacity of 75%.\n",
    "\n",
    "myFirstMap.addLayer(dmsp2013, name='DMSP NTL 2013', opacity=0.75)"
   ]
  },
  {
   "cell_type": "markdown",
   "metadata": {},
   "source": [
    "Now that you have both years, you can toggle back and forth and compare the differences.\n",
    "\n",
    "Do you see any major changes?\n",
    "\n",
    "Zoom in for a closer look at Abuja: do you see the growth from 1992 to 2013?\n",
    "\n",
    "## 7.6 Create a split planel view\n",
    "\n",
    "We've added our 2013 layer to compare with 1992, but it's kind of annoying to toggle each layer. It's also hard to truly compare. If we create a split panel view with a slider, we can more easily see the difference.\n",
    "\n",
    "There is a built-in method in `geemap` for this, which makes it simple to do.\n",
    "\n",
    "We've already created our 1992 and 2013 DMSP image objects and saved those as variables, so no need to re-create. We just need to generate a tile layer with each:"
   ]
  },
  {
   "cell_type": "code",
   "execution_count": 11,
   "metadata": {},
   "outputs": [],
   "source": [
    "# generate tile layers from the ee image objects nd name them\n",
    "dmsp92_tile = geemap.ee_tile_layer(dmsp92, {}, 'DMSP NTL 1992')\n",
    "dmsp2013_tile = geemap.ee_tile_layer(dmsp2013, {}, 'DMSP NTL 2013')"
   ]
  },
  {
   "cell_type": "markdown",
   "metadata": {},
   "source": [
    "If you want to create a new map object you can, just as before and center it using the parameters for Nigeria we set before:\n",
    "\n",
    "`newMap = geemap.Map(center=[center_lat,center_lon], zoom=zoomlevel)`\n",
    "\n",
    "But you can also just alter the initial object we created, which is what we'll do. We can call the object's `.split_map()` method and set the left and panels with our 1992 and 2013 tile layers."
   ]
  },
  {
   "cell_type": "code",
   "execution_count": 12,
   "metadata": {},
   "outputs": [],
   "source": [
    "myFirstMap.split_map(left_layer=dmsp92_tile, right_layer=dmsp2013_tile)"
   ]
  },
  {
   "cell_type": "markdown",
   "metadata": {},
   "source": [
    "Now when you refresh your map object above, you'll see a slider and the 1992 nighttime lights layer on the left with 2013 on the right. \n",
    "\n",
    "Slide it over Abuja: can you see the difference in the distribution of lights in 2013 compared to 1992? \n",
    "\n",
    "Look at some other regions around Nigeria.\n",
    "\n",
    "**On your own**: try comparing other years of DMSP-OLS data by creating new layers. Keep exploring Nigeria or try navigating (and centering your initial map object) on other parts of the world.\n",
    "\n",
    "This interactive viewer is a simple way to view changes in an area, but the real power is in conducting analysis. You can image that quantifying the difference in nighttime lights from 1992 to 2013 or calculating the slope of change across a time series could reveal areas of high or low growth and other patterns. \n",
    "\n",
    "We'll learn how to do this as well as deal with important issues of calibration. These satellite detectors, like all sensors, can change over time or have inherent biases (known as \"instrument bias\"), so it's important understand how to address these in order to do a fair comparison.\n",
    "\n",
    "## BONUS: Code re-factoring (optional)\n",
    "\n",
    "Our primary objective was to get a feel for using `geemap`, GEE, and Jupyter notebooks. Hopefully, you've now done that.\n",
    "\n",
    "As noted in the Intro to Jupyter notebooks, notebooks are powerful but can facilitate bad habits. One of those is disorganized and repetitive code (strive for DRY: Dont Repeat Yourself!).\n",
    "\n",
    "As a bonus section, let's refactor the code we've written above into cleaner, more modular code. It will also help you see how helpful it can be to use variables and make it less painful to scroll up and down a notebook when you're updating and displaying your map object.\n",
    "\n",
    "Our first step is to import our modules up top so it's easy to see what we're using. (Normally we dont need to import these again, since we already did in this notebook...this is just for illustration).\n",
    "\n",
    "Then we'll define a few functions that initialize our map and Earth Engine image objects and allow us to add layers dynamically using different arguments. \n",
    "\n",
    "Then we'll call these methods to update and display our map object.\n",
    "\n",
    "This refactor introducts a few helpful concepts. If you want to learn more check them out:\n",
    "\n",
    "<div class=\"alert alert-success\">\n",
    "<a href=\"https://realpython.com/python-kwargs-and-args/\" class=\"alert-link\">*args and **kwargs</a> allow you to create a function with unspecified arguments</div>\n",
    "\n",
    "<div class=\"alert alert-success\">\n",
    "<a href=\"https://docs.python.org/3/reference/lexical_analysis.html#f-strings\" class=\"alert-link\">formatted string literals</a> or \"f-strings\" allow you to create dynamic strings based on variables you pass.</div>"
   ]
  },
  {
   "cell_type": "code",
   "execution_count": 14,
   "metadata": {},
   "outputs": [],
   "source": [
    "import geemap\n",
    "import ee"
   ]
  },
  {
   "cell_type": "code",
   "execution_count": 15,
   "metadata": {},
   "outputs": [],
   "source": [
    "def init_geemap(**mapkwargs):\n",
    "    return geemap.Map(**mapkwargs)\n",
    "\n",
    "# we can set defaults for arguments -- useful if they dont change much\n",
    "def create_dmsp_image(imageID, DMSP_collectionID=\"NOAA/DMSP-OLS/NIGHTTIME_LIGHTS\"):\n",
    "    return ee.Image(DMSP_collectionID + f\"/{imageID}\")\n",
    "\n",
    "def create_tile_layer(ee_object, name):\n",
    "    return geemap.ee_tile_layer(ee_object, {}, name)\n",
    "\n",
    "def add_image_layer(map_object, ee_object, name, **kwargs):\n",
    "    map_object.addLayer(ee_object, name=name, **kwargs)\n",
    "    return map_object\n",
    "\n",
    "def create_split_panel(map_object, left_tile_layer, right_tile_layer):\n",
    "    map_object.split_map(left_layer=left_tile_layer, right_layer=right_tile_layer)\n",
    "    return map_object\n",
    "\n",
    "# initial variables\n",
    "abuja_lat = 9.0\n",
    "abuja_lon = 7.4\n",
    "zoomlevel=6\n",
    "\n",
    "# Looking up these DMSP names is a bit tedious. \n",
    "# We have these satellite names mapped to the right year (as shown earlier)\n",
    "# so later we might create a dictionary that stores these so all we need to do to get\n",
    "# the ImageID is provide the year\n",
    "dmsp92_ID = \"F101992\"\n",
    "dmsp2013_ID = \"F182013\""
   ]
  },
  {
   "cell_type": "code",
   "execution_count": 16,
   "metadata": {},
   "outputs": [],
   "source": [
    "anotherMap = init_geemap(center=[abuja_lat, abuja_lon], zoom=zoomlevel)"
   ]
  },
  {
   "cell_type": "code",
   "execution_count": 20,
   "metadata": {},
   "outputs": [
    {
     "data": {
      "application/vnd.jupyter.widget-view+json": {
       "model_id": "715ee33a82b340dca3a5e87d7c13492f",
       "version_major": 2,
       "version_minor": 0
      },
      "text/plain": [
       "Map(bottom=8056.0, center=[9.0, 7.4], controls=(ZoomControl(options=['position', 'zoom_in_text', 'zoom_in_titl…"
      ]
     },
     "metadata": {},
     "output_type": "display_data"
    }
   ],
   "source": [
    "# re-run this cell to get updated display\n",
    "anotherMap"
   ]
  },
  {
   "cell_type": "code",
   "execution_count": 18,
   "metadata": {},
   "outputs": [],
   "source": [
    "dmsp92 = create_dmsp_image(imageID=dmsp92_ID)\n",
    "dmsp2013 = create_dmsp_image(imageID=dmsp2013_ID)\n",
    "\n",
    "# add 1992 layer (with opacity at 75%)\n",
    "anotherMap = add_image_layer(map_object=anotherMap, ee_object=dmsp92, name='DMSP NTL 1992', opacity=0.75)\n",
    "\n",
    "# add 2013 layer\n",
    "anotherMap = add_image_layer(map_object=anotherMap, ee_object=dmsp2013, name='DMSP NTL 2013', opacity=0.75)"
   ]
  },
  {
   "cell_type": "code",
   "execution_count": 19,
   "metadata": {},
   "outputs": [],
   "source": [
    "# create tile layers\n",
    "left_layer = create_tile_layer(dmsp92, 'DMSP 1992')\n",
    "right_layer = create_tile_layer(dmsp2013, 'DMSP 2013')\n",
    "\n",
    "# modify the map object to be split panel view\n",
    "anotherMap.split_map(left_layer=left_layer, right_layer=right_layer)"
   ]
  },
  {
   "cell_type": "code",
   "execution_count": null,
   "metadata": {},
   "outputs": [],
   "source": []
  }
 ],
 "metadata": {
  "hide_input": false,
  "kernelspec": {
   "display_name": "Python 3",
   "language": "python",
   "name": "python3"
  },
  "language_info": {
   "codemirror_mode": {
    "name": "ipython",
    "version": 3
   },
   "file_extension": ".py",
   "mimetype": "text/x-python",
   "name": "python",
   "nbconvert_exporter": "python",
   "pygments_lexer": "ipython3",
   "version": "3.7.7"
  },
  "toc": {
   "base_numbering": 1,
   "nav_menu": {},
   "number_sections": false,
   "sideBar": true,
   "skip_h1_title": false,
   "title_cell": "Table of Contents",
   "title_sidebar": "Contents",
   "toc_cell": false,
   "toc_position": {},
   "toc_section_display": true,
   "toc_window_display": false
  }
 },
 "nbformat": 4,
 "nbformat_minor": 4
}
