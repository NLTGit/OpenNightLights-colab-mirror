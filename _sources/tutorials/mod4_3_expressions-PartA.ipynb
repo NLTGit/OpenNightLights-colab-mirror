{
 "cells": [
  {
   "cell_type": "markdown",
   "metadata": {},
   "source": [
    "# Expressions (10 min)\n",
    "\n",
    "In the previous sub-module, {doc}`mod4_2_cell_statistics_band_math`, we executed some simple mathmatical operations on Images; however, sometimes we have multi-step operations or more complicated expressions we wish to apply.\n",
    "\n",
    "For that, we can use the `.expression()` method built-in to the Image class.\n",
    "\n",
    "In this tutorial we'll shift back to DMSP-OLS data and take a sneak peak at a process for intercalibrating DMSP data. As noted in {doc}`mod1_2_introduction_to_nighttime_light_data`, this is necessary when analyzing a DMSP-OLS time series. We get into this in much more detail in {doc}`mod3_2_DMSP-OLS_intercalibration`, but for now, we'll introduce the use of expressions in Google Earth Engine.\n",
    "\n",
    "In order to manage memory for our interactive maps when publishing, we'll split this into two notebooks, A and B -- but consider them a single exercise.\n",
    "\n",
    "**Prerequisites:**\n",
    "- Make sure you have Python, Jupyter notebooks, and `ee` and `geemap` installed and are familiar with these packages\n",
    "- If not, you'll want to review: \n",
    "    - {doc}`mod2_1_getting_started_with_Python`\n",
    "    - {doc}`mod2_2_introduction_to_Jupyter_notebooks`\n",
    "    - {doc}`mod2_3_introduction_to_GEE`\n",
    "- You may also want to try this exercise to get familiar with GEE and the Python `geemap` and `ee` libraries:\n",
    "    - {doc}`mod2_4_practical_exercise-image_visualization`\n",
    "\n",
    "**Our tasks in this exercise:**\n",
    "\n",
    "Part A:\n",
    "1. Invert a 1996 DMSP-OLS composite using built-in functions.\n",
    "\n",
    "Part B:\n",
    "\n",
    "2. Conduct an equivalent operation using `.expression()`\n",
    "3. Apply a simple polynomial formula for DMSP-OLS intercalibration co-efficients to a 1996 composite.\n",
    "\n",
    "## Invert an image with Image functions\n",
    "\n",
    "\n",
    "### Initialize map with DMSP-OLS layer\n",
    "First, as we've often done, let's initialize a map object.\n",
    "\n",
    "Here we'll center our scene on Mexico City.\n",
    "\n",
    "And we'll pull the annual DMSP-OLS nightime lights composite for 1996, using the \"stable lights\" band."
   ]
  },
  {
   "cell_type": "code",
   "execution_count": 1,
   "metadata": {},
   "outputs": [],
   "source": [
    "# import geemap and ee for our Python session\n",
    "import geemap, ee\n",
    "\n",
    "try:\n",
    "        ee.Initialize()\n",
    "except Exception as e:\n",
    "        ee.Authenticate()\n",
    "        ee.Initialize()\n",
    "\n",
    "# # initialize our map and center on Mexico City, Mexico\n",
    "lat = 19.43\n",
    "lon = -99.13\n",
    "dmspMap = geemap.Map(center=[lat,lon],zoom=6)\n",
    "dmspMap.add_basemap('SATELLITE')\n",
    "\n",
    "# get 1996 composite, apply mask, and add as layer\n",
    "dmsp1996 = ee.Image(\"NOAA/DMSP-OLS/NIGHTTIME_LIGHTS/F121996\").select('stable_lights')\n",
    "dmspMap.addLayer(dmsp1996.mask(dmsp1996), {}, \"DMSP-OLS 1996\", opacity=0.75)\n",
    "dmspMap.addLayerControl()"
   ]
  },
  {
   "cell_type": "code",
   "execution_count": 2,
   "metadata": {},
   "outputs": [
    {
     "data": {
      "application/vnd.jupyter.widget-view+json": {
       "model_id": "5915527d2b2741efb4d64b8d93217755",
       "version_major": 2,
       "version_minor": 0
      },
      "text/plain": [
       "Map(center=[19.43, -99.13], controls=(WidgetControl(options=['position'], widget=HBox(children=(ToggleButton(v…"
      ]
     },
     "metadata": {},
     "output_type": "display_data"
    }
   ],
   "source": [
    "dmspMap"
   ]
  },
  {
   "cell_type": "markdown",
   "metadata": {},
   "source": [
    "### Invert an image\n",
    "\n",
    "Let's say we want to invert an image. We know our max value (our Digital Number, if you recall) for DMSP-OLS images is 63. So if we multiply everything by -1 and then add 63. So, for example what was a DN of 63 before (the max) is now a 0 and vice versa.\n",
    "\n",
    "We can do this using the built-in functions `.multiply` and `.add()`\n",
    "\n",
    "**Note**: we selected our band, `stable_lights` above and saved to our variable `dmsp1996`, but if we didnt before we would have to do that here to explicitly apply our operation, including expression, to a specific band."
   ]
  },
  {
   "cell_type": "code",
   "execution_count": 3,
   "metadata": {},
   "outputs": [],
   "source": [
    "dmsp1996_inv = dmsp1996.multiply(-1).add(63)"
   ]
  },
  {
   "cell_type": "markdown",
   "metadata": {},
   "source": [
    "### Visualize the inverse image\n",
    "\n",
    "We'll view the transformed (inverted) image we just created and compare it to the original image with a split map.\n",
    "\n",
    "**Note:** to ensure we're comparing them on the same scale, we're using the visual parameters in the `.addLayer()` function, which allows us to do a few things to our image, such as clip the image to \"min\" and \"max\" values."
   ]
  },
  {
   "cell_type": "code",
   "execution_count": 4,
   "metadata": {},
   "outputs": [],
   "source": [
    "invMap = geemap.Map(center=[lat,lon],zoom=6)\n",
    "invMap.addLayerControl()\n",
    "\n",
    "dmsp96_tile = geemap.ee_tile_layer(dmsp1996, {'min':0,'max':63}, 'DMSP NTL 1996', opacity=0.75)\n",
    "dmsp96inv_tile = geemap.ee_tile_layer(dmsp1996_inv, {'min':0,'max':63}, 'DMSP NTL 1996 inverse', opacity=0.75)\n",
    "\n",
    "invMap.split_map(left_layer=dmsp96_tile, right_layer=dmsp96inv_tile)"
   ]
  },
  {
   "cell_type": "code",
   "execution_count": 5,
   "metadata": {},
   "outputs": [
    {
     "data": {
      "application/vnd.jupyter.widget-view+json": {
       "model_id": "4dbf22d54a134bcdad580a4c915a1714",
       "version_major": 2,
       "version_minor": 0
      },
      "text/plain": [
       "Map(center=[19.43, -99.13], controls=(WidgetControl(options=['position'], widget=HBox(children=(ToggleButton(v…"
      ]
     },
     "metadata": {},
     "output_type": "display_data"
    }
   ],
   "source": [
    "invMap"
   ]
  },
  {
   "cell_type": "markdown",
   "metadata": {},
   "source": [
    "Next we'll do this with the `expression()` method."
   ]
  },
  {
   "cell_type": "markdown",
   "metadata": {},
   "source": [
    "## References:\n",
    "```{bibliography} ../references.bib\n",
    ":filter: docname in docnames\n",
    "```"
   ]
  }
 ],
 "metadata": {
  "hide_input": false,
  "kernelspec": {
   "display_name": "Python 3",
   "language": "python",
   "name": "python3"
  },
  "language_info": {
   "codemirror_mode": {
    "name": "ipython",
    "version": 3
   },
   "file_extension": ".py",
   "mimetype": "text/x-python",
   "name": "python",
   "nbconvert_exporter": "python",
   "pygments_lexer": "ipython3",
   "version": "3.7.8"
  },
  "toc": {
   "base_numbering": 1,
   "nav_menu": {},
   "number_sections": false,
   "sideBar": true,
   "skip_h1_title": false,
   "title_cell": "Table of Contents",
   "title_sidebar": "Contents",
   "toc_cell": false,
   "toc_position": {},
   "toc_section_display": true,
   "toc_window_display": false
  }
 },
 "nbformat": 4,
 "nbformat_minor": 4
}
