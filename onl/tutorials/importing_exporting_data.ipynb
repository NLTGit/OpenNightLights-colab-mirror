{
 "cells": [
  {
   "cell_type": "markdown",
   "metadata": {},
   "source": [
    "## 7. 1 Get Nigeria vector file\n",
    "Recall from our earlier tutorial [link], that vector files are often used for creating geometrical objects, such as country boundaries. We’re going to use the GADM catalog to get a shapefile of Nigeria.\n",
    "\n",
    "<div class=\"alert alert-info\">\n",
    "A <b>shapefile</b> is a simple format for geospatial vector files. There are many formats that can be used for geospatial data, but shapefiles are very common.\n",
    "</div>\n",
    "\n",
    "<div class=\"alert alert-success\">\n",
    "<a href=\"https://gadm.org/data.html\" class=\"alert-link\">GADM (Database of Global Administrative Areas)</a> is a database of high-resolution geospatial boundaries for countries and sub-national divisions. \n",
    "</div>\n",
    "\n",
    "There are many choices of source for geopolitical boundaries and choosing this source can be an important decision, particularly in areas of the world with disputed or frequently changing boundaries. We’re comfortable using GADM as our source for this tutorial, but note that understanding what boundaries you’re using and why is a critical question in geospatial analysis.\n",
    "\n",
    "**Manual approach**\n",
    "1. Create a sub-directory (folder) in this working directory (i.e. the location where this Jupyter notebook is) and call it `data`. This is where we’ll store our shapefile.\n",
    "2. Go to the GADM website’s country search page (https://gadm.org/download_country_v3.html) and select Nigeria from the dropdown. \n",
    "3. From the Nigeria page, select “Shapefile” and download it to the `data` file you created.\n",
    "4. Unzip this file and extract it within that `data` folder. Within your `data` folder, you should have a sub-folder called `gadm36_NGA_shp` that contains files we’ll need, including the shapefile for the country border.\n",
    "5. For this exercise, we’re only interested in the shapefile for the entire country, which is designated as Administrative level 0 in GADM. (Note that Admin levels 1, 2, and 3 are subsequently smaller divisions). \n",
    "6. Let’s save this file location with a variable so that it’s easy to access it later. We’re going to use a handy Python module called pathlib to save our file location.\n",
    "\n",
    "<div class=\"alert alert-success\">\n",
    "<a href=\"https://docs.python.org/3/library/pathlib.html\" class=\"alert-link\">pathlib</a> is a Python module that helps execute operating system tasks, such as navigating or creating files and directories.\n",
    "</div>"
   ]
  },
  {
   "cell_type": "code",
   "execution_count": 6,
   "metadata": {},
   "outputs": [
    {
     "name": "stdout",
     "output_type": "stream",
     "text": [
      "this is the relative (to here) location of our shapefile:\n",
      "data/gadm36_NGA_shp/gadm36_NGA_0.shp\n"
     ]
    }
   ],
   "source": [
    "from pathlib import Path\n",
    "\n",
    "nigeria_fpath = Path('data','gadm36_NGA_shp','gadm36_NGA_0.shp')\n",
    "\n",
    "print('this is the relative (to here) location of our shapefile:')\n",
    "print(nigeria_fpath)"
   ]
  },
  {
   "cell_type": "code",
   "execution_count": null,
   "metadata": {},
   "outputs": [],
   "source": []
  }
 ],
 "metadata": {
  "hide_input": false,
  "kernelspec": {
   "display_name": "Python 3",
   "language": "python",
   "name": "python3"
  },
  "language_info": {
   "codemirror_mode": {
    "name": "ipython",
    "version": 3
   },
   "file_extension": ".py",
   "mimetype": "text/x-python",
   "name": "python",
   "nbconvert_exporter": "python",
   "pygments_lexer": "ipython3",
   "version": "3.7.7"
  },
  "toc": {
   "base_numbering": 1,
   "nav_menu": {},
   "number_sections": false,
   "sideBar": true,
   "skip_h1_title": false,
   "title_cell": "Table of Contents",
   "title_sidebar": "Contents",
   "toc_cell": false,
   "toc_position": {},
   "toc_section_display": true,
   "toc_window_display": false
  }
 },
 "nbformat": 4,
 "nbformat_minor": 4
}
