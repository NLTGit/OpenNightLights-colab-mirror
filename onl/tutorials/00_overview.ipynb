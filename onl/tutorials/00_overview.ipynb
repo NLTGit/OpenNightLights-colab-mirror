{
 "cells": [
  {
   "cell_type": "markdown",
   "metadata": {},
   "source": [
    "# Overview\n",
    "\n",
    "Welcome to the World Bank's Open Night Lights tutorial. We hope that this tutorial will help you better understand the power of remote sensing data as well as provide guidance on the tools to work with these data.\n",
    "\n",
    "These tutorials use Jupyter notebooks, which allow them to combine written and visual content with executable code. \n",
    "\n",
    "We will provide guidance on the software tools you'll need to work with these tutorials. Only a very basic understanding of Python and a standard personal computer are required.\n",
    "\n",
    "\n",
    "## Tutorial organization\n",
    "\n",
    "- **Module 1: Introduction (60 min)**\n",
    "\n",
    "- **Module 2: Band math and mosaicing (45 min)**\n",
    "\n",
    "- **Module 3: Data analysis (45 min)**\n",
    "\n",
    "- **Module 4: Charting (20 min)**\n",
    "\n",
    "- **Module 5: Final exercise (30 min)**\n",
    "\n",
    "- **Glossary**\n",
    "\n",
    "- **Technical Resources**\n",
    "\n",
    "**Total time: 200 minutes (3 hrs 20 min)**\n",
    "\n",
    "## References\n",
    "\n",
    "<div class=\"alert alert-info\">\n",
    "Throughout the tutorial, technical terms and definitions are highlighted in blue. You can also find a full list of terms in the Glossary.\n",
    "</div>\n",
    "\n",
    "<div class=\"alert alert-success\">\n",
    "Links to helpful resources and documentation on tools are in green. You can also find a full list of resources in the Technical Resources section.\n",
    "</div>\n",
    "\n",
    "<div class=\"alert alert-warning\">\n",
    "Occasionally you'll see a yellow box helping to navigate potential trouble-shooting issues.\n",
    "</div>"
   ]
  },
  {
   "cell_type": "code",
   "execution_count": null,
   "metadata": {},
   "outputs": [],
   "source": []
  }
 ],
 "metadata": {
  "hide_input": false,
  "kernelspec": {
   "display_name": "Python 3",
   "language": "python",
   "name": "python3"
  },
  "language_info": {
   "codemirror_mode": {
    "name": "ipython",
    "version": 3
   },
   "file_extension": ".py",
   "mimetype": "text/x-python",
   "name": "python",
   "nbconvert_exporter": "python",
   "pygments_lexer": "ipython3",
   "version": "3.7.7"
  },
  "toc": {
   "base_numbering": 1,
   "nav_menu": {},
   "number_sections": false,
   "sideBar": true,
   "skip_h1_title": false,
   "title_cell": "Table of Contents",
   "title_sidebar": "Contents",
   "toc_cell": false,
   "toc_position": {},
   "toc_section_display": true,
   "toc_window_display": true
  }
 },
 "nbformat": 4,
 "nbformat_minor": 4
}
