{
 "cells": [
  {
   "cell_type": "markdown",
   "metadata": {},
   "source": [
    "# DMSP-OLS annual composites in Google Earth Engine (5 min)\n",
    "\n",
    "This module looks at the various ways to transform and aggregate nighttime lights data.\n",
    "\n",
    "Two common processes are compositing and mosaicing.\n",
    "\n",
    "<div class=\"alert alert-info\">\n",
    "In the context of remote sensing, the process of <b>making a composite</b> generally refers to taking a collection of spatially overlapping images and applying an aggregate function, also known as a \"reducer\" function, to these images to create a single composite image. For example, you may want to create an annual composite for a series of images by applying a reducer function, such as calculating the median, to the images to get a single image for the year that contains the median values per pixel.\n",
    "</div>\n",
    "\n",
    "\n",
    "<div class=\"alert alert-info\">\n",
    "<b>Mosaicing</b> refers to the process of assembling different spatially located images from the same time period together to create a seamless single image. \n",
    "</div>\n",
    "\n",
    "\n",
    "In this tutorial, we'll identify and visualize annual composites in the DMSP-OLS nighttime lights series.\n",
    "\n",
    "The DMSP-OLS image collection in Google Earth Engine, <a href=\"https://eogdata.mines.edu/dmsp/downloadV4composites.html\">sourced by the Earth Observation Group</a>, Payne Institute for Public Policy, Colorado School of Mines, has been processed as a series of annual composites per year, per satellite (some years include two satellite sensors), so we dont have to compose them ourselves. See Elvidget et al. (1997) {cite}`elvidge1997mapping` for the methdology.\n",
    "\n",
    "**Prerequisites:**\n",
    "- Make sure you have Python, Jupyter notebooks, and geemap installed and are familiar with these packages\n",
    "- If not, you'll want to review: \n",
    "    - {doc}`mod1_3_getting_started_with_Python`\n",
    "    - {doc}`mod1_4_introduction_to_Jupyter_notebooks`\n",
    "    - {doc}`mod1_5_introduction_to_GEE` (you'll also need to have your GEE account created as shown in this tutorial)\n",
    "- You may also want to try this exercise to get familiar with GEE and the Python `geemap` library:\n",
    "    - {doc}`mod1_7_practical_exercise-image_visualization`\n",
    "\n",
    "**Our tasks in this exercise:**\n",
    "1. Load and inspect the DMSP-OLS nighttime lights Image Collection in GEE using `geemap`\n",
    "2. Search the reference table of DMSP-OLS satellites by year for particular annual composite (from 1996).\n",
    "3. Add the selected annual composite to a map.\n",
    "4. Add a 2nd annual composite from another year (2010) and create a slider panel to view and compare both.\n",
    "\n",
    "\n",
    "## Load and inspect the DMSP-OLS nighttime lights Image Collection\n",
    "\n",
    "### Initialize map object\n",
    "First, let's import `geemap` and initialize a geemap object centered on the greater Washington, DC area.\n",
    "We'll also add the default satellite (daytime) basemap."
   ]
  },
  {
   "cell_type": "code",
   "execution_count": 19,
   "metadata": {},
   "outputs": [],
   "source": [
    "# import geemap and ee for our Python session\n",
    "import geemap, ee\n",
    "\n",
    "try:\n",
    "        ee.Initialize()\n",
    "except Exception as e:\n",
    "        ee.Authenticate()\n",
    "        ee.Initialize()\n",
    "\n",
    "# set our initial map parameters for Washington, DC\n",
    "center_lat = 38.9072\n",
    "center_lon = -77.0369\n",
    "zoomlevel=10\n",
    "\n",
    "# initialize our map\n",
    "dmspMap = geemap.Map(center=[center_lat,center_lon], zoom=zoomlevel)\n",
    "dmspMap.add_basemap('SATELLITE')"
   ]
  },
  {
   "cell_type": "code",
   "execution_count": 15,
   "metadata": {},
   "outputs": [
    {
     "data": {
      "application/vnd.jupyter.widget-view+json": {
       "model_id": "6402c209382341d7be3182e1060607d1",
       "version_major": 2,
       "version_minor": 0
      },
      "text/plain": [
       "Map(center=[38.9072, -77.0369], controls=(ZoomControl(options=['position', 'zoom_in_text', 'zoom_in_title', 'z…"
      ]
     },
     "metadata": {},
     "output_type": "display_data"
    }
   ],
   "source": [
    "# display our map\n",
    "dmspMap"
   ]
  },
  {
   "cell_type": "markdown",
   "metadata": {},
   "source": [
    "### Get DMSP-OLS Image Collection and review meta-data and description\n",
    "\n",
    "Recall the image collection is located at: `NOAA/DMSP-OLS/NIGHTTIME_LIGHTS`"
   ]
  },
  {
   "cell_type": "code",
   "execution_count": 16,
   "metadata": {},
   "outputs": [],
   "source": [
    "dmsp = ee.ImageCollection(\"NOAA/DMSP-OLS/NIGHTTIME_LIGHTS\")"
   ]
  },
  {
   "cell_type": "markdown",
   "metadata": {},
   "source": [
    "**What is the total number of images in this collection?** \n",
    "(It spans 1992-2013, but some years contain multiple images due to satellite overlap.)\n",
    "\n",
    "In the Google Earth Engine Editor, we can just call the `.size()` method on our collection.\n",
    "\n",
    "With `geemap` we can do the same thing, however, `.size()` will produce a size \"object\", so we have to add the extra step of using the `.getInfo()` method so it prints out to our notebook.\n",
    "\n",
    "In the GEE editor (in JavaScript):\n",
    "```\n",
    "print(dmsp.size());\n",
    "```\n",
    "\n",
    "In our Python notebook:\n",
    "```\n",
    "print(dmsp.size().getInfo())\n",
    "```"
   ]
  },
  {
   "cell_type": "code",
   "execution_count": 57,
   "metadata": {},
   "outputs": [
    {
     "name": "stdout",
     "output_type": "stream",
     "text": [
      "35\n"
     ]
    }
   ],
   "source": [
    "print(dmsp.size().getInfo())"
   ]
  },
  {
   "cell_type": "markdown",
   "metadata": {},
   "source": [
    "**TIP:** We can use Python's functional string method by adding `f` and brackets to dynamically print our collection size in a sentence:"
   ]
  },
  {
   "cell_type": "code",
   "execution_count": 58,
   "metadata": {},
   "outputs": [
    {
     "name": "stdout",
     "output_type": "stream",
     "text": [
      "There are 35 images in this collection.\n"
     ]
    }
   ],
   "source": [
    "print(f\"There are {dmsp.size().getInfo()} images in this collection.\")"
   ]
  },
  {
   "cell_type": "markdown",
   "metadata": {},
   "source": [
    "**What is the date range of our collection?**\n",
    "\n",
    "GEE has a set of methods called \"Reducers,\" which do a range of functions, such as get the sum or avg value of a collection. They are quite handy. The function `Reducer.minMax()` can be used to get a date range.\n",
    "\n",
    "\n",
    "In the GEE editor (in JavaScript):\n",
    "```\n",
    "var imgrange = dmsp.reduceColumns(ee.Reducer.minMax(), [\"system:time_start\"]);\n",
    "var start = ee.Date(imgrange.get('min'));\n",
    "var end = ee.Date(imgrange.get('max'));\n",
    "print('Date range: ', start, end);\n",
    "```\n",
    "\n",
    "In our Python notebook:\n",
    "```\n",
    "imgrange = dmsp.reduceColumns(ee.Reducer.minMax(), [\"system:time_start\"])\n",
    "start\n",
    "```\n",
    "\n",
    "var range = collection.reduceColumns(ee.Reducer.minMax(), [\"system:time_start\"])\n",
    "print('Date range: ', ee.Date(range.get('min')), ee.Date(range.get('max')))"
   ]
  },
  {
   "cell_type": "code",
   "execution_count": 59,
   "metadata": {},
   "outputs": [],
   "source": [
    "imgrange = dmsp.reduceColumns(ee.Reducer.minMax(), [\"system:time_start\"])"
   ]
  },
  {
   "cell_type": "code",
   "execution_count": 69,
   "metadata": {},
   "outputs": [
    {
     "data": {
      "text/plain": [
       "datetime.datetime(1991, 12, 31, 19, 0)"
      ]
     },
     "execution_count": 69,
     "metadata": {},
     "output_type": "execute_result"
    }
   ],
   "source": [
    "datetime.fromtimestamp(ee.Date(imgrange.get('min')).getInfo()['value']/1000)"
   ]
  },
  {
   "cell_type": "code",
   "execution_count": 63,
   "metadata": {},
   "outputs": [],
   "source": [
    "from datetime import datetime\n"
   ]
  },
  {
   "cell_type": "code",
   "execution_count": 70,
   "metadata": {},
   "outputs": [
    {
     "data": {
      "text/plain": [
       "datetime.datetime(1991, 12, 31, 19, 0)"
      ]
     },
     "execution_count": 70,
     "metadata": {},
     "output_type": "execute_result"
    }
   ],
   "source": [
    "datetime.fromtimestamp(694224000000/1000)"
   ]
  },
  {
   "cell_type": "markdown",
   "metadata": {},
   "source": [
    "### Get DMSP-OLS image ID for 1992\n",
    "\n",
    "**Recall from** {doc}`mod1_2_introduction_to_nighttime_light_data`:<br><a href=\"https://ngdc.noaa.gov/eog/dmsp/downloadV4composites.html\" class=\"alert-link\">NOAA`s \n",
    "National Center for Environmental Information</a> has the reference table of DMSP satellites: \n",
    "\n",
    "\n",
    "**DMSP-OLS satellites by year**\n",
    "\n",
    "|      | F10     | F12     | F14     | F15     | F16     | F18     |\n",
    "|------|---------|---------|---------|---------|---------|---------|\n",
    "| 1992 | F101992 |         |         |         |         |         |\n",
    "| 1993 | F101993 |         |         |         |         |         |\n",
    "| 1994 | F101994 | F121994 |         |         |         |         |\n",
    "| 1995 |         | F121995 |         |         |         |         |\n",
    "| 1996 |         | F121996 |         |         |         |         |\n",
    "| 1997 |         | F121997 | F141997 |         |         |         |\n",
    "| 1998 |         | F121998 | F141998 |         |         |         |\n",
    "| 1999 |         | F121999 | F141999 |         |         |         |\n",
    "| 2000 |         |         | F142000 | F152000 |         |         |\n",
    "| 2001 |         |         | F142001 | F152001 |         |         |\n",
    "| 2002 |         |         | F142002 | F152002 |         |         |\n",
    "| 2003 |         |         | F142003 | F152003 |         |         |\n",
    "| 2004 |         |         |         | F152004 | F162004 |         |\n",
    "| 2005 |         |         |         | F152005 | F162005 |         |\n",
    "| 2006 |         |         |         | F152006 | F162006 |         |\n",
    "| 2007 |         |         |         | F152007 | F162007 |         |\n",
    "| 2008 |         |         |         |         | F162008 |         |\n",
    "| 2009 |         |         |         |         | F162009 |         |\n",
    "| 2010 |         |         |         |         |         | F182010 |\n",
    "| 2011 |         |         |         |         |         | F182011 |\n",
    "| 2012 |         |         |         |         |         | F182012 |\n",
    "| 2013 |         |         |         |         |         | F182013 |"
   ]
  },
  {
   "cell_type": "code",
   "execution_count": 6,
   "metadata": {},
   "outputs": [],
   "source": [
    "dmsp92id = \"NOAA/DMSP-OLS/NIGHTTIME_LIGHTS/F101992\""
   ]
  },
  {
   "cell_type": "markdown",
   "metadata": {},
   "source": [
    "## Create (and adjust) the Nigeria 1992 nighttime lights layer\n",
    "\n",
    "Now that we know what Image we're looking for, we can query it via the Python API and add it as a layer to that map object we created earlier."
   ]
  },
  {
   "cell_type": "code",
   "execution_count": 7,
   "metadata": {},
   "outputs": [],
   "source": [
    "# import the module ee, which was automatially installed when we installed geemap\n",
    "import ee\n",
    "\n",
    "# create an ee object for our 1992 image\n",
    "# note that for DMSP, there is only one band, so we dont need to worry about selecting a band.\n",
    "dmsp92 = ee.Image(dmsp92id)\n",
    "\n",
    "# ladd this image as a layer to our map object and call the layer: \"DMSP NTL 1992\"\n",
    "myFirstMap.addLayer(dmsp92, name='DMSP NTL 1992')"
   ]
  },
  {
   "cell_type": "code",
   "execution_count": 8,
   "metadata": {},
   "outputs": [
    {
     "data": {
      "application/vnd.jupyter.widget-view+json": {
       "model_id": "29f2068b6e304904bf0222098f582d0e",
       "version_major": 2,
       "version_minor": 0
      },
      "text/plain": [
       "Map(center=[9.0, 7.4], controls=(ZoomControl(options=['position', 'zoom_in_text', 'zoom_in_title', 'zoom_out_t…"
      ]
     },
     "metadata": {},
     "output_type": "display_data"
    }
   ],
   "source": [
    "# re-display our map\n",
    "myFirstMap"
   ]
  },
  {
   "cell_type": "markdown",
   "metadata": {},
   "source": [
    "Voila! We have a nighttime layer from the 1992 DMSP-OLS composite.\n",
    "\n",
    "**Pro tip:** We didn't need to re-type `myFirstMap` to display it again. Because we created an interactive object, we could just scroll back up to the cell with `myFirstMap` displayed above the first time and re-execute that cell to show our map with this new layer. This is handy if you want to save space and avoid duplicating displays.\n",
    "\n",
    "### Changing opacity\n",
    "You may notice it's quite dark; however. You can always toggle the layer off, but if you want to visualize the nighttime lights over the basemap, you'll want to change the opacity of your nighttime lights layer. Fortunately, this is very easy for us to do.\n",
    "\n",
    "Our `.addLayer` function allows for other visual parameters, like `opacity`. Let's give this layer an opacity of 75%:"
   ]
  },
  {
   "cell_type": "code",
   "execution_count": 9,
   "metadata": {},
   "outputs": [],
   "source": [
    "myFirstMap.addLayer(dmsp92, name='DMSP NTL 1992', opacity=0.75)"
   ]
  },
  {
   "cell_type": "markdown",
   "metadata": {},
   "source": [
    "**Note:** by giving our updated layer the same name (`DMSP NTL 1992`) we are over-writing the previous layer. If you wanted to create a new layer, this time with 50% opacity, but keep the previous layer, just change the layer name when you update, like `DMSP NTL 1992 opc. 50%`. Then you'd have both layers and you can toggle them on/off.\n",
    "\n",
    "## Creating a mask\n",
    "Another important step to \"clean\" your image will be to create a mask that filters out zero or negative values, which can happen after preprocessing for noisy and low-light pixels.\n",
    "\n",
    "This can be done when adding (or updating) a layer. The ee Image object we created, `dmsp92`, has a built-in method called `.mask()` and when we call that and pass the Image itself as an argument, we get the mask.\n",
    "\n",
    "<div class=\"alert alert-success\">\n",
    "<a href=\"https://developers.google.com/earth-engine/tutorials/tutorial_api_05#masking\">This documentation</a> gives  more info on the GEE API .mask() call and we'll get into more detail on these data processing steps later.</div>\n",
    "\n",
    "This time, let's change the name so that we create a new layer. Then we'll have a masked and non-masked 1992 layer:"
   ]
  },
  {
   "cell_type": "code",
   "execution_count": 10,
   "metadata": {},
   "outputs": [],
   "source": [
    "myFirstMap.addLayer(dmsp92.mask(dmsp92), name='DMSP NTL 1992 masked', opacity=0.75)"
   ]
  },
  {
   "cell_type": "markdown",
   "metadata": {},
   "source": [
    "## Change the basemap\n",
    "\n",
    "Go to the cell with our map object and re-run the cell, updating it. You should now have two layers (intial 1992 and masked 1992) and you can toggle between them. You can imagine that the masked layer makes it easier to inspect the underlying basemap layer.\n",
    "\n",
    "The default basemap is Open Street Maps (OSM). But if you want to analyze nighttime lights according to land build-up as seen in daylight images (such as from LANDSAT), you can change the basemap (if you're more advanced you can search GEE for your own layers of course).\n",
    "\n",
    "There are a few dozen options to choose from for geemap basemaps. While there's not documentation yet, you can see the options in the <a href=\"https://github.com/giswqs/geemap/blob/master/geemap/basemaps.py\">source code itself.</a>. Some of these have also been added to `ipyleaflet`'s library.\n",
    "\n",
    "Navigate to that source code link and review the options. Let's choos the default \"SATELLITE\" basemap which appears to be of the Google maps daytime satellite view.\n",
    "\n",
    "Because we're adding a basemap, we'll need to re-initialize our map object, add our new basemap to it, and then add the layers we created initially. If we've used variables for our parameters, this is simple to do."
   ]
  },
  {
   "cell_type": "code",
   "execution_count": 11,
   "metadata": {},
   "outputs": [],
   "source": [
    "# initial map object (this overwrites our previous object saved at this variable name)\n",
    "# centered on Abuja\n",
    "myFirstMap = geemap.Map(center=[center_lat,center_lon], zoom=zoomlevel)\n",
    "\n",
    "# add our alternate basemap\n",
    "myFirstMap.add_basemap(\"SATELLITE\")\n",
    "\n",
    "# add our 1992 (and remember to create a mask and change opacity to 75%)\n",
    "myFirstMap.addLayer(dmsp92.mask(dmsp92), name='DMSP NTL 1992', opacity=0.75)"
   ]
  },
  {
   "cell_type": "code",
   "execution_count": 12,
   "metadata": {},
   "outputs": [
    {
     "data": {
      "application/vnd.jupyter.widget-view+json": {
       "model_id": "1bf51e68fc524c758e7d83e3a9e3bbcd",
       "version_major": 2,
       "version_minor": 0
      },
      "text/plain": [
       "Map(center=[9.0, 7.4], controls=(ZoomControl(options=['position', 'zoom_in_text', 'zoom_in_title', 'zoom_out_t…"
      ]
     },
     "metadata": {},
     "output_type": "display_data"
    }
   ],
   "source": [
    "# display our map\n",
    "myFirstMap"
   ]
  },
  {
   "cell_type": "markdown",
   "metadata": {},
   "source": [
    "## Visual inspection\n",
    "\n",
    "Now you can look at nighttime layer and compare it to our satellite view basemap.\n",
    "\n",
    "Take a look around. Interact with the map you just created:\n",
    "- Toggle the satellte basemap off to compare nighttime lights to the road network as well as the satellite view.\n",
    "- Navigate to Abuja and zoom in. \n",
    "- Can you see where the overlap of the nighttime lights are with the roads and \"built up\" areas? \n",
    "- How well do they overlap? \n",
    "- Are there any surprises?\n",
    "- What about other parts of Nigeria?"
   ]
  },
  {
   "cell_type": "markdown",
   "metadata": {},
   "source": [
    "## Add a layer for DMSP-OLS 2013\n",
    "\n",
    "Now let's look at nighttime lights for 2013. \n",
    "\n",
    "To do this, we can just add a new layer to our object.\n",
    "\n",
    "Can you do this on your own?"
   ]
  },
  {
   "cell_type": "code",
   "execution_count": 11,
   "metadata": {},
   "outputs": [],
   "source": [
    "# your code here\n"
   ]
  },
  {
   "cell_type": "markdown",
   "metadata": {},
   "source": [
    "<br><br><br><br><br><br><br><br><br><br><br><br>\n",
    "\n",
    "Need some hints?"
   ]
  },
  {
   "cell_type": "code",
   "execution_count": 12,
   "metadata": {},
   "outputs": [],
   "source": [
    "# find the Image ID for DMSP-OLS 2013 and set it as a new variable (hint: the satellite's name is \"F18\")\n",
    "\n",
    "\n",
    "# create the ee object\n",
    "\n",
    "\n",
    "# add this image object as a new layer in your map\n",
    "# name it \"DMSP NTL 2013\", create a mask, and give it an opacity of 75%."
   ]
  },
  {
   "cell_type": "markdown",
   "metadata": {},
   "source": [
    "You should have been able to add a new layer and when refreshing the cell for `myFirstMap` above, see your new layer. If not, scroll down to see the code...\n",
    "\n",
    "<br><br><br><br><br><br><br><br><br><br><br><br>"
   ]
  },
  {
   "cell_type": "code",
   "execution_count": 13,
   "metadata": {},
   "outputs": [],
   "source": [
    "# find the Image ID and set it as a new variable (hint: the satellite's name is \"F18\")\n",
    "dmsp2013id = \"NOAA/DMSP-OLS/NIGHTTIME_LIGHTS/F182013\"\n",
    "\n",
    "# create the ee object\n",
    "dmsp2013 = ee.Image(dmsp2013id)\n",
    "\n",
    "# add this image as a new layer in your map object, myFirstMap\n",
    "# name it \"DMSP NTL 2013\" and give it an opacity of 75%.\n",
    "\n",
    "myFirstMap.addLayer(dmsp2013.mask(dmsp2013), name='DMSP NTL 2013', opacity=0.75)"
   ]
  },
  {
   "cell_type": "code",
   "execution_count": 17,
   "metadata": {},
   "outputs": [
    {
     "data": {
      "application/vnd.jupyter.widget-view+json": {
       "model_id": "30edc683a54d4a0c9566c7a15000215b",
       "version_major": 2,
       "version_minor": 0
      },
      "text/plain": [
       "Map(bottom=8056.0, center=[9.0, 7.4], controls=(ZoomControl(options=['position', 'zoom_in_text', 'zoom_in_titl…"
      ]
     },
     "metadata": {},
     "output_type": "display_data"
    }
   ],
   "source": [
    "# display the map object again...\n",
    "myFirstMap"
   ]
  },
  {
   "cell_type": "markdown",
   "metadata": {},
   "source": [
    "Now that you have both years, you can toggle back and forth and compare the differences.\n",
    "\n",
    "Do you see any major changes?\n",
    "\n",
    "Zoom in for a closer look at Abuja: do you see the growth from 1992 to 2013?\n",
    "\n",
    "## Create a split planel view\n",
    "\n",
    "We've added our 2013 layer to compare with 1992, but it's kind of annoying to toggle each layer. It's also hard to truly compare. If we create a split panel view with a slider, we can more easily see the difference.\n",
    "\n",
    "There is a built-in method in `geemap` for this, which makes it simple to do.\n",
    "\n",
    "We've already created our 1992 and 2013 DMSP image objects and saved those as variables, so no need to re-create. We just need to generate a tile layer with each. But remember to mask them and let's again set opacity to 75%:"
   ]
  },
  {
   "cell_type": "code",
   "execution_count": 15,
   "metadata": {},
   "outputs": [],
   "source": [
    "# generate tile layers from the ee image objects, masking and changing opacity to 75%\n",
    "dmsp92_tile = geemap.ee_tile_layer(dmsp92.mask(dmsp92), {}, 'DMSP NTL 1992', opacity=0.75)\n",
    "dmsp2013_tile = geemap.ee_tile_layer(dmsp2013.mask(dmsp2013), {}, 'DMSP NTL 2013', opacity=0.75)"
   ]
  },
  {
   "cell_type": "markdown",
   "metadata": {},
   "source": [
    "If you want to create a new map object you can, just as before and center it using the parameters for Nigeria we set before:\n",
    "\n",
    "`newMap = geemap.Map(center=[center_lat,center_lon], zoom=zoomlevel)`\n",
    "\n",
    "But you can also just alter the initial object we created, which is what we'll do. We can call the object's `.split_map()` method and set the left and panels with our 1992 and 2013 tile layers."
   ]
  },
  {
   "cell_type": "code",
   "execution_count": 16,
   "metadata": {},
   "outputs": [],
   "source": [
    "myFirstMap.split_map(left_layer=dmsp92_tile, right_layer=dmsp2013_tile)"
   ]
  },
  {
   "cell_type": "markdown",
   "metadata": {},
   "source": [
    "Now when you refresh your map object above, you'll see a slider and the 1992 nighttime lights layer on the left with 2013 on the right. \n",
    "\n",
    "Slide it over Abuja: can you see the difference in the distribution of lights in 2013 compared to 1992? \n",
    "\n",
    "Look at some other regions around Nigeria.\n",
    "\n",
    "## On your own...\n",
    "Our primary objective was to get a feel for using `geemap`, GEE, and Jupyter notebooks. Hopefully, you've now done that.\n",
    "\n",
    "Try comparing other years of DMSP-OLS data by creating new layers. Keep exploring Nigeria or try navigating (and centering your initial map object) on other parts of the world.\n",
    "\n",
    "This interactive viewer is a simple way to view changes in an area, but the real power is in conducting analysis. You can image that quantifying the difference in nighttime lights from 1992 to 2013 or calculating the slope of change across a time series could reveal areas of high or low growth and other patterns. \n",
    "\n",
    "We'll learn how to do this as well as deal with important issues of calibration. These satellite detectors, like all sensors, can change over time or have inherent biases (known as \"instrument bias\"), so it's important understand how to address these in order to do a fair comparison."
   ]
  },
  {
   "cell_type": "code",
   "execution_count": null,
   "metadata": {},
   "outputs": [],
   "source": []
  }
 ],
 "metadata": {
  "hide_input": false,
  "kernelspec": {
   "display_name": "Python 3",
   "language": "python",
   "name": "python3"
  },
  "language_info": {
   "codemirror_mode": {
    "name": "ipython",
    "version": 3
   },
   "file_extension": ".py",
   "mimetype": "text/x-python",
   "name": "python",
   "nbconvert_exporter": "python",
   "pygments_lexer": "ipython3",
   "version": "3.7.7"
  },
  "toc": {
   "base_numbering": 1,
   "nav_menu": {},
   "number_sections": false,
   "sideBar": true,
   "skip_h1_title": false,
   "title_cell": "Table of Contents",
   "title_sidebar": "Contents",
   "toc_cell": false,
   "toc_position": {},
   "toc_section_display": true,
   "toc_window_display": false
  }
 },
 "nbformat": 4,
 "nbformat_minor": 4
}
