{
 "cells": [
  {
   "cell_type": "markdown",
   "metadata": {},
   "source": [
    "# Comparing cities (5 min)\n",
    "\n",
    "Let's pull a bit of what we've learned together and compare some cities we've seen throughout the tutorial.\n",
    "\n",
    "First we'll compare time series, then we'll calculate the rate of change and compare this as well.\n",
    "\n",
    "**Prerequisites:**\n",
    "- Make sure you have Python, Jupyter notebooks, and `ee` and `geemap` installed and are familiar with these packages\n",
    "- If not, you'll want to review: \n",
    "    - {doc}`mod2_1_getting_started_with_Python`\n",
    "    - {doc}`mod2_2_introduction_to_Jupyter_notebooks`\n",
    "    - {doc}`mod2_3_introduction_to_GEE`\n",
    "- You may also want to try this exercise to get familiar with GEE and the Python `geemap` and `ee` libraries:\n",
    "    - {doc}`mod2_4_practical_exercise-image_visualization`\n",
    "\n",
    "**Our tasks in this exercise:**\n",
    "1. Get VIIRS-DNB data for 2014-2020 and geometries for Berlin, Seoul, and Sao Paulo\n",
    "2. Compare time series\n",
    "3. Calculate rate of change and compare with histograms\n",
    "\n",
    "## Get VIIRS data and city geometries\n",
    "\n",
    "We'll get an ImageCollection of VIIRS-DNB (stray-light corrected) for all available months. And the geometries for our select cities."
   ]
  },
  {
   "cell_type": "code",
   "execution_count": 1,
   "metadata": {},
   "outputs": [],
   "source": [
    "import geemap, ee\n",
    "import pandas as pd\n",
    "import numpy as np\n",
    "import matplotlib.pyplot as plt\n",
    "import seaborn as sns\n",
    "import warnings\n",
    "warnings.filterwarnings('ignore')\n",
    "\n",
    "try:\n",
    "        ee.Initialize()\n",
    "except Exception as e:\n",
    "        ee.Authenticate()\n",
    "        ee.Initialize()\n",
    "\n",
    "viirs = ee.ImageCollection(\"NOAA/VIIRS/DNB/MONTHLY_V1/VCMSLCFG\").select('avg_rad')\n",
    "      \n",
    "select_cities = ['Berlin','Seoul','Sao Paulo']\n",
    "city_geoms = ee.FeatureCollection(\"FAO/GAUL/2015/level1\").filter(ee.Filter.inList('ADM1_NAME', select_cities))"
   ]
  },
  {
   "cell_type": "markdown",
   "metadata": {},
   "source": [
    "We'll define a reducer for our collection of city geometries.\n",
    "\n",
    "There's some data wrangling below to get our data structured properly. See if you can understand what's happening...but don't worry if you can't and keep moving on!"
   ]
  },
  {
   "cell_type": "code",
   "execution_count": 2,
   "metadata": {},
   "outputs": [],
   "source": [
    "# function to reduce our collection of geometries\n",
    "def get_city_avg_rad(img):\n",
    "    return img.reduceRegions(reducer=ee.Reducer.mean(), collection=city_geoms, scale=500)\n",
    "\n",
    "# function to get individual img dates\n",
    "def get_date(img):\n",
    "    return img.set('date', img.date().format())\n",
    "\n",
    "# map these functions to our image collection\n",
    "reduced_cities = viirs.map(get_city_avg_rad).flatten()\n",
    "dates = viirs.map(get_date)\n",
    "\n",
    "# get lists\n",
    "key_cols = ['ADM1_NAME','mean']\n",
    "cities_list = reduced_cities.reduceColumns(ee.Reducer.toList(len(key_cols)), key_cols).values()\n",
    "dates_list = dates.reduceColumns(ee.Reducer.toList(1), ['date']).values()\n",
    "\n",
    "# some numpy maneuvers to structure our data\n",
    "df = pd.DataFrame(np.asarray(cities_list.getInfo()).squeeze(), columns=key_cols)\n",
    "dates = np.asarray(dates_list.getInfo()).squeeze()\n",
    "\n",
    "for city in select_cities:\n",
    "    df.loc[df['ADM1_NAME']==city,'dates'] = dates\n",
    "    \n",
    "# as we've done before, convert date and set index\n",
    "df['dates'] = pd.to_datetime(df['dates'])\n",
    "df.set_index('dates', inplace=True)\n",
    "\n",
    "# we'll also convert our mean datatype to float\n",
    "df['mean'] = df['mean'].astype(float)"
   ]
  },
  {
   "cell_type": "code",
   "execution_count": 3,
   "metadata": {},
   "outputs": [
    {
     "data": {
      "text/html": [
       "<div>\n",
       "<style scoped>\n",
       "    .dataframe tbody tr th:only-of-type {\n",
       "        vertical-align: middle;\n",
       "    }\n",
       "\n",
       "    .dataframe tbody tr th {\n",
       "        vertical-align: top;\n",
       "    }\n",
       "\n",
       "    .dataframe thead th {\n",
       "        text-align: right;\n",
       "    }\n",
       "</style>\n",
       "<table border=\"1\" class=\"dataframe\">\n",
       "  <thead>\n",
       "    <tr style=\"text-align: right;\">\n",
       "      <th></th>\n",
       "      <th>ADM1_NAME</th>\n",
       "      <th>mean</th>\n",
       "    </tr>\n",
       "    <tr>\n",
       "      <th>dates</th>\n",
       "      <th></th>\n",
       "      <th></th>\n",
       "    </tr>\n",
       "  </thead>\n",
       "  <tbody>\n",
       "    <tr>\n",
       "      <th>2014-01-01</th>\n",
       "      <td>Sao Paulo</td>\n",
       "      <td>1.792589</td>\n",
       "    </tr>\n",
       "    <tr>\n",
       "      <th>2014-01-01</th>\n",
       "      <td>Berlin</td>\n",
       "      <td>18.209309</td>\n",
       "    </tr>\n",
       "    <tr>\n",
       "      <th>2014-01-01</th>\n",
       "      <td>Seoul</td>\n",
       "      <td>48.085756</td>\n",
       "    </tr>\n",
       "    <tr>\n",
       "      <th>2014-02-01</th>\n",
       "      <td>Sao Paulo</td>\n",
       "      <td>1.764743</td>\n",
       "    </tr>\n",
       "    <tr>\n",
       "      <th>2014-02-01</th>\n",
       "      <td>Berlin</td>\n",
       "      <td>15.194246</td>\n",
       "    </tr>\n",
       "    <tr>\n",
       "      <th>...</th>\n",
       "      <td>...</td>\n",
       "      <td>...</td>\n",
       "    </tr>\n",
       "    <tr>\n",
       "      <th>2020-04-01</th>\n",
       "      <td>Berlin</td>\n",
       "      <td>15.768813</td>\n",
       "    </tr>\n",
       "    <tr>\n",
       "      <th>2020-04-01</th>\n",
       "      <td>Seoul</td>\n",
       "      <td>50.324428</td>\n",
       "    </tr>\n",
       "    <tr>\n",
       "      <th>2020-05-01</th>\n",
       "      <td>Sao Paulo</td>\n",
       "      <td>1.912650</td>\n",
       "    </tr>\n",
       "    <tr>\n",
       "      <th>2020-05-01</th>\n",
       "      <td>Berlin</td>\n",
       "      <td>15.344190</td>\n",
       "    </tr>\n",
       "    <tr>\n",
       "      <th>2020-05-01</th>\n",
       "      <td>Seoul</td>\n",
       "      <td>41.978478</td>\n",
       "    </tr>\n",
       "  </tbody>\n",
       "</table>\n",
       "<p>231 rows × 2 columns</p>\n",
       "</div>"
      ],
      "text/plain": [
       "            ADM1_NAME       mean\n",
       "dates                           \n",
       "2014-01-01  Sao Paulo   1.792589\n",
       "2014-01-01     Berlin  18.209309\n",
       "2014-01-01      Seoul  48.085756\n",
       "2014-02-01  Sao Paulo   1.764743\n",
       "2014-02-01     Berlin  15.194246\n",
       "...               ...        ...\n",
       "2020-04-01     Berlin  15.768813\n",
       "2020-04-01      Seoul  50.324428\n",
       "2020-05-01  Sao Paulo   1.912650\n",
       "2020-05-01     Berlin  15.344190\n",
       "2020-05-01      Seoul  41.978478\n",
       "\n",
       "[231 rows x 2 columns]"
      ]
     },
     "execution_count": 3,
     "metadata": {},
     "output_type": "execute_result"
    }
   ],
   "source": [
    "df"
   ]
  },
  {
   "cell_type": "markdown",
   "metadata": {},
   "source": [
    "## Compare time series\n",
    "\n",
    "We can plot our time series. Because we chose a scaled metric (mean radiance, instead of SOL), these data are standardized and we can compare them directly."
   ]
  },
  {
   "cell_type": "code",
   "execution_count": 4,
   "metadata": {},
   "outputs": [
    {
     "data": {
      "image/png": "[encoded data removed]",
      "text/plain": [
       "<Figure size 1080x504 with 1 Axes>"
      ]
     },
     "metadata": {
      "needs_background": "light"
     },
     "output_type": "display_data"
    }
   ],
   "source": [
    "fig, ax = plt.subplots(figsize=(15,7))\n",
    "\n",
    "# we'll draw a plot for each city in our list\n",
    "for city in select_cities:\n",
    "    data = df.loc[df['ADM1_NAME']==city,:]\n",
    "    sns.lineplot(data=data, x=data.index, y='mean', label=city, ax=ax)\n",
    "\n",
    "# we'll set the labels and title\n",
    "ax.set_ylabel('mean radiance',fontsize=20)\n",
    "ax.set_xlabel('date',fontsize=20)\n",
    "ax.legend(fontsize=20)\n",
    "ax.set_title(f'Monthly mean radiance',fontsize=20);"
   ]
  },
  {
   "cell_type": "markdown",
   "metadata": {},
   "source": [
    "Comparing these three cities, we first see the order of magnitude, such that Seoul has the brightest avg radiance (per pixel per month), followed by Berlin, with Sao Paulo much lower. Part of this could certainly be attributed to the size of the geometry compared to built-up area, but it's interesting to note.\n",
    "\n",
    "We dont see dramatic trends of growth or decline for any of these cities.\n",
    "\n",
    "But can we quantify this? \n",
    "\n",
    "## Calculate rate of change\n",
    "\n",
    "We'll get the rate of change for these cities to quantify any general trends from the first month to the last of the series.\n",
    "\n",
    "Becuase we already have our data in a dataframe, we could just calculate the rate of change based on our avg radiance per city...but that's losing a lot of information. \n",
    "\n",
    "The advantage of calculating rate of change directly on the raster files, as we did in {doc}`mod4_4_rate_of_change` is that we get the per-pixel rate of change directly -- and then we reduce our data to an average or a sum for our region in order to plot or analyze it. \n",
    "\n",
    "This may seem like a subtle change, but for larger areas (including large cities), there might be some pixels that see dramatic change over time that are important to calculate before aggregating everything to a citywide average. Calculating the citywide average first for each time period may cause us to lose sensitivity to such spatial dynamics.\n",
    "\n",
    "### Get rate of change\n",
    "\n",
    "With GEE its quite easy to reduce our ImageCollection to a representation of the rate of change. Then we can either examine the plot, or perhaps make histograms like we did in {doc}`mod5_2_histograms`.\n",
    "\n",
    "First lets get the rate of change."
   ]
  },
  {
   "cell_type": "code",
   "execution_count": 5,
   "metadata": {},
   "outputs": [
    {
     "name": "stdout",
     "output_type": "stream",
     "text": [
      "series covers 77 months\n"
     ]
    }
   ],
   "source": [
    "# get first image by sorting by image \"time_end\"\n",
    "first_img = viirs.sort('system:time_end').first()\n",
    "\n",
    "# get last image by reverse sorting (ascending=False)\n",
    "last_img = viirs.sort('system:time_end',False).first()\n",
    "\n",
    "# get total periods (months) in our series\n",
    "periods = int(viirs.size().getInfo())\n",
    "\n",
    "print(f'series covers {periods} months')"
   ]
  },
  {
   "cell_type": "code",
   "execution_count": 6,
   "metadata": {},
   "outputs": [],
   "source": [
    "viirs_slope = (last_img.subtract(first_img)).divide(periods)"
   ]
  },
  {
   "cell_type": "markdown",
   "metadata": {},
   "source": [
    "### Let's compare cities by getting a histogram that represents the distribution of the change in nightime lights per month (rate of change) for each city.\n",
    "\n",
    "We'll loop through our cities and create a Python dictionary that holds each cities data array."
   ]
  },
  {
   "cell_type": "code",
   "execution_count": 7,
   "metadata": {},
   "outputs": [
    {
     "name": "stdout",
     "output_type": "stream",
     "text": [
      "Sao Paulo failed due to pixel limits\n"
     ]
    }
   ],
   "source": [
    "roc_data = {}\n",
    "for city in select_cities:\n",
    "    try:\n",
    "        geom = city_geoms.filter(ee.Filter.eq('ADM1_NAME',city)).geometry()\n",
    "        roc_data[city] = np.array(viirs_slope.sampleRectangle(region=geom).get('avg_rad').getInfo())\n",
    "    except:\n",
    "        print(f\"{city} failed due to pixel limits\")"
   ]
  },
  {
   "cell_type": "markdown",
   "metadata": {},
   "source": [
    "### Plot probability density using seaborn Kernel Density plots\n",
    "\n",
    "We'll also use the logscale as we did before."
   ]
  },
  {
   "cell_type": "code",
   "execution_count": null,
   "metadata": {},
   "outputs": [],
   "source": [
    "fig, ax = plt.subplots(figsize=(15,5))\n",
    "\n",
    "# we'll iterate through each key-value pair in our dictionary to plot\n",
    "for k,v in roc_data.items():\n",
    "    sns.kdeplot(np.log(v).flatten(), label=k,legend=True, ax=ax)\n",
    "\n",
    "ax.legend(fontsize=20)\n",
    "ax.set_title('Distribution of the rate of change from 2014 to May 2020', fontsize=20);"
   ]
  },
  {
   "cell_type": "markdown",
   "metadata": {},
   "source": [
    "Both cities are showing declines, interestingly, although the decline in nighttime lights for Berlin is sharper and larger than that of Seoul it appears...and Seoul has a wider variance with more pixels appearing to show some positive growth as well.\n",
    "\n",
    "Let's take a quick look at the rasters..."
   ]
  },
  {
   "cell_type": "code",
   "execution_count": null,
   "metadata": {},
   "outputs": [],
   "source": [
    "city='Berlin'\n",
    "berlinMap = geemap.Map()\n",
    "geom = city_geoms.filter(ee.Filter.eq('ADM1_NAME',city)).geometry()\n",
    "berlinMap.centerObject(geom, zoom=10)\n",
    "berlinMap.addLayer(viirs_slope.clip(geom), {'min':-1.,'max':1},city,opacity=0.7)\n",
    "berlinMap"
   ]
  },
  {
   "cell_type": "code",
   "execution_count": null,
   "metadata": {},
   "outputs": [],
   "source": [
    "city='Seoul'\n",
    "seoulMap = geemap.Map()\n",
    "geom = city_geoms.filter(ee.Filter.eq('ADM1_NAME',city)).geometry()\n",
    "seoulMap.centerObject(geom, zoom=11)\n",
    "seoulMap.addLayer(viirs_slope.clip(geom), {'min':-1.,'max':1},city,opacity=0.7)\n",
    "seoulMap"
   ]
  },
  {
   "cell_type": "code",
   "execution_count": null,
   "metadata": {},
   "outputs": [],
   "source": [
    "city='Sao Paulo'\n",
    "spMap = geemap.Map()\n",
    "geom = city_geoms.filter(ee.Filter.eq('ADM1_NAME',city)).geometry()\n",
    "spMap.centerObject(geom, zoom=6)\n",
    "spMap.addLayer(viirs_slope.clip(geom), {'min':-1.,'max':1},city,opacity=0.7)\n",
    "spMap"
   ]
  },
  {
   "cell_type": "markdown",
   "metadata": {},
   "source": [
    "With higher resolution you can see differentation at the neighborhood...and all cities seem to show various patterns of growth and decline, perhaps indicating pockets of construction or development.\n",
    "\n",
    "We're using May 2020 as our most recent image -- and this is very likely impacted by the effects of COVID-19. Would looking at the rate of change for these cities using different time periods make any difference?\n",
    "\n",
    "See if you can do some investigation into the trends yourself!"
   ]
  },
  {
   "cell_type": "markdown",
   "metadata": {},
   "source": [
    "## References:\n",
    "```{bibliography} ../references.bib\n",
    ":filter: docname in docnames\n",
    "```"
   ]
  },
  {
   "cell_type": "code",
   "execution_count": null,
   "metadata": {},
   "outputs": [],
   "source": []
  }
 ],
 "metadata": {
  "hide_input": false,
  "kernelspec": {
   "display_name": "Python 3",
   "language": "python",
   "name": "python3"
  },
  "language_info": {
   "codemirror_mode": {
    "name": "ipython",
    "version": 3
   },
   "file_extension": ".py",
   "mimetype": "text/x-python",
   "name": "python",
   "nbconvert_exporter": "python",
   "pygments_lexer": "ipython3",
   "version": "3.7.8"
  },
  "toc": {
   "base_numbering": 1,
   "nav_menu": {},
   "number_sections": false,
   "sideBar": true,
   "skip_h1_title": false,
   "title_cell": "Table of Contents",
   "title_sidebar": "Contents",
   "toc_cell": false,
   "toc_position": {},
   "toc_section_display": true,
   "toc_window_display": false
  }
 },
 "nbformat": 4,
 "nbformat_minor": 4
}
