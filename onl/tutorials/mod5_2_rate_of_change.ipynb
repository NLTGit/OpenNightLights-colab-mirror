{
 "cells": [
  {
   "cell_type": "markdown",
   "metadata": {},
   "source": [
    "# Calculate rate of change (5 min)\n",
    "\n",
    "Nighttime lights can be useful for change detection. A basic measure of change over time is to calculate the per-pixel rate of change or the slope (sometimes referred to as the \"Slope of Change\"), which measures the change in rise (measures of radiance) over the change in run (time).\n",
    "\n",
    "In this short exercise, we'll calculate the rate of change looking at examples for both DMSP-OLS and VIIRS-DNB.\n",
    "\n",
    "**Our tasks in this exercise:**\n",
    "1. Calculate the rate of change in DMSP-OLS from 2000 to 2007\n",
    "2. Calculate the rate of change in VIIRS-DNB from January 2014 to January 2020\n",
    "\n",
    "## DMSP-OLS rate of change 2000 to 2007\n",
    "\n",
    "### Selecting the satellite\n",
    "You'll recall from previous tutorials {doc}`mod3_1_DMSP-OLS_annual_composites` that the DMSP-OLS data are available in GEE as annual composites.\n",
    "\n",
    "We'll get that `ImageCollection` and filter it on our dates, 2000 to 2007."
   ]
  },
  {
   "cell_type": "code",
   "execution_count": 1,
   "metadata": {},
   "outputs": [
    {
     "name": "stdout",
     "output_type": "stream",
     "text": [
      "For 8 years, we have a time series of 16 annual composites.\n"
     ]
    }
   ],
   "source": [
    "# import geemap and ee for our Python session\n",
    "import geemap, ee\n",
    "\n",
    "try:\n",
    "        ee.Initialize()\n",
    "except Exception as e:\n",
    "        ee.Authenticate()\n",
    "        ee.Initialize()\n",
    "\n",
    "# retrieve DMSP-OLS data, filtered to 2000 to 2007 (inclusive)\n",
    "dmsp = ee.ImageCollection(\"NOAA/DMSP-OLS/NIGHTTIME_LIGHTS\").filterDate('2000-01-01','2007-12-31')\n",
    "\n",
    "print(f\"For {2008-2000} years, we have a time series of {dmsp.size().getInfo()} annual composites.\")"
   ]
  },
  {
   "cell_type": "markdown",
   "metadata": {},
   "source": [
    "Wait, if we're using annual composites, we do we have 16 images for 8 years (2000 thru 2008)? \n",
    "\n",
    "Recall the DMSP program has a series of satellites that overlapped. {doc}`mod1_2_introduction_to_nightime_light_data`. \n",
    "\n",
    "**Intercalibration**: since the different satellite sensors are not calibrated on-board (also discussed in Module 1), it is *very ill-advised* to compare DMSP-OLS data across satellites without performing calibration. We did this in {doc}`mod5_1_DMSP-OLS_intercalibration`, but for this tutorial we'll just stick with a single satellite.\n",
    "\n",
    "Satellite F15 was operational from 2000 to 2007 so we'll focus on data it collected for now. Satellites F14 and F16 also overlapped those years, which is why we have more images than years. \n",
    "\n",
    "We'll filter our collection to only include images from F15.\n",
    "\n",
    "We can do this by using the `.filterMetadata()` function on our `ImageCollection` to filter for images that contain only `F15` in their name (you'll recall the naming convention for DMSP-OLS includes the satellite name as prefix for the image."
   ]
  },
  {
   "cell_type": "code",
   "execution_count": 2,
   "metadata": {},
   "outputs": [
    {
     "name": "stdout",
     "output_type": "stream",
     "text": [
      "For 8 years, we have a time series of 8 annual composites.\n"
     ]
    }
   ],
   "source": [
    "# retrieve DMSP-OLS data, filtered to 2000 to 2007 (inclusive) AND filtered for F15 satellite images only\n",
    "# we filter on the property name \"system:index\" - image name -- and get those that contain \"F15\"\n",
    "dmsp = ee.ImageCollection(\"NOAA/DMSP-OLS/NIGHTTIME_LIGHTS\").filterDate(\n",
    "    '2000-01-01','2007-12-31').filterMetadata(\n",
    "    'system:index','contains','F15')\n",
    "\n",
    "print(f\"For {2008-2000} years, we have a time series of {dmsp.size().getInfo()} annual composites.\")"
   ]
  },
  {
   "cell_type": "markdown",
   "metadata": {},
   "source": [
    "Excellent! Now we have only F15 images for 2000-2007.\n",
    "\n",
    "### Rise over run\n",
    "\n",
    "The rate of change is the slope, i.e. rise/run. Our run (in years) is 8. Our rise will be the difference from in Digital Number (DN) values for the last image relative to the first.\n",
    "\n",
    "To calculate the rise, we'll get the first and last images in our collection. We can explicitly select these since we know the names (\"F152000\" and \"F152007\"), but we can also do so programmatically, which is good practice so this operation can be generalized to other series without needing to reference the exact image name.\n",
    "\n",
    "As pulled from GEE, our ImageCollection should be sorted by date in ascending order already, but we'll sort it anyway since it's a good idea never to assume any order or structure to data blindly!"
   ]
  },
  {
   "cell_type": "code",
   "execution_count": 3,
   "metadata": {},
   "outputs": [],
   "source": [
    "# sort by image \"time_end\"\n",
    "first_img = dmsp.sort('system:time_end').first()\n",
    "\n",
    "# reverse sort so that last=first\n",
    "last_img = dmsp.sort('system:time_end',False).first()"
   ]
  },
  {
   "cell_type": "markdown",
   "metadata": {},
   "source": [
    "Now we subtract our initial values (first image) from our last to get the gain (or loss) in 2007 relative to 2000, and divide by our run of 8 years to get the annualized rate of change.\n",
    "\n",
    "We can use simple math operations as we learned in {doc}`mod3_4_cell_statistics_band_math`.\n",
    "\n",
    "**Note A: we'll select the `stable_lights` band for this calculation.**\n",
    "\n",
    "First we'll get the difference and then we'll divide by 8 to get the annualized rate.\n",
    "\n",
    "Note that in this form, the operations are performed sequentially, not according to the order of ops. So the difference will be calculated first and then the quotient from that.\n",
    "\n",
    "It doesnt hurt to set that first operation in parenthesis anyway (last minus first); however, so that the order of operations is explicitly clear to anywone following this."
   ]
  },
  {
   "cell_type": "code",
   "execution_count": 4,
   "metadata": {},
   "outputs": [],
   "source": [
    "dmsp_slope = (last_img.select('stable_lights').subtract(first_img.select('stable_lights'))).divide(8)"
   ]
  },
  {
   "cell_type": "markdown",
   "metadata": {},
   "source": [
    "### Let's initialize a map centered on Shanghai, China.\n",
    "\n",
    "We'll add our rate of change layer.\n",
    "\n",
    "We'll also set some visualization parameters to help the view. We'll set a color palette of red-blue (red=positive change, blue=negative change). We know the min / max DN value is -63 and 63 respectively, and since we're dividing by 8, we'll scale this by 8 and set our min/max to -8 and 8 respectively. \n",
    "\n",
    "This will \"stretch\" our color gradient so we can see the change more clearly."
   ]
  },
  {
   "cell_type": "code",
   "execution_count": 9,
   "metadata": {},
   "outputs": [
    {
     "data": {
      "application/vnd.jupyter.widget-view+json": {
       "model_id": "e9466c7087f34da3929ff3e3dd5950e0",
       "version_major": 2,
       "version_minor": 0
      },
      "text/plain": [
       "Map(center=[31.18, 121.49], controls=(WidgetControl(options=['position'], widget=HBox(children=(ToggleButton(v…"
      ]
     },
     "metadata": {},
     "output_type": "display_data"
    }
   ],
   "source": [
    "# center on Shanghai\n",
    "lat = 31.18\n",
    "lon = 121.49\n",
    "\n",
    "dmspMap = geemap.Map(center=[lat,lon],zoom=8)\n",
    "\n",
    "viz_params = {'min':-8,\n",
    "             'max':8,\n",
    "             'palette':['1d4877','1b8a5a','f68838','ee3e32']}\n",
    "\n",
    "# make it opaque so we can see underlying basemap\n",
    "dmspMap.addLayer(dmsp_slope, viz_params, '2000-2007 DMSP-OLS annual rate of change',opacity=.66)\n",
    "dmspMap"
   ]
  },
  {
   "cell_type": "markdown",
   "metadata": {},
   "source": [
    "The red/orange indicates increased lights from 2000 to 2007, whereas green/blue indicates relative decrease. In this color scheme, zero change is green.\n",
    "\n",
    "###  DMSP-OLS saturation\n",
    "Note that the city center is green -- this is likely because we know that the DMSP-OLS data is limited and easily saturated. So bright areas are \"maxed\" out at a DN of 63 in both 2000 as well as 2007. If that's the case, we wouldnt see any change. So it's more likely that the urban center of Shanghai is not showing change because of saturation and not because there actually was no true change. This is a known limitation to DMSP-OLS data (even after calibration), and something to be wary of.\n",
    "\n",
    "But you can certainly see the increase in lights in the areas around the city and suburbs!\n",
    "\n",
    "## VIIRS-DNB rate of change 2014 to 2020\n",
    "\n",
    "Now let's calculate the rate of change for the VIIRS-DNB data. These data are calibrated, so we can more confidently compare across years without additional adjustments. These data are also provided in GEE in monthly composites. \n",
    "\n",
    "For a simple rate of change calculation, this doesnt change much and we can show the rate in months instead of years.\n",
    "\n",
    "First, we'll get the collection filtered on our dates using the stray-light collected monthly composites.\n",
    "\n",
    "We only have one satellite series, so overlapping data is not an issue for the VIIRS collection."
   ]
  },
  {
   "cell_type": "code",
   "execution_count": 6,
   "metadata": {},
   "outputs": [
    {
     "name": "stdout",
     "output_type": "stream",
     "text": [
      "For 73 months, we have a time series of 73 monthly composites.\n"
     ]
    }
   ],
   "source": [
    "viirs = ee.ImageCollection(\"NOAA/VIIRS/DNB/MONTHLY_V1/VCMSLCFG\").filterDate(\n",
    "    '2014-01-01','2020-01-31')\n",
    "\n",
    "print(f\"For {(2020-2014)*12+1} months, we have a time series of {viirs.size().getInfo()} monthly composites.\")"
   ]
  },
  {
   "cell_type": "markdown",
   "metadata": {},
   "source": [
    "Now we'll get the first image, the last image and calculate our monthly rate of change.\n",
    "\n",
    "We'll use the `avg_rad` band."
   ]
  },
  {
   "cell_type": "code",
   "execution_count": 7,
   "metadata": {},
   "outputs": [],
   "source": [
    "# sort by image \"time_end\"\n",
    "first_img = viirs.sort('system:time_end').first()\n",
    "\n",
    "# reverse sort so that last=first\n",
    "last_img = viirs.sort('system:time_end',False).first()\n",
    "\n",
    "# get rate of change (diff over # months: 73)\n",
    "viirs_slope = (last_img.select('avg_rad').subtract(first_img.select('avg_rad'))).divide(73)"
   ]
  },
  {
   "cell_type": "markdown",
   "metadata": {},
   "source": [
    "And we'll visualize this with the same color palette as DMSP-OLS, but scale the min/max values based on our VIIRS units (radiance vis-a-vis Watts/cm2/sr) and the divisor (73 months) in mind: min=-1,max=1"
   ]
  },
  {
   "cell_type": "code",
   "execution_count": 12,
   "metadata": {},
   "outputs": [
    {
     "data": {
      "application/vnd.jupyter.widget-view+json": {
       "model_id": "6734b7e76f9a4da4818d067ca904e05d",
       "version_major": 2,
       "version_minor": 0
      },
      "text/plain": [
       "Map(center=[31.18, 121.49], controls=(WidgetControl(options=['position'], widget=HBox(children=(ToggleButton(v…"
      ]
     },
     "metadata": {},
     "output_type": "display_data"
    }
   ],
   "source": [
    "viirsMap = geemap.Map(center=[lat,lon],zoom=8)\n",
    "\n",
    "viz_params = {'min':-1,\n",
    "             'max':1,\n",
    "             'palette':['1d4877','1b8a5a','f68838','ee3e32']}\n",
    "\n",
    "# make it opaque so we can see underlying basemap\n",
    "viirsMap.addLayer(viirs_slope, viz_params, '2014-2020 VIIRS-DNB monthly rate of change',opacity=.75)\n",
    "viirsMap"
   ]
  },
  {
   "cell_type": "markdown",
   "metadata": {},
   "source": [
    "Cool!\n",
    "\n",
    "We already see a couple noticeable things:\n",
    "1. The spatial resolution of VIIRS is much better than DMSP-OLS. We can actually see change at the neighborhood level, including road infrastructure!\n",
    "\n",
    "2. Saturation is not an issue for VIIRS-DNB data (if you see anything \"maxed\" our here, that is just because of our choice in min/max values for visualization purposes). We're able to see dynamics in nighttime lights almost everywhere.\n",
    "\n",
    "## Bonus, on your own: quantifying the rate of change\n",
    "We've calculated the rate of change and visualized this. But you can imagine that quantifying into numbers you can analyze can provide a lot of useful information, such as comparing the growth of two regions over the same period of time -- or the growth of a single region compared across two separate periods of time.\n",
    "\n",
    "To do this, you'll want to calculate some aggregate measure or zonal statistic, such as the Sum of Lights (SOL) for a region. Can you do this on your own for a specific region and get the rate of change in SOL for a region?\n",
    "\n",
    "Everything you need to do this you've already learned. HINT: check out {doc}`mod3_4_cell_statistics_band_math`"
   ]
  },
  {
   "cell_type": "markdown",
   "metadata": {},
   "source": [
    "## References:\n",
    "```{bibliography} ../references.bib\n",
    ":filter: docname in docnames\n",
    "```"
   ]
  }
 ],
 "metadata": {
  "hide_input": false,
  "kernelspec": {
   "display_name": "Python 3",
   "language": "python",
   "name": "python3"
  },
  "language_info": {
   "codemirror_mode": {
    "name": "ipython",
    "version": 3
   },
   "file_extension": ".py",
   "mimetype": "text/x-python",
   "name": "python",
   "nbconvert_exporter": "python",
   "pygments_lexer": "ipython3",
   "version": "3.7.7"
  },
  "toc": {
   "base_numbering": 1,
   "nav_menu": {},
   "number_sections": false,
   "sideBar": true,
   "skip_h1_title": false,
   "title_cell": "Table of Contents",
   "title_sidebar": "Contents",
   "toc_cell": false,
   "toc_position": {},
   "toc_section_display": true,
   "toc_window_display": false
  }
 },
 "nbformat": 4,
 "nbformat_minor": 4
}
