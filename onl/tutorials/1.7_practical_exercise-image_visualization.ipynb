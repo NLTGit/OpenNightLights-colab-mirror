{
 "cells": [
  {
   "cell_type": "markdown",
   "metadata": {},
   "source": [
    "# Module 1: Introduction\n",
    "\n",
    "# 7. Practical exercise: image visualization (10 min)\n",
    "\n",
    "When you’re working with maps and images, what is the first thing you want to do? Display it! In this exercise, we’re going to display nighttime lights for Nigeria in 1992 and 2013.\n",
    "\n",
    "Our tasks:\n",
    "1. Use the Python geemap module to create an interactive map object in our Jupyter Notebook\n",
    "2. Query DMSP-OLS data for 1992 in GEE and add it to our map object\n",
    "3. Display Nigeria nighttime lights for 1992\n",
    "4. Visual inspection\n",
    "5. Repeat steps 2 and 3 for Nigeria in 2013\n",
    "\n",
    "\n",
    "## 7. 1 Using geemap, we'll set up an interactive map object\n",
    "\n",
    "Let's first make sure `geemap` and it's dependencies are working properly.\n",
    "\n",
    "Later in this tutorial, we're going to show you how to import other geospatial data files, such as the boundaries to countries or sub-national regions, to help you analyze nighttime lights.\n",
    "\n",
    "For now, we're going to focus our scene on Nigeria, but we'll do that simply by centering our map on the capital city of Abuja, which we can find at approximately, latitude: 9.0 and longitude: 7.4 and we'll set our map zoom factor to 6 to include the entire country in our view. You should get in the habit of saving parameters as variables. This makes it easy to re-use your code for different values."
   ]
  },
  {
   "cell_type": "code",
   "execution_count": 31,
   "metadata": {},
   "outputs": [],
   "source": [
    "# import geemap for our Python session\n",
    "import geemap\n",
    "\n",
    "# set our initial map parameters for Abuja, Nigeria\n",
    "center_lat = 9.0\n",
    "center_lon = 7.4\n",
    "zoomlevel=6\n",
    "\n",
    "# initialize our map\n",
    "myFirstMap = geemap.Map(center=[center_lat,center_lon], zoom=zoomlevel)"
   ]
  },
  {
   "cell_type": "markdown",
   "metadata": {},
   "source": [
    "<div class=\"alert alert-warning\">\n",
    "Recall that to use GEE you need an account. The first time you execute this cell, you'll be prompted to enter your authentication code. Another browser window will open where you can select the Google account you have associated with your GEE account. Copy the authentication code provided and enter it in the input box provided in this notebook and execute the cell and you should be ready to go. You should not need to do this again on this computer. </div>\n",
    "\n",
    "Because this is an interactive object, when we add layers (as we will below), you dont have to display a new map. The object we created, `myFirstMap` will be updated in memory. All we need to do then is refresh (re-execute) this cell to display our map whenever we want."
   ]
  },
  {
   "cell_type": "code",
   "execution_count": 48,
   "metadata": {},
   "outputs": [
    {
     "data": {
      "application/vnd.jupyter.widget-view+json": {
       "model_id": "bbcef2a6fafe407e9001a90b72c57c4d",
       "version_major": 2,
       "version_minor": 0
      },
      "text/plain": [
       "Map(bottom=124753.0, center=[9.018014975431448, 7.418518066406251], controls=(ZoomControl(options=['position',…"
      ]
     },
     "metadata": {},
     "output_type": "display_data"
    }
   ],
   "source": [
    "# display our map\n",
    "myFirstMap"
   ]
  },
  {
   "cell_type": "markdown",
   "metadata": {},
   "source": [
    "<div class=\"alert alert-warning\">\n",
    "Once you've authenticated. Executing the previous cell should display a map, centered on the Nigerian capital city of Abuja.<br><br>\n",
    "If you don't see a map: don't panic! But you've run into one of the challenges of interpreted open-source languages -- your Python packages and dependencies, including Jupyter notebook, and your computer's \"back-end\" software may not be in sync.</div>\n",
    "\n",
    "First, make sure `geemap` and `jupyter` are installed properly as per our earlier module [link]. If you're using a virtual environment, make sure that's activated and your packages are installed within it!\n",
    "\n",
    "If that doesnt resolve the issue, another fix is to make sure your Jupyter extensions enable `ipyleaflet` by running this code in command line (you can proxy this action, by adding a shebang in your notebook code, like this:"
   ]
  },
  {
   "cell_type": "code",
   "execution_count": 9,
   "metadata": {},
   "outputs": [
    {
     "name": "stdout",
     "output_type": "stream",
     "text": [
      "Enabling notebook extension jupyter-leaflet/extension...\r\n",
      "      - Validating: \u001b[32mOK\u001b[0m\r\n"
     ]
    }
   ],
   "source": [
    "!jupyter nbextension enable --py --sys-prefix ipyleaflet"
   ]
  },
  {
   "cell_type": "markdown",
   "metadata": {},
   "source": [
    "You may have to close out and restart your notebook after this, but you should only have to do this once.\n",
    "\n",
    "Hopefully, you've got `geemap` set up and working. If not, you'll want to troubleshoot possible issues -- here's the advantage of Python as an open-source language: there are many forums for discussing common problems. If you learn to properly frame your problem and search for it on Google (including details like the language and version of packages and any error message you receive) you can often find others who have dealt with your issue. If you havent, you can try posting the issue yourself on a focum like StackOverflow.com\n",
    "\n",
    "![fishing](img/fishing.png)\n",
    "\n",
    "If you learn to do this, it will serve you well. Troubles can be frustrating, but \"shooting\" them requires problem-solving that helps you better understand what you're doing and become a better programmer and data scientist.\n",
    "\n",
    "\n",
    "\n",
    "## 7. 2 Query DMSP-OLS data for 1992 in GEE and add it to our map object\n",
    "\n",
    "### Get DMSP-OLS image ID for 1992\n",
    "\n",
    "Now we want to query our nighttime lights. We're looking at the DMSP-OLS series. Images are what Google Earth Engine uses to describe raster files and ImageCollections are collections (like a time series) of images. We're looking for the DMSP-OLS Nighttime lights ImageCollection.\n",
    "\n",
    "The ImageCollection id for that is: \"NOAA/DMSP-OLS/NIGHTTIME_LIGHTS\"\n",
    "\n",
    "...but in case you forgot, it's easy to search for particular collections. For example, if you're using the GEE code editor, search for \"DMSP\" and it will prompt you for 2 collections -- we want the nighttime lights.\n",
    "\n",
    "![DMSP_search](img/GEE_DMSP_search.png)\n",
    "\n",
    "Select the collection for \"Nighttime lights\" and in the window that appears, you'll see the exact collect ID (highlighed in the lower left). `NOAA/DMSP-OLS/NIGHTTIME_LIGHTS`\n",
    "\n",
    "![DMSP_window](img/GEE_DMSP_select.png)\n",
    "\n",
    "Since we're doing this via the Python API in our own notebook, all we need is the ImageCollection id to call this. That full collection is a lot of data; however. And all we really need is the image for 1992 (recall that the DMSP-OLS nighttime lights are only available annually).\n",
    "\n",
    "Recall that the DMSP is composed of six satellites spanning 1992 to 2013. The satellite designated \"F10\" is what provided images for 1992 (refer to that grid if you  forget!).\n",
    "\n",
    "So the full Image id for our desired image is the ImageCollection ID: `NOAA/DMSP-OLS/NIGHTTIME_LIGHTS`\n",
    "\n",
    "...plus the image ID for 1992: `/F101992`\n",
    "\n",
    "Again, let's get in the habit of setting variables so we avoid repetition (including repeated typos!)"
   ]
  },
  {
   "cell_type": "code",
   "execution_count": 23,
   "metadata": {},
   "outputs": [],
   "source": [
    "dmsp92id = \"NOAA/DMSP-OLS/NIGHTTIME_LIGHTS/F101992\""
   ]
  },
  {
   "cell_type": "markdown",
   "metadata": {},
   "source": [
    "### 7.3 Create an Earth Engine object for the DMSP 1992 image and add to our map object"
   ]
  },
  {
   "cell_type": "code",
   "execution_count": null,
   "metadata": {},
   "outputs": [],
   "source": [
    "# import the module ee, which was automatially installed when we installed geemap\n",
    "import ee\n",
    "\n",
    "# now we can create an ee object for our 1992 image\n",
    "dmsp92 = ee.Image(dmsp92id)\n",
    "\n",
    "# let's add this image as a layer to our map object and call it \"DMSP NTL 1992\"\n",
    "myFirstMap.addLayer(dmsp92, name='DMSP NTL 1992')"
   ]
  },
  {
   "cell_type": "code",
   "execution_count": 52,
   "metadata": {},
   "outputs": [
    {
     "data": {
      "application/vnd.jupyter.widget-view+json": {
       "model_id": "bbcef2a6fafe407e9001a90b72c57c4d",
       "version_major": 2,
       "version_minor": 0
      },
      "text/plain": [
       "Map(bottom=124753.0, center=[9.018014975431448, 7.418518066406251], controls=(ZoomControl(options=['position',…"
      ]
     },
     "metadata": {},
     "output_type": "display_data"
    }
   ],
   "source": [
    "# re-display our map\n",
    "myFirstMap"
   ]
  },
  {
   "cell_type": "markdown",
   "metadata": {},
   "source": [
    "Voila! We have a nighttime layer from the 1992 DMSP-OLS composite.\n",
    "\n",
    "**Pro tip:** We didn't need to re-type `myFirstMap` to display it again. Because we created an interactive object, we could just scroll back up to the cell with `myFirstMap` displayed above the first time and re-execute that cell to show our map with this new layer. This is handy if you want to save space and avoid duplicating displays.\n",
    "\n",
    "You may notice it's quite dark; however. You can always toggle the layer off, but if you want to visualize the nighttime lights over the basemap, you'll want to change the opacity of your nighttime lights layer. Fortunately, this is very easy for us to do.\n",
    "\n",
    "Our `.addLayer` function allows for other visual parameters, like `opacity`. Let's give this layer an opacity of 75%:"
   ]
  },
  {
   "cell_type": "code",
   "execution_count": 50,
   "metadata": {},
   "outputs": [],
   "source": [
    "myFirstMap.addLayer(dmsp92, name='DMSP NTL 1992', opacity=0.75)"
   ]
  },
  {
   "cell_type": "markdown",
   "metadata": {},
   "source": [
    "Notice that by using the same name as before, we over-wrote the previous layer. \n",
    "\n",
    "If you wanted to create a new layer, this time with 50% opacity, but keep the previous layer, just change the name. Now you have both layers and you can toggle them on/off if you'd wish."
   ]
  },
  {
   "cell_type": "code",
   "execution_count": 51,
   "metadata": {},
   "outputs": [],
   "source": [
    "myFirstMap.addLayer(dmsp92, name='DMSP NTL 1992 opc. 50%', opacity=0.5)"
   ]
  },
  {
   "cell_type": "markdown",
   "metadata": {},
   "source": [
    "#### Visual inspection\n",
    "\n",
    "Take a look around. Interact with the map you just created with just the basemap (Open Street Maps by default) and the first (75% opacity) layer (toggle the other DMSP layer off or it will darken your view).\n",
    "\n",
    "Navigate to Abuji and zoom in. \n",
    "\n",
    "Can you see where the overlap of the nighttime lights are with the roads? \n",
    "\n",
    "How well do they overlap? \n",
    "\n",
    "Are there any surprises?\n",
    "\n",
    "What about other parts of Nigeria?"
   ]
  },
  {
   "cell_type": "markdown",
   "metadata": {},
   "source": [
    "### 7.4 Add a layer for DMSP-OLS 2013\n",
    "\n",
    "Now let's look at nighttime lights for 2013. To do this, we can just add a new layer to our object.\n",
    "\n",
    "Can you do this on your own?"
   ]
  },
  {
   "cell_type": "code",
   "execution_count": 53,
   "metadata": {},
   "outputs": [],
   "source": [
    "# your code here\n"
   ]
  },
  {
   "cell_type": "markdown",
   "metadata": {},
   "source": [
    "<br><br><br><br><br><br><br><br><br><br><br><br>\n",
    "\n",
    "Need some hints?"
   ]
  },
  {
   "cell_type": "code",
   "execution_count": 54,
   "metadata": {},
   "outputs": [],
   "source": [
    "# find the Image ID and set it as a new variable (hint: the satellite's name is \"F18\")\n",
    "\n",
    "\n",
    "# create the ee object\n",
    "\n",
    "\n",
    "# add this image object as a new layer in your map\n",
    "# name it \"DMSP NTL 2013\" and give it an opacity of 75%."
   ]
  },
  {
   "cell_type": "markdown",
   "metadata": {},
   "source": [
    "You should have been able to add a new layer and when refreshing the cell for `myFirstMap` above, see your new layer. If not, scroll down to see the code...\n",
    "\n",
    "<br><br><br><br><br><br><br><br><br><br><br><br>"
   ]
  },
  {
   "cell_type": "code",
   "execution_count": null,
   "metadata": {},
   "outputs": [],
   "source": [
    "# find the Image ID and set it as a new variable (hint: the satellite's name is \"F18\")\n",
    "dmsp2013id = \"NOAA/DMSP-OLS/NIGHTTIME_LIGHTS/F182013\"\n",
    "\n",
    "# create the ee object\n",
    "dmsp2013 = ee.Image(dmsp2013id)\n",
    "\n",
    "# add this image as a new layer in your map object, myFirstMap\n",
    "# name it \"DMSP NTL 2013\" and give it an opacity of 75%."
   ]
  }
 ],
 "metadata": {
  "hide_input": false,
  "kernelspec": {
   "display_name": "Python 3",
   "language": "python",
   "name": "python3"
  },
  "language_info": {
   "codemirror_mode": {
    "name": "ipython",
    "version": 3
   },
   "file_extension": ".py",
   "mimetype": "text/x-python",
   "name": "python",
   "nbconvert_exporter": "python",
   "pygments_lexer": "ipython3",
   "version": "3.7.7"
  },
  "toc": {
   "base_numbering": 1,
   "nav_menu": {},
   "number_sections": false,
   "sideBar": true,
   "skip_h1_title": false,
   "title_cell": "Table of Contents",
   "title_sidebar": "Contents",
   "toc_cell": false,
   "toc_position": {},
   "toc_section_display": true,
   "toc_window_display": false
  }
 },
 "nbformat": 4,
 "nbformat_minor": 4
}
