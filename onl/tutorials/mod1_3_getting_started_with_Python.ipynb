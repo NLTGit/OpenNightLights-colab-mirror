{
 "cells": [
  {
   "cell_type": "markdown",
   "metadata": {},
   "source": [
    "# Getting started with Python (10 min)\n",
    "## Intro to Python\n",
    "\n",
    "<div class=\"alert alert-success\">\n",
    "<a href=\"https://www.python.org/\" class=\"alert-link\">Python</a> is a popular programming language for data science.\n",
    "</div>\n",
    "\n",
    "This tutorial uses Python and assumes that you have at least some familiarity with it.\n",
    "\n",
    "Python is one of the most popular programming languages for a number of reasons:\n",
    "- It’s open-source\n",
    "- It has a large standard library and a massive (and growing!) ecosystem of packages (collections of code), including those used for scientific computing\n",
    "- It’s user-friendly\n",
    "- It has a large and active online community for knowledge-sharing and trouble-shooting when you get stuck\n",
    "- It’s a general-purpose language...this is helpful for data science work, which often covers a wide range of tasks\n",
    "\n",
    "<div class=\"alert alert-success\">\n",
    "If you are completely new to programming, you’ll first want to get started with <a href=\"https://wiki.python.org/moin/BeginnersGuide/NonProgrammers\" class=\"alert-link\"> this Beginner's Guide for Non-Programmers.</a>\n",
    "</div>\n",
    "\n",
    "<div class=\"alert alert-success\">\n",
    "If you are a programmer who is new to Python, <a href=\"https://wiki.python.org/moin/BeginnersGuide/Programmers\" class=\"alert-link\">this Beginner's Guide for Programmers</a> may help.\n",
    "</div>\n",
    "\n",
    "<div class=\"alert alert-success\">\n",
    "<a href=\"https://github.com/openlists/PythonResources\" class=\"alert-link\">Here’s another large list of resources for Python</a> assembled by that community we talked about.\n",
    "</div>\n",
    "\n",
    "There are many ways to install and manage Python, in fact most Linux and UNIX-based computers already have it as a system install.\n",
    "\n",
    "This tutorial requires Python 3.7 or greater.\n",
    "\n",
    "**We highly recommend you install Python with Anaconda for this tutorial.** Even if you already have Python on your computer, installing Anaconda will ensure you can install and manage the packages we’ll be using easily and it won’t interfere with the Python installation you already have.\n",
    "\n",
    "## Anaconda and package management\n",
    "We mentioned that large and growing ecosystem of Python packages, which really makes this a powerful language. Thanks to these open-source packages, many tasks we’ll conduct in this tutorial will use code already written for the task, so you don’t have to write out the source code from scratch.\n",
    "\n",
    "However, these packages often depend on each other in various ways and are updated frequently. If you didn’t have a way to manage packages and dependencies, things might break and it becomes a frustrating experience. Fortunately, tools like Anaconda help handle this through package managers like conda.\n",
    "\n",
    "<div class=\"alert alert-success\">\n",
    "<a href=\"https://www.anaconda.com/products/individual\" class=\"alert-link\">Anaconda</a> is an open-source distribution of Python and R that contains Python packages popular for scientific computing.\n",
    "</div>\n",
    "\n",
    "### pip and conda\n",
    "\n",
    "If you’ve used Python, you’re familiar with pip.\n",
    "\n",
    "<div class=\"alert alert-success\">\n",
    "    <b>pip</b> is the recommended utility for installing Python packages contained in the Python Package Index (PyPI), a repository containing packages people have written in Python.\n",
    "</div>\n",
    "\n",
    "There are differences between pip and conda and <a href=\"https://www.anaconda.com/blog/understanding-conda-and-pip\" class=\"alert-link\">we’ll spare you the details</a>, but one difference is that pip is “pure Python” meaning only Python packages are available, whereas conda manages some packages outside of Python, such as some geospatial or image analysis software that might be written in C, C++, or R, making it easy to install them through conda.\n",
    "\n",
    "## Installing Python with Anaconda\n",
    "\n",
    "To download and install Anaconda, download the package that matches your operating system (Windows, MacOS or Linux) and follow the instructions for installing software: <a href=\"https://www.anaconda.com/products/individual\">https://www.anaconda.com/products/individual</a>\n",
    "\n",
    "Note that you can install a slim version, Miniconda, but we recommend installing the full version since it has many of the packages we’ll be using.\n",
    "\n",
    "Once you’ve installed Anaconda, you can confirm its on your system by opening a command line terminal and typing:\n",
    "\n",
    "`$ conda --version`\n",
    "\n",
    "**Hint:** if you want to enter a command line command from a Jupyter notebook, you can enter an exclamation point prior to your command, like this:"
   ]
  },
  {
   "cell_type": "code",
   "execution_count": 1,
   "metadata": {},
   "outputs": [
    {
     "name": "stdout",
     "output_type": "stream",
     "text": [
      "conda 4.8.3\r\n"
     ]
    }
   ],
   "source": [
    "!conda --version"
   ]
  },
  {
   "cell_type": "markdown",
   "metadata": {},
   "source": [
    "Whether you type this in your terminal window or in a Jupyter notebook, a version of conda (e.g. `conda 4.8.4`) should appear.\n",
    "\n",
    "With conda installed, you also have Python installed as well.\n",
    "\n",
    "### Virtual environments (optional, but highly recommended)\n",
    "As you dig into programming, you’ll realize different projects need different versions and configurations of software, contained within an “environment.” It makes life a lot easier to create specific “virtual environments” on your computer that contain all the code you need for a project without interfering with other projects. \n",
    "\n",
    "You don’t need to set up a virtual environment for this tutorial. But if you would like to, Anaconda makes this easy to do and it makes sure you use the right version of Python (3.7). \n",
    "\n",
    "To create a virtual environment with conda using the provided environment:\n",
    "1. Make sure you've cloned this Github repo to your local machine (you should do this anyway)\n",
    "2. From the root (i.e. top) directory of this repo, you'll find a file called `environment.yml` -- we have provided this file, which includes all the necessary Python software dependencies.\n",
    "3. From the command line interface (CLI, aka \"terminal\" window), navigate to that root directory (where `environment.yml` is located), and enter the following command:\n",
    "\n",
    "    `conda env create --prefix ./venv -f environment.yml` \n",
    "    \n",
    "    ...this will create a sub-folder called `venv` that will host your conda environment.\n",
    "    \n",
    "4. To activate your environment, from CLI in the root directory, enter:\n",
    "\n",
    "    `conda activate ./venv` \n",
    "    \n",
    "    (hint: you can actually activate this env from anywhere by replacing `./venv` with the full path to `.../venv`)\n",
    "\n",
    "To de-activate, enter:\n",
    "\n",
    "`conda deactivate`\n",
    "\n",
    "### Development environments\n",
    "\n",
    "There are many ways to write, edit and execute Python scripts. Programmers will often use an Integrated Development Environment (IDE), such as PyCharm, which is a popular IDE for Python. There are a lot of advantages to using IDEs, especially if you’re building more complicated software applications; however, for this tutorial, we’ll be executing fairly simple routines and can do this from Jupyter notebooks. In fact, this tutorial is contained in Jupyter notebooks!"
   ]
  },
  {
   "cell_type": "code",
   "execution_count": null,
   "metadata": {},
   "outputs": [],
   "source": []
  }
 ],
 "metadata": {
  "hide_input": false,
  "kernelspec": {
   "display_name": "Python 3",
   "language": "python",
   "name": "python3"
  },
  "language_info": {
   "codemirror_mode": {
    "name": "ipython",
    "version": 3
   },
   "file_extension": ".py",
   "mimetype": "text/x-python",
   "name": "python",
   "nbconvert_exporter": "python",
   "pygments_lexer": "ipython3",
   "version": "3.7.8"
  },
  "toc": {
   "base_numbering": 1,
   "nav_menu": {},
   "number_sections": false,
   "sideBar": true,
   "skip_h1_title": false,
   "title_cell": "Table of Contents",
   "title_sidebar": "Contents",
   "toc_cell": false,
   "toc_position": {},
   "toc_section_display": true,
   "toc_window_display": false
  }
 },
 "nbformat": 4,
 "nbformat_minor": 4
}
