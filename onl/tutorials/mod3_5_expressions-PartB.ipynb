{
 "cells": [
  {
   "cell_type": "markdown",
   "metadata": {},
   "source": [
    "# Expressions (continued)"
   ]
  },
  {
   "cell_type": "code",
   "execution_count": 2,
   "metadata": {},
   "outputs": [],
   "source": [
    "# initialize new session, re-instantiating the layers we made in Part A\n",
    "import geemap, ee\n",
    "\n",
    "try:\n",
    "        ee.Initialize()\n",
    "except Exception as e:\n",
    "        ee.Authenticate()\n",
    "        ee.Initialize()\n",
    "\n",
    "# # initialize our map and center on Mexico City, Mexico\n",
    "lat = 19.43\n",
    "lon = -99.13\n",
    "\n",
    "# get 1996 composite, apply mask, and add as layer\n",
    "dmsp1996 = ee.Image(\"NOAA/DMSP-OLS/NIGHTTIME_LIGHTS/F121996\").select('stable_lights')\n",
    "dmsp1996_inv = dmsp1996.multiply(-1).add(63)"
   ]
  },
  {
   "cell_type": "markdown",
   "metadata": {},
   "source": [
    "## Invert image with `.expression()`\n",
    "\n",
    "Now, we'll perform the same operation as we did before, but using the `expression()` method.\n",
    "\n",
    "The `ee.Image.expression() ` method takes a string input as the formula. The second argument is a dictionary with key-value pairs, where the keys are the characters in our string we want to use as variables, (e.g. \"X\") and the values are the corresponding data -- a particular Image band in this case."
   ]
  },
  {
   "cell_type": "code",
   "execution_count": 3,
   "metadata": {},
   "outputs": [],
   "source": [
    "inv_formula = \"(X*-1) + 63\"\n",
    "\n",
    "# we plug this formula in, identify our variable \"X\" and set it to our 1996 DMSP-OLS \"stable_lights\" band\n",
    "dmsp1996_inv2 = dmsp1996.expression(inv_formula, {'X':dmsp1996})"
   ]
  },
  {
   "cell_type": "markdown",
   "metadata": {},
   "source": [
    "### Gut-check visualization...\n",
    "If we inspected `dmsp1996_inv` and `dmsp1996_inv2` analytically we'd see they were identical. For now, you can see visually that they are the same by comparing the two layers."
   ]
  },
  {
   "cell_type": "code",
   "execution_count": 4,
   "metadata": {},
   "outputs": [],
   "source": [
    "invMap = geemap.Map(center=[lat,lon],zoom=6)\n",
    "invMap.addLayerControl()\n",
    "\n",
    "dmsp96inv_tile = geemap.ee_tile_layer(dmsp1996_inv, {'min':0,'max':63}, 'DMSP 96 inverse', opacity=0.75)\n",
    "dmsp96inv_tile2 = geemap.ee_tile_layer(dmsp1996_inv2, {'min':0,'max':63}, 'DMSP 96 inverse 2nd method', opacity=0.75)\n",
    "\n",
    "\n",
    "invMap.split_map(left_layer=dmsp96inv_tile, right_layer=dmsp96inv_tile2)"
   ]
  },
  {
   "cell_type": "code",
   "execution_count": 5,
   "metadata": {},
   "outputs": [
    {
     "data": {
      "application/vnd.jupyter.widget-view+json": {
       "model_id": "7be0d82cdea34ede8def2137df61ddd4",
       "version_major": 2,
       "version_minor": 0
      },
      "text/plain": [
       "Map(center=[19.43, -99.13], controls=(WidgetControl(options=['position'], widget=HBox(children=(ToggleButton(v…"
      ]
     },
     "metadata": {},
     "output_type": "display_data"
    }
   ],
   "source": [
    "invMap"
   ]
  },
  {
   "cell_type": "markdown",
   "metadata": {},
   "source": [
    "They're equivalent!\n",
    "\n",
    "So...why use the `expression()` method instead of the built-in functions?\n",
    "\n",
    "This method used a couple very simple operations, but it can be necessary to use more complex formulae. \n",
    "\n",
    "It can be easier to read an expression written in a form (like a string) that we're familiar with. It may also be easier to dynamically update formulae with different variables when using the `.expression()` approach. We'll show a practical use of this in {doc}`mod3_2_DMSP-OLS_intercalibration`.\n",
    "\n",
    "\n",
    "### Apply a polynomial function to calibrate a DMPS-OLS image\n",
    "We cover DMSP-OLS intercalibration in more detail in a later exercise, but as an illustrative example of expressions, we're going to look at this intercalibration formula, which  applies a series of coefficients to an input DMSP-OLS image to get an \"adjusted\" image that corrects for sensor variation (technical paper here {cite}`elvidge2009fifteen`):\n",
    "\n",
    "These coefficients map to the formula:\n",
    "$X' = C_{0} + C_{1}*X + C_{2}*X^{2}$\n",
    "\n",
    "Where:\n",
    "- X: the input image, represented as a 2-dimensional matrix (recall these images are panchromatic so there is only one channel of light)\n",
    "- $C_{0}, C_{1}, C_{2}$: the calibration coefficients that are assigned to each satellite\n",
    "- X': the calibrated image\n",
    "\n",
    "This is a table of the coefficients created using this method corresponding to specific DMSP-OLS satellite-year data:\n",
    "\n",
    "```{figure} img/mod2-2-intercalib_coef.png\n",
    "---\n",
    "name: intercalib_coefficients\n",
    "---\n",
    "DMSP-OLS intercalibration {cite}`jiang2017assessing`\n",
    "```\n",
    "\n",
    "For 1996, there is only one satellite, F12, so we can reference the appropriate coefficients for F121996 from our table above:\n",
    "\n",
    "- $C_{0}$ = -0.0959\n",
    "- $C_{1}$ = 1.2727\n",
    "- $C_{2}$ = -0.0040\n",
    "\n",
    "\n",
    "We add our coefficients to the appropriate terms of the polynomial and set our input image as the X variable and save this formula as a string."
   ]
  },
  {
   "cell_type": "code",
   "execution_count": 7,
   "metadata": {},
   "outputs": [],
   "source": [
    "# set our formula\n",
    "F121996cal = '-0.0959 + (1.2727 * X) + (-0.0040 * X * X)'\n",
    "\n",
    "# apply our expression to our 1996 composite\n",
    "# dmsp1996 = ee.Image(\"NOAA/DMSP-OLS/NIGHTTIME_LIGHTS/F121996\").select('stable_lights')\n",
    "dmsp1996_clbr = dmsp1996.expression(F121996cal,{'X':dmsp1996})"
   ]
  },
  {
   "cell_type": "markdown",
   "metadata": {},
   "source": [
    "### Visualize"
   ]
  },
  {
   "cell_type": "code",
   "execution_count": 8,
   "metadata": {},
   "outputs": [],
   "source": [
    "calMap = geemap.Map(center=[lat,lon],zoom=9)\n",
    "calMap.addLayerControl()\n",
    "\n",
    "mask96 = geemap.ee_tile_layer(dmsp1996.mask(dmsp1996), {'min':0,'max':63}, 'DMSP NTL 1996', opacity=0.75)\n",
    "adj96 = geemap.ee_tile_layer(dmsp1996_clbr.mask(dmsp1996_clbr), {'min':0,'max':63}, 'DMSP NTL 1996 adjusted', opacity=0.75)\n",
    "\n",
    "calMap.split_map(left_layer=mask96, right_layer=adj96)"
   ]
  },
  {
   "cell_type": "code",
   "execution_count": 9,
   "metadata": {},
   "outputs": [
    {
     "data": {
      "application/vnd.jupyter.widget-view+json": {
       "model_id": "8a7ebade47d847f894b8495f2dcffcc1",
       "version_major": 2,
       "version_minor": 0
      },
      "text/plain": [
       "Map(center=[19.43, -99.13], controls=(WidgetControl(options=['position'], widget=HBox(children=(ToggleButton(v…"
      ]
     },
     "metadata": {},
     "output_type": "display_data"
    }
   ],
   "source": [
    "calMap"
   ]
  },
  {
   "cell_type": "markdown",
   "metadata": {},
   "source": [
    "### A subtle adjustment...\n",
    "\n",
    "Note that visually, the changes are hard to detect, but if you zoom in, you can see that the adjusted image has brighter values around the edges of the urban areas.\n",
    "\n",
    "If we were actually conducting inter-calibration, we'd also clip the adjusted image to specific minimum and max values to account for the fact that some DN values are above our 63 max (you guessed it, more on that in a later exercise).\n",
    "\n",
    "For now, you know how use `.expression()` to perform more complex operations on Images!"
   ]
  },
  {
   "cell_type": "markdown",
   "metadata": {},
   "source": [
    "## References:\n",
    "```{bibliography} ../references.bib\n",
    ":filter: docname in docnames\n",
    "```"
   ]
  }
 ],
 "metadata": {
  "hide_input": false,
  "kernelspec": {
   "display_name": "Python 3",
   "language": "python",
   "name": "python3"
  },
  "language_info": {
   "codemirror_mode": {
    "name": "ipython",
    "version": 3
   },
   "file_extension": ".py",
   "mimetype": "text/x-python",
   "name": "python",
   "nbconvert_exporter": "python",
   "pygments_lexer": "ipython3",
   "version": "3.7.7"
  },
  "toc": {
   "base_numbering": 1,
   "nav_menu": {},
   "number_sections": false,
   "sideBar": true,
   "skip_h1_title": false,
   "title_cell": "Table of Contents",
   "title_sidebar": "Contents",
   "toc_cell": false,
   "toc_position": {},
   "toc_section_display": true,
   "toc_window_display": false
  }
 },
 "nbformat": 4,
 "nbformat_minor": 4
}
