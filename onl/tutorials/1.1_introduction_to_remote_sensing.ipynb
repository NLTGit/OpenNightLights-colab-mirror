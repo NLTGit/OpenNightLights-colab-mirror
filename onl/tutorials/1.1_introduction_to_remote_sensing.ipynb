{
 "cells": [
  {
   "cell_type": "markdown",
   "metadata": {},
   "source": [
    "# Module 1: Introduction\n",
    "\n",
    "## Introduction to remote sensing (10 min)\n",
    "\n",
    "### What is remote sensing?\n",
    "\n",
    "<div class=\"alert alert-info\">\n",
    "<b>Remote sensing</b> is the science of identifying, observing, collecting and measuring objects without coming into direct contact with them.\n",
    "</div>\n",
    " \n",
    "This can be accomplished through many devices that carry sensors and capture the characteristics of Earth remotely.\n",
    "\n",
    "\n",
    "![remote sensing](img/remote_sensing_of_our_planet.png)\n",
    "\n",
    "Source: NASA's Goddard Space Flight Center\n"
   ]
  },
  {
   "cell_type": "markdown",
   "metadata": {},
   "source": []
  },
  {
   "cell_type": "markdown",
   "metadata": {},
   "source": [
    "<!-- <img src=\"img/remote_sensing_of_our_planet.png\"> --> -->"
   ]
  },
  {
   "cell_type": "code",
   "execution_count": null,
   "metadata": {},
   "outputs": [],
   "source": []
  }
 ],
 "metadata": {
  "hide_input": false,
  "kernelspec": {
   "display_name": "Python 3",
   "language": "python",
   "name": "python3"
  },
  "language_info": {
   "codemirror_mode": {
    "name": "ipython",
    "version": 3
   },
   "file_extension": ".py",
   "mimetype": "text/x-python",
   "name": "python",
   "nbconvert_exporter": "python",
   "pygments_lexer": "ipython3",
   "version": "3.7.7"
  },
  "toc": {
   "base_numbering": 1,
   "nav_menu": {},
   "number_sections": false,
   "sideBar": true,
   "skip_h1_title": false,
   "title_cell": "Table of Contents",
   "title_sidebar": "Contents",
   "toc_cell": false,
   "toc_position": {
    "height": "calc(100% - 180px)",
    "left": "10px",
    "top": "150px",
    "width": "369.594px"
   },
   "toc_section_display": true,
   "toc_window_display": true
  }
 },
 "nbformat": 4,
 "nbformat_minor": 4
}
