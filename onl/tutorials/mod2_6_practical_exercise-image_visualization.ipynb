{
 "cells": [
  {
   "cell_type": "markdown",
   "metadata": {},
   "source": [
    "[![Open In Colab](https://colab.research.google.com/assets/colab-badge.svg)](https://colab.research.google.com/github/worldbank/OpenNightLights/blob/master/onl/tutorials/mod2_6_practical_exercise-image_visualization.ipynb)\n",
    "\n",
    "# Practical exercise: image visualization (10 min)\n",
    "\n",
    "When you’re working with maps and images, what is the first thing you want to do? Display it! In this exercise, we’re going to display nighttime lights for Nigeria in 1992 and 2013.\n",
    "\n",
    "**Prerequisites:**\n",
    "- Make sure you have Python, Jupyter notebooks, and geemap installed and are familiar with these packages\n",
    "- If not, you'll want to review: \n",
    "    - {doc}`mod2_2_getting_started_with_Python`\n",
    "    - {doc}`mod2_3_introduction_to_Jupyter_notebooks`\n",
    "    - {doc}`mod2_4_introduction_to_GEE`\n",
    "    - {doc}`mod2_5_GEE_PythonAPI_and_geemap`\n",
    "\n",
    "**Our tasks in this exercise:**\n",
    "1. Initialize a map object with geemap\n",
    "2. Query DMSP-OLS data for 1992\n",
    "3. Create (and adjust) the Nigeria 1992 nighttime lights layer\n",
    "4. Change the map object's basemap\n",
    "5. Visual inspection\n",
    "6. Repeat steps 2 and 3 for DMSP-OLS 2013 data\n",
    "\n",
    "## Initialize a map object with geemap\n",
    "\n",
    "Later in this tutorial, we're going to show you how to import other geospatial data files, such as the boundaries to countries or sub-national regions, to help you analyze nighttime lights.\n",
    "\n",
    "For now, we're going to focus our scene on Nigeria, but we'll do that simply by centering our map on the capital city of Abuja, which we can find at approximately: latitude: 9.0 and longitude: 7.4. \n",
    "\n",
    "We'll set our map zoom factor to 6 to include the entire country in our view. \n",
    "\n",
    "You should get in the habit of saving parameters as variables. This makes it easy to re-use your code for different values."
   ]
  },
  {
   "cell_type": "code",
   "execution_count": 1,
   "metadata": {},
   "outputs": [],
   "source": [
    "# import geemap for our Python session\n",
    "import geemap, ee\n",
    "\n",
    "try:\n",
    "        ee.Initialize()\n",
    "except Exception as e:\n",
    "        ee.Authenticate()\n",
    "        ee.Initialize()\n",
    "\n",
    "# set our initial map parameters for Abuja, Nigeria\n",
    "center_lat = 9.0\n",
    "center_lon = 7.4\n",
    "zoomlevel=6\n",
    "\n",
    "# initialize our map\n",
    "myFirstMap = geemap.Map(center=[center_lat,center_lon], zoom=zoomlevel)"
   ]
  },
  {
   "cell_type": "markdown",
   "metadata": {},
   "source": [
    "<div class=\"alert alert-warning\">\n",
    "Recall that to use GEE you need an account. The first time you execute this cell, you'll be prompted to enter your authentication code. Another browser window will open where you can select the Google account you have associated with your GEE account. Copy the authentication code provided and enter it in the input box provided in this notebook and hit enter and you should be ready to go. You should not need to do this again on this computer. </div>"
   ]
  },
  {
   "cell_type": "code",
   "execution_count": 2,
   "metadata": {},
   "outputs": [
    {
     "data": {
      "application/vnd.jupyter.widget-view+json": {
       "model_id": "10132cc044184d74b932a66998e9557b",
       "version_major": 2,
       "version_minor": 0
      },
      "text/plain": [
       "Map(center=[9.0, 7.4], controls=(WidgetControl(options=['position'], widget=HBox(children=(ToggleButton(value=…"
      ]
     },
     "metadata": {},
     "output_type": "display_data"
    }
   ],
   "source": [
    "# display our map\n",
    "myFirstMap"
   ]
  },
  {
   "cell_type": "markdown",
   "metadata": {},
   "source": [
    "<div class=\"alert alert-warning\">\n",
    "Once you've authenticated. Executing the previous cell (selecting `Run` or SHIFT + ENTER) should display a map, centered on the Nigerian capital city of Abuja.<br><br>\n",
    "If you don't see a map: don't panic! But you've run into one of the challenges of interpreted open-source languages -- your Python packages and dependencies, including Jupyter notebook, and your computer's \"back-end\" software may not be in sync.</div>\n",
    "\n",
    "First, make sure `geemap` and `jupyter` are installed properly as per our earlier tutorials referenced above. If you're using a virtual environment, make sure that's activated and geemap is installed within it!\n",
    "\n",
    "If that doesnt resolve the issue, another fix is to make sure your Jupyter extensions enable `ipyleaflet` by running this code in command line.\n",
    "\n",
    "Recall from an earlier tutorial that in Jupyter notebooks you can make system calls (such as you would in command line prompt) by adding a bang (exclamaition point) to your notebook code, like this:"
   ]
  },
  {
   "cell_type": "code",
   "execution_count": 3,
   "metadata": {},
   "outputs": [],
   "source": [
    "# !jupyter nbextension enable --py --sys-prefix ipyleaflet"
   ]
  },
  {
   "cell_type": "markdown",
   "metadata": {},
   "source": [
    "You may have to close out and restart your notebook after this, but you should only have to do this once.\n",
    "\n",
    "#### A note on troubleshooting\n",
    "At this point, hopefully, you've got `geemap` set up and working. \n",
    "\n",
    "If not, you'll want to troubleshoot possible issues and there are many forums for discussing common problems, such as <a href=\"https://stackoverflow.com/\">stackoverflow.com</a>.\n",
    "\n",
    "If you learn to do this, it will serve you well. Troubles can be frustrating, but \"shooting\" them requires problem-solving that helps you better understand what you're doing and become a better programmer and data scientist.\n",
    "\n",
    "\n",
    "## Query DMSP-OLS data for 1992\n",
    "\n",
    "### Get DMSP-OLS image ID for 1992\n",
    "\n",
    "Now we want to query our nighttime lights. We're looking at the DMSP-OLS series. **Images** are what Google Earth Engine uses to describe raster files and **ImageCollections** are collections (like a time series) of images. We're looking for the DMSP-OLS Nighttime lights ImageCollection.\n",
    "\n",
    "https://code.earthengine.google.com/\n",
    "\n",
    "It's easy to search for particular collections. For example, if you're using the GEE code editor, search for \"DMSP\" and it will prompt you for 2 collections: we want the nighttime lights.\n",
    "\n",
    "![DMSP_search](img/mod1_7_fig2.png)\n",
    "\n",
    "Select the collection for \"Nighttime lights\" and in the window that appears, you'll see the exact collect ID (highlighed in the lower left). `NOAA/DMSP-OLS/NIGHTTIME_LIGHTS`\n",
    "\n",
    "![DMSP_window](img/mod1_7_fig3.png)\n",
    "\n",
    "For quering this data via the API, this ImageCollection ID is what we are looking for: `NOAA/DMSP-OLS/NIGHTTIME_LIGHTS`\n",
    "\n",
    "That full collection is a lot of data; however. And all we really need is the image for 1992. Since the DMSP-OLS nighttime lights are available annually, we're looking for a single Image.\n",
    "\n",
    "Recall that the DMSP is composed of six satellites spanning 1992 to 2013. The satellite designated \"F10\" is what provided images for 1992. \n",
    "\n",
    "**HINT** from {doc}`mod1_2_introduction_to_nighttime_light_data`: <a href=\"https://ngdc.noaa.gov/eog/dmsp/downloadV4composites.html\" class=\"alert-link\">NOAA`s \n",
    "National Center for Environmental Information</a> gives the mapping of years and DMSP satellites. \n",
    "\n",
    "Putting it together, the full file ID we need to query this image from GEE is: `NOAA/DMSP-OLS/NIGHTTIME_LIGHTS/F101992`\n",
    "\n",
    "Again, let's get in the habit of setting variables so we avoid repetition (including repeated typos!)"
   ]
  },
  {
   "cell_type": "code",
   "execution_count": 4,
   "metadata": {},
   "outputs": [],
   "source": [
    "dmsp92id = \"NOAA/DMSP-OLS/NIGHTTIME_LIGHTS/F101992\""
   ]
  },
  {
   "cell_type": "markdown",
   "metadata": {},
   "source": [
    "## Create (and adjust) the Nigeria 1992 nighttime lights layer\n",
    "\n",
    "Now that we know what Image we're looking for, we can query it via the Python API and add it as a layer to that map object we created earlier."
   ]
  },
  {
   "cell_type": "code",
   "execution_count": 5,
   "metadata": {},
   "outputs": [],
   "source": [
    "# create an ee object for our 1992 image\n",
    "# note that for DMSP, there is only one band, so we dont need to worry about selecting a band.\n",
    "dmsp92 = ee.Image(dmsp92id)\n",
    "\n",
    "# ladd this image as a layer to our map object and call the layer: \"DMSP NTL 1992\"\n",
    "myFirstMap.addLayer(dmsp92, name='DMSP NTL 1992')"
   ]
  },
  {
   "cell_type": "code",
   "execution_count": 6,
   "metadata": {},
   "outputs": [
    {
     "data": {
      "application/vnd.jupyter.widget-view+json": {
       "model_id": "10132cc044184d74b932a66998e9557b",
       "version_major": 2,
       "version_minor": 0
      },
      "text/plain": [
       "Map(bottom=8056.0, center=[9.0, 7.4], controls=(WidgetControl(options=['position'], widget=HBox(children=(Togg…"
      ]
     },
     "metadata": {},
     "output_type": "display_data"
    }
   ],
   "source": [
    "# re-display our map\n",
    "myFirstMap"
   ]
  },
  {
   "cell_type": "markdown",
   "metadata": {},
   "source": [
    "Voila! We have a nighttime layer from the 1992 DMSP-OLS composite.\n",
    "\n",
    "### Changing opacity\n",
    "You may notice it's quite dark; however. You can always toggle the layer off, but if you want to visualize the nighttime lights over the basemap, you'll want to change the opacity of your nighttime lights layer. Fortunately, this is very easy for us to do.\n",
    "\n",
    "Our `.addLayer` function allows for other visual parameters, like `opacity`. Let's give this layer an opacity of 75%:"
   ]
  },
  {
   "cell_type": "code",
   "execution_count": 11,
   "metadata": {},
   "outputs": [],
   "source": [
    "myFirstMap.addLayer(dmsp92, name='DMSP NTL 1992', opacity=0.75)"
   ]
  },
  {
   "cell_type": "markdown",
   "metadata": {},
   "source": [
    "**Note:** by giving our updated layer the same name (`DMSP NTL 1992`) we are over-writing the previous layer. If you wanted to create a new layer, this time with 50% opacity, but keep the previous layer, just change the layer name when you update, like `DMSP NTL 1992 opc. 50%`. Then you'd have both layers and you can toggle them on/off.\n",
    "\n",
    "## Creating a mask\n",
    "Another important step to \"clean\" your image will be to create a mask that filters out zero or negative values, which can happen after preprocessing for noisy and low-light pixels.\n",
    "\n",
    "This can be done when adding (or updating) a layer. The ee Image object we created, `dmsp92`, has a built-in method called `.mask()` and when we call that and pass the Image itself as an argument, we get the mask.\n",
    "\n",
    "<div class=\"alert alert-success\">\n",
    "<a href=\"https://developers.google.com/earth-engine/tutorials/tutorial_api_05#masking\">This documentation</a> gives  more info on the GEE API .mask() call and we'll get into more detail on these data processing steps later.</div>\n",
    "\n",
    "This time, let's change the name so that we create a new layer. Then we'll have a masked and non-masked 1992 layer:"
   ]
  },
  {
   "cell_type": "code",
   "execution_count": 12,
   "metadata": {},
   "outputs": [],
   "source": [
    "myFirstMap.addLayer(dmsp92.mask(dmsp92), name='DMSP NTL 1992 masked', opacity=0.75)"
   ]
  },
  {
   "cell_type": "markdown",
   "metadata": {},
   "source": [
    "## Change the basemap\n",
    "\n",
    "Go to the cell with our map object and re-run the cell, updating it. You should now have two layers (intial 1992 and masked 1992) and you can toggle between them. You can imagine that the masked layer makes it easier to inspect the underlying basemap layer.\n",
    "\n",
    "The default basemap is Open Street Maps (OSM). But if you want to analyze nighttime lights according to land build-up as seen in daylight images (such as from LANDSAT), you can change the basemap (if you're more advanced you can search GEE for your own layers of course).\n",
    "\n",
    "There are a few dozen options to choose from for geemap basemaps. While there's not documentation yet, you can see the options in the <a href=\"https://github.com/giswqs/geemap/blob/master/geemap/basemaps.py\">source code itself.</a>. Some of these have also been added to `ipyleaflet`'s library.\n",
    "\n",
    "Navigate to that source code link and review the options. Let's choos the default \"SATELLITE\" basemap which appears to be of the Google maps daytime satellite view.\n",
    "\n",
    "Because we're adding a basemap, we'll need to re-initialize our map object, add our new basemap to it, and then add the layers we created initially. If we've used variables for our parameters, this is simple to do."
   ]
  },
  {
   "cell_type": "code",
   "execution_count": 13,
   "metadata": {},
   "outputs": [],
   "source": [
    "# initial map object (this overwrites our previous object saved at this variable name)\n",
    "# centered on Abuja\n",
    "myFirstMap = geemap.Map(center=[center_lat,center_lon], zoom=zoomlevel)\n",
    "\n",
    "# add our alternate basemap\n",
    "myFirstMap.add_basemap(\"SATELLITE\")\n",
    "\n",
    "# add our 1992 (and remember to create a mask and change opacity to 75%)\n",
    "myFirstMap.addLayer(dmsp92.mask(dmsp92), name='DMSP NTL 1992', opacity=0.75)"
   ]
  },
  {
   "cell_type": "code",
   "execution_count": 14,
   "metadata": {},
   "outputs": [
    {
     "data": {
      "application/vnd.jupyter.widget-view+json": {
       "model_id": "99a0613554ee44c1950c76e5a2f9d888",
       "version_major": 2,
       "version_minor": 0
      },
      "text/plain": [
       "Map(center=[9.0, 7.4], controls=(WidgetControl(options=['position'], widget=HBox(children=(ToggleButton(value=…"
      ]
     },
     "metadata": {},
     "output_type": "display_data"
    }
   ],
   "source": [
    "# display our map\n",
    "myFirstMap"
   ]
  },
  {
   "cell_type": "markdown",
   "metadata": {},
   "source": [
    "## Visual inspection\n",
    "\n",
    "Now you can look at nighttime layer and compare it to our satellite view basemap.\n",
    "\n",
    "Take a look around. Interact with the map you just created:\n",
    "- Toggle the satellte basemap off to compare nighttime lights to the road network as well as the satellite view.\n",
    "- Navigate to Abuja and zoom in. \n",
    "- Can you see where the overlap of the nighttime lights are with the roads and \"built up\" areas? \n",
    "- How well do they overlap? \n",
    "- Are there any surprises?\n",
    "- What about other parts of Nigeria?"
   ]
  },
  {
   "cell_type": "markdown",
   "metadata": {},
   "source": [
    "## Add a layer for DMSP-OLS 2013\n",
    "\n",
    "Now let's look at nighttime lights for 2013. \n",
    "\n",
    "To do this, we can just add a new layer to our object.\n",
    "\n",
    "Can you do this on your own?"
   ]
  },
  {
   "cell_type": "code",
   "execution_count": 15,
   "metadata": {},
   "outputs": [],
   "source": [
    "# your code here\n"
   ]
  },
  {
   "cell_type": "markdown",
   "metadata": {},
   "source": [
    "<br><br><br><br><br><br><br><br><br><br><br><br>\n",
    "\n",
    "Need some hints?"
   ]
  },
  {
   "cell_type": "code",
   "execution_count": 16,
   "metadata": {},
   "outputs": [],
   "source": [
    "# find the Image ID for DMSP-OLS 2013 and set it as a new variable (hint: the satellite's name is \"F18\")\n",
    "\n",
    "\n",
    "# create the ee object\n",
    "\n",
    "\n",
    "# add this image object as a new layer in your map\n",
    "# name it \"DMSP NTL 2013\", create a mask, and give it an opacity of 75%."
   ]
  },
  {
   "cell_type": "markdown",
   "metadata": {},
   "source": [
    "You should have been able to add a new layer and when refreshing the cell for `myFirstMap` above, see your new layer. If not, scroll down to see the code...\n",
    "\n",
    "<br><br><br><br><br><br><br><br><br><br><br><br>"
   ]
  },
  {
   "cell_type": "code",
   "execution_count": 17,
   "metadata": {},
   "outputs": [],
   "source": [
    "# find the Image ID and set it as a new variable (hint: the satellite's name is \"F18\")\n",
    "dmsp2013id = \"NOAA/DMSP-OLS/NIGHTTIME_LIGHTS/F182013\"\n",
    "\n",
    "# create the ee object\n",
    "dmsp2013 = ee.Image(dmsp2013id)\n",
    "\n",
    "# add this image as a new layer in your map object, myFirstMap\n",
    "# name it \"DMSP NTL 2013\" and give it an opacity of 75%.\n",
    "\n",
    "myFirstMap.addLayer(dmsp2013.mask(dmsp2013), name='DMSP NTL 2013', opacity=0.75)"
   ]
  },
  {
   "cell_type": "code",
   "execution_count": 18,
   "metadata": {},
   "outputs": [
    {
     "data": {
      "application/vnd.jupyter.widget-view+json": {
       "model_id": "99a0613554ee44c1950c76e5a2f9d888",
       "version_major": 2,
       "version_minor": 0
      },
      "text/plain": [
       "Map(bottom=8056.0, center=[9.0, 7.4], controls=(WidgetControl(options=['position'], widget=HBox(children=(Togg…"
      ]
     },
     "metadata": {},
     "output_type": "display_data"
    }
   ],
   "source": [
    "# display the map object again...\n",
    "myFirstMap"
   ]
  },
  {
   "cell_type": "markdown",
   "metadata": {},
   "source": [
    "Now that you have both years, you can toggle back and forth and compare the differences.\n",
    "\n",
    "Do you see any major changes?\n",
    "\n",
    "Zoom in for a closer look at Abuja: do you see the growth from 1992 to 2013?\n",
    "\n",
    "## Create a split planel view\n",
    "\n",
    "We've added our 2013 layer to compare with 1992, but it's kind of annoying to toggle each layer. It's also hard to truly compare. If we create a split panel view with a slider, we can more easily see the difference.\n",
    "\n",
    "There is a built-in method in `geemap` for this, which makes it simple to do.\n",
    "\n",
    "We've already created our 1992 and 2013 DMSP image objects and saved those as variables, so no need to re-create. We just need to generate a tile layer with each. But remember to mask them and let's again set opacity to 75%:"
   ]
  },
  {
   "cell_type": "code",
   "execution_count": 19,
   "metadata": {},
   "outputs": [],
   "source": [
    "# generate tile layers from the ee image objects, masking and changing opacity to 75%\n",
    "dmsp92_tile = geemap.ee_tile_layer(dmsp92.mask(dmsp92), {}, 'DMSP NTL 1992', opacity=0.75)\n",
    "dmsp2013_tile = geemap.ee_tile_layer(dmsp2013.mask(dmsp2013), {}, 'DMSP NTL 2013', opacity=0.75)"
   ]
  },
  {
   "cell_type": "markdown",
   "metadata": {},
   "source": [
    "If you want to create a new map object you can, just as before and center it using the parameters for Nigeria we set before:\n",
    "\n",
    "`newMap = geemap.Map(center=[center_lat,center_lon], zoom=zoomlevel)`\n",
    "\n",
    "But you can also just alter the initial object we created, which is what we'll do. We can call the object's `.split_map()` method and set the left and panels with our 1992 and 2013 tile layers."
   ]
  },
  {
   "cell_type": "code",
   "execution_count": 20,
   "metadata": {},
   "outputs": [],
   "source": [
    "myFirstMap.split_map(left_layer=dmsp92_tile, right_layer=dmsp2013_tile)"
   ]
  },
  {
   "cell_type": "markdown",
   "metadata": {},
   "source": [
    "Now when you refresh your map object above, you'll see a slider and the 1992 nighttime lights layer on the left with 2013 on the right. \n",
    "\n",
    "Slide it over Abuja: can you see the difference in the distribution of lights in 2013 compared to 1992? \n",
    "\n",
    "Look at some other regions around Nigeria.\n",
    "\n",
    "## On your own...\n",
    "Our primary objective was to get a feel for using `geemap`, GEE, and Jupyter notebooks. Hopefully, you've now done that.\n",
    "\n",
    "Try comparing other years of DMSP-OLS data by creating new layers. Keep exploring Nigeria or try navigating (and centering your initial map object) on other parts of the world.\n",
    "\n",
    "This interactive viewer is a simple way to view changes in an area, but the real power is in conducting analysis. You can image that quantifying the difference in nighttime lights from 1992 to 2013 or calculating the slope of change across a time series could reveal areas of high or low growth and other patterns. \n",
    "\n",
    "We'll learn how to do this as well as deal with important issues of calibration. These satellite detectors, like all sensors, can change over time or have inherent biases (known as \"instrument bias\"), so it's important understand how to address these in order to do a fair comparison."
   ]
  }
 ],
 "metadata": {
  "hide_input": false,
  "kernelspec": {
   "display_name": "Python 3",
   "language": "python",
   "name": "python3"
  },
  "language_info": {
   "codemirror_mode": {
    "name": "ipython",
    "version": 3
   },
   "file_extension": ".py",
   "mimetype": "text/x-python",
   "name": "python",
   "nbconvert_exporter": "python",
   "pygments_lexer": "ipython3",
   "version": "3.7.7"
  },
  "toc": {
   "base_numbering": 1,
   "nav_menu": {},
   "number_sections": false,
   "sideBar": true,
   "skip_h1_title": false,
   "title_cell": "Table of Contents",
   "title_sidebar": "Contents",
   "toc_cell": false,
   "toc_position": {},
   "toc_section_display": true,
   "toc_window_display": false
  }
 },
 "nbformat": 4,
 "nbformat_minor": 4
}
