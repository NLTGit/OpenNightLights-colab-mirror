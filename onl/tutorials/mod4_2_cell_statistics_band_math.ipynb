{
 "cells": [
  {
   "cell_type": "markdown",
   "metadata": {},
   "source": [
    "# Cell statistics and basic band math (10 min)\n",
    "\n",
    "In the previous sub-module, {doc}`mod4_1_conditional_operations`, we created masks using boolean operations that were applied to individual pixels in the raster file (remember, think cells in a matrix).\n",
    "\n",
    "In this tutorial we'll expand on the idea of calculating per-pixel and per-band statistics with some simple mathmatical operations.\n",
    "\n",
    "We're going to do this by cleaning an image by subtracting the mean and dividing by the standard deviation.\n",
    "\n",
    "**Prerequisites:**\n",
    "- Make sure you have Python, Jupyter notebooks, and `ee` and `geemap` installed and are familiar with these packages\n",
    "- If not, you'll want to review: \n",
    "    - {doc}`mod2_1_getting_started_with_Python`\n",
    "    - {doc}`mod2_2_introduction_to_Jupyter_notebooks`\n",
    "    - {doc}`mod2_3_introduction_to_GEE`\n",
    "- You may also want to try this exercise to get familiar with GEE and the Python `geemap` and `ee` libraries:\n",
    "    - {doc}`mod2_4_practical_exercise-image_visualization`\n",
    "\n",
    "**Our tasks in this exercise:**\n",
    "1. Clip a scene of the 2017 median VIIRS-DNB to Timor-Leste\n",
    "2. Brief overview of scaling\n",
    "3. Use the Reduce region to get the mean and standard deviation of the Image\n",
    "4. Create a cleaned layer\n",
    "\n",
    "## Clip a scene of 2017 VIIRS-DNB for Timor-Leste\n",
    "\n",
    "#### Get the geometry from Google Earth Engine's Global Adminitive Unit Layer and clip a composite of of VIIRS-DNB from December 2017 to the geometry\n",
    "\n",
    "Timor-Leste is a country in the Southeast Asia / Pacific region that shared an island with Indonesia."
   ]
  },
  {
   "cell_type": "code",
   "execution_count": 1,
   "metadata": {},
   "outputs": [],
   "source": [
    "# import geemap and ee for our Python session\n",
    "import geemap, ee\n",
    "\n",
    "try:\n",
    "        ee.Initialize()\n",
    "except Exception as e:\n",
    "        ee.Authenticate()\n",
    "        ee.Initialize()\n",
    "\n",
    "# get December image, we're using the \"avg_rad\" band\n",
    "viirs2017_12 = ee.ImageCollection(\"NOAA/VIIRS/DNB/MONTHLY_V1/VCMSLCFG\").filterDate(\"2017-12-01\",\"2017-12-31\").select('avg_rad').first()\n",
    "\n",
    "# get the geometry for Timor-Leste from GEE's tagged datasets\n",
    "tls = ee.Feature(ee.FeatureCollection(\"FAO/GAUL/2015/level0\").filter(ee.Filter.eq('ADM0_NAME', 'Timor-Leste')).first())\n",
    "\n",
    "# clip our VIIRS image to Timor-Leste\n",
    "ntl_tls = viirs2017_12.clip(tls)\n",
    "\n",
    "\n",
    "# initialize our map and center it on Timor-Leste\n",
    "tlsMap = geemap.Map()\n",
    "tlsMap.centerObject(tls, zoom=8)\n",
    "tlsMap.add_basemap('SATELLITE')\n",
    "tlsMap.addLayer(ntl_tls, {}, \"VIIRS-DNB Dec 2017\")"
   ]
  },
  {
   "cell_type": "code",
   "execution_count": 2,
   "metadata": {},
   "outputs": [
    {
     "data": {
      "application/vnd.jupyter.widget-view+json": {
       "model_id": "6b5fd20fa1cf4b04b88ec81ab6d55c50",
       "version_major": 2,
       "version_minor": 0
      },
      "text/plain": [
       "Map(center=[-8.820898657360543, 125.85269954324596], controls=(WidgetControl(options=['position'], widget=HBox…"
      ]
     },
     "metadata": {},
     "output_type": "display_data"
    }
   ],
   "source": [
    "# display our map\n",
    "tlsMap"
   ]
  },
  {
   "cell_type": "markdown",
   "metadata": {},
   "source": [
    "### A brief overview of scaling\n",
    "Timor-Leste is a developing nation and relative to its neighbor, has lower-levels of light. As such, background light that the VIIRS instrument is sensitive to can influence interpretation. As we look at this scene, you can see the relatively high levels of \"noise\" present.\n",
    "\n",
    "As discussed earlier, one approach to increase the signal / noise ratio would be to reduce data over time. \n",
    "\n",
    "But if the noise levels persist throughout the time period, that may not reduce the noise much. And what if your analysis is specifically to look at December 2017? \n",
    "\n",
    "Or what if you're looking to conduct comparative analysis on these data or use them as inputs for a model for statistical inference? \n",
    "\n",
    "In this case, you will very likely want to reduce the noise levels in your data in order for your algorithm to learn your data without over-fitting (in other words, a more sensitive model might \"learn\" the noise...which is generally bad). Additionally, many loss functions are subject to \"exploding\" or \"vanishing\" gradients if your data are not close to zero and scaled.\n",
    "\n",
    "### Standardizing the image: zero mean and unit variance\n",
    "That's all important for data science and statistical inference, but out of scope for our tutorial here.\n",
    "\n",
    "In any case, there are a few ways to scale an image or matrix and prepare it for analysis or modeling and one common one is to standardize the data to be \"zero-centered\" and have unit variance. \n",
    "\n",
    "This is done simply by subtracting the mean of the entire image from each pixel's value and then dividing that by the standard deviation of the entire image.\n",
    "\n",
    "$$X' = \\frac{X - \\mu}{\\sigma}$$\n",
    "\n",
    "We'll conduct this statistical operation on our Timor-Leste scene.\n",
    "\n",
    "## Using the `reduceRegion` function to get the mean and standard deviation of a region\n",
    "\n",
    "There is more documention on this here <a href= \"https://developers.google.com/earth-engine/guides/reducers_reduce_region\">here</a>, but the key argument we use here is:\n",
    "- `reducer`: the function used to reduce data (mean or standard deviation in our case)."
   ]
  },
  {
   "cell_type": "code",
   "execution_count": 5,
   "metadata": {},
   "outputs": [
    {
     "name": "stdout",
     "output_type": "stream",
     "text": [
      "the mean avg radiance (per month) for the pixels in our Timor-Leste region is: 0.2980\n",
      "the std dev is: 0.6565\n"
     ]
    }
   ],
   "source": [
    "mu = ntl_tls.reduceRegion(reducer=ee.Reducer.mean())\n",
    "std = ntl_tls.reduceRegion(reducer=ee.Reducer.stdDev())\n",
    "\n",
    "# we'll cast these to native ee Numbers using the ee.Number constructor\n",
    "mu = ee.Number(mu.get('avg_rad'))\n",
    "std = ee.Number(std.get('avg_rad'))\n",
    "\n",
    "# in order to confirm, we have to evaluate this to print client size (i.e. our computer)\n",
    "print(f\"the mean avg radiance (per month) for the pixels in our Timor-Leste region is: {mu.getInfo():.4f}\")\n",
    "print(f\"the std dev is: {std.getInfo():.4f}\")"
   ]
  },
  {
   "cell_type": "markdown",
   "metadata": {},
   "source": [
    "### Now we can create a clean layer by subtracting the mean from our initial image and then dividing by the st. dev."
   ]
  },
  {
   "cell_type": "code",
   "execution_count": 4,
   "metadata": {},
   "outputs": [],
   "source": [
    "ntl_tls_std = ntl_tls.subtract(mu).divide(std)"
   ]
  },
  {
   "cell_type": "markdown",
   "metadata": {},
   "source": [
    "Now we can add it to a map object with a slide panel and compare it to our original layer!"
   ]
  },
  {
   "cell_type": "code",
   "execution_count": 5,
   "metadata": {},
   "outputs": [
    {
     "data": {
      "application/vnd.jupyter.widget-view+json": {
       "model_id": "0305d6e201e1426ba4f62050635ae350",
       "version_major": 2,
       "version_minor": 0
      },
      "text/plain": [
       "Map(center=[-8.820898657360543, 125.85269954324596], controls=(WidgetControl(options=['position'], widget=HBox…"
      ]
     },
     "metadata": {},
     "output_type": "display_data"
    }
   ],
   "source": [
    "# create a split panel map\n",
    "left_layer = geemap.ee_tile_layer(ntl_tls, {},'VIIRS-DNB 2017')\n",
    "right_layer = geemap.ee_tile_layer(ntl_tls_std, {},'VIIRS-DNB 2017 (zero-centered and unit variance)')\n",
    "\n",
    "splitMap = geemap.Map()\n",
    "splitMap.centerObject(tls, zoom=8)\n",
    "splitMap.add_basemap('SATELLITE')\n",
    "splitMap.split_map(left_layer=left_layer, right_layer=right_layer)\n",
    "splitMap"
   ]
  },
  {
   "cell_type": "markdown",
   "metadata": {},
   "source": [
    "You can see that although the overal information is reduced, you do have a \"cleaner\" layer which can aid your analysis or modeling effort.\n",
    "\n",
    "### Band math\n",
    "Since we're dealing with nighttime light images, which are single-band (they're panchromatic images as noted in the first module), we have not had to deal with band selection much. \n",
    "\n",
    "But one very common math operation with satellite data involves creating normalized differences (such as the Normalized Difference Vegetation Index or NDVI) that, as suggests, gets the difference in value between particular bands (which in this case represent different segments of the visible electromagnetic spectrum).\n",
    "\n",
    "We'll talk more about this when we discuss getting image differences.\n",
    "\n",
    "For now, we've learned how to conduct simple mathmatical operations on a single band. We've also learned about scaling images and getting simple regional statistics, such as the mean and the standard deviation."
   ]
  },
  {
   "cell_type": "markdown",
   "metadata": {},
   "source": [
    "## References:\n",
    "```{bibliography} ../references.bib\n",
    ":filter: docname in docnames\n",
    "```"
   ]
  }
 ],
 "metadata": {
  "hide_input": false,
  "kernelspec": {
   "display_name": "Python 3",
   "language": "python",
   "name": "python3"
  },
  "language_info": {
   "codemirror_mode": {
    "name": "ipython",
    "version": 3
   },
   "file_extension": ".py",
   "mimetype": "text/x-python",
   "name": "python",
   "nbconvert_exporter": "python",
   "pygments_lexer": "ipython3",
   "version": "3.7.8"
  },
  "toc": {
   "base_numbering": 1,
   "nav_menu": {},
   "number_sections": false,
   "sideBar": true,
   "skip_h1_title": false,
   "title_cell": "Table of Contents",
   "title_sidebar": "Contents",
   "toc_cell": false,
   "toc_position": {},
   "toc_section_display": true,
   "toc_window_display": false
  }
 },
 "nbformat": 4,
 "nbformat_minor": 4
}
