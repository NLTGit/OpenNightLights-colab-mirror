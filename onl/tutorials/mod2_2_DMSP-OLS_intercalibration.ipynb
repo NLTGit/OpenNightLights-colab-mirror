{
 "cells": [
  {
   "cell_type": "markdown",
   "metadata": {},
   "source": [
    "# DMSP-OLS intercalibration (10 min)\n",
    "\n",
    "As described in {doc}`mod1_1_introduction_to_nighttime_light_data`, the DMSP-OLS sensors lacked on-board calibration, so there are noticeable variations from satellite to satellite. In order to adequately compare nighttime lights data across satellites, they must be calibrated. \n",
    "\n",
    "In this exercise, we're going to calibrate DMSP-OLS data based on a method established by Elvidge et al. (2009) {cite}`elvidge2009fifteen`.\n",
    "\n",
    "**Prerequisites:**\n",
    "- Make sure you have Python, Jupyter notebooks, and `ee` and `geemap` installed and are familiar with these packages\n",
    "- If not, you'll want to review: \n",
    "    - {doc}`mod1_3_getting_started_with_Python`\n",
    "    - {doc}`mod1_4_introduction_to_Jupyter_notebooks`\n",
    "    - {doc}`mod1_5_introduction_to_GEE`\n",
    "- You may also want to try this exercise to get familiar with GEE and the Python `geemap` and `ee` libraries:\n",
    "    - {doc}`mod1_7_practical_exercise-image_visualization`\n",
    "\n",
    "**Our tasks in this exercise:**\n",
    "1. Reviewing the calibration coefficients and formula used by Elvidge\n",
    "2. Apply calibration steps to a single image, 1996\n",
    "3. Compare the differences between calibrated and non-calibrated images with a histogram.\n",
    "4. Create a function that dynamically applies the calibration depending on a given satellite/year input.\n",
    "5. Compare the difference in calibrated and non-calibrated time series.\n",
    "\n",
    "## Reviewing the calibration coefficients and formula\n",
    "\n",
    "The initial paper {cite}`elvidge2009fifteen` cited outlines the steps the authors took, if you're interested in the details. What's important for our purposes here, is that they derived a set of coefficients that, when applied to each satellite in the DMSP series, provides a more stable calibrated measure of nighttime lights that corrects for the sensor variation and allows us to more accurately compare data.\n",
    "\n",
    "These coefficients map to the formula:\n",
    "$$X' = C_{0} + C_{1}*X + C_{2}*X^{2}$$\n",
    "\n",
    "Where:\n",
    "- X: the input image, represented as a 2-dimensional matrix (recall these images are panchromatic so there is only one channel of light)\n",
    "- $C_{0}, C_{1}, C_{2}$: the calibration coefficients that are assigned to each satellite\n",
    "- X': the calibrated image\n",
    "\n",
    "The initial paper was written in 2009, prior to the final year of DMSP-OLS. We can get a more recent series of coefficients (through 2012) here (using the same method):\n",
    "\n",
    "```{figure} img/mod2-2-intercalib_coef.png\n",
    "---\n",
    "name: intercalib_coefficients\n",
    "---\n",
    "DMSP-OLS intercalibration {cite}`jiang2017assessing`\n",
    "```\n",
    "\n",
    "**Note:** this method is fine for purposes of this tutorial, but it's worth mentioning that there are several other methods to conduct this calibration as well.\n",
    "\n",
    "\n",
    "## Apply calibration to a single image, 1996\n",
    "\n",
    "### Initialize object and visualization\n",
    "\n",
    "As previous tutorials, we'll initialize a `geemap` object, get the DMSP-OLS 1996 composite and visualize it.\n",
    "\n",
    "For this exercise, we'll use the \"stable_lights\" band."
   ]
  },
  {
   "cell_type": "code",
   "execution_count": 1,
   "metadata": {},
   "outputs": [],
   "source": [
    "# import geemap and ee for our Python session\n",
    "import geemap, ee\n",
    "\n",
    "try:\n",
    "        ee.Initialize()\n",
    "except Exception as e:\n",
    "        ee.Authenticate()\n",
    "        ee.Initialize()\n",
    "\n",
    "# set our initial map parameters for Washington, DC\n",
    "center_lat = 38.9072\n",
    "center_lon = -77.0369\n",
    "zoomlevel=10\n",
    "\n",
    "# initialize our map\n",
    "dmspMap = geemap.Map(center=[center_lat,center_lon], zoom=zoomlevel)\n",
    "dmspMap.add_basemap('SATELLITE')\n",
    "\n",
    "# get 1996 composite, apply mask, and add as layer\n",
    "dmsp1996 = ee.Image(\"NOAA/DMSP-OLS/NIGHTTIME_LIGHTS/F101992\").select('stable_lights')\n",
    "dmspMap.addLayer(dmsp1996.mask(dmsp1996), {}, \"DMSP-OLS 1996\", opacity=0.75)"
   ]
  },
  {
   "cell_type": "code",
   "execution_count": 2,
   "metadata": {},
   "outputs": [
    {
     "data": {
      "application/vnd.jupyter.widget-view+json": {
       "model_id": "bbccdc46f9c94d98b62fce94b09a3fde",
       "version_major": 2,
       "version_minor": 0
      },
      "text/plain": [
       "Map(center=[38.9072, -77.0369], controls=(ZoomControl(options=['position', 'zoom_in_text', 'zoom_in_title', 'z…"
      ]
     },
     "metadata": {},
     "output_type": "display_data"
    }
   ],
   "source": [
    "# display our map\n",
    "dmspMap"
   ]
  },
  {
   "cell_type": "markdown",
   "metadata": {},
   "source": [
    "For 1996, there is only one satellite, F12, so we can reference the appropriate coefficients for F121996 from our table above:\n",
    "\n",
    "- $C_{0}$ = -0.0959\n",
    "- $C_{1}$ = 1.2727\n",
    "- $C_{2}$ = -0.0040\n",
    "\n",
    "GEE has an `.expression()` method which allows us to plug our formula in with these coefficients and get an adjusted image.\n",
    "\n",
    "We add our coefficients to the appropriate terms of the polynomial and set our input image as the X variable."
   ]
  },
  {
   "cell_type": "code",
   "execution_count": 3,
   "metadata": {},
   "outputs": [],
   "source": [
    "dmsp1996_clbr = dmsp1996.expression('-0.0959 + (1.2727 * X) + (-0.0040 * X * X)',{'X':dmsp1996.select('stable_lights')})"
   ]
  },
  {
   "cell_type": "markdown",
   "metadata": {},
   "source": [
    "This calibration adjusts the value of the Digital Number (DN)and in some cases, it will cause a pixel's value to go above 63. We also have pixels with DN's of less than 6. We'll cap the DNs at 63 and replace any values below 6 with 0s."
   ]
  },
  {
   "cell_type": "code",
   "execution_count": 4,
   "metadata": {},
   "outputs": [],
   "source": [
    "dmsp1996_clbr = dmsp1996_clbr.where(dmsp1996_clbr.gt(63),63).where(dmsp1996_clbr.lte(6),0)"
   ]
  },
  {
   "cell_type": "markdown",
   "metadata": {},
   "source": [
    "Now let's add our layer and compare."
   ]
  },
  {
   "cell_type": "code",
   "execution_count": 25,
   "metadata": {},
   "outputs": [],
   "source": [
    "dmspMap.addLayer(dmsp1996_clbr.mask(dmsp1996_clbr), {}, \"DMSP-OLS 1996 calibrated\", opacity=0.75)"
   ]
  },
  {
   "cell_type": "code",
   "execution_count": 19,
   "metadata": {},
   "outputs": [
    {
     "ename": "EEException",
     "evalue": "Invalid argument specified for ee.List(): results",
     "output_type": "error",
     "traceback": [
      "\u001b[0;31m---------------------------------------------------------------------------\u001b[0m",
      "\u001b[0;31mEEException\u001b[0m                               Traceback (most recent call last)",
      "\u001b[0;32m<ipython-input-19-8558184dc0ee>\u001b[0m in \u001b[0;36m<module>\u001b[0;34m\u001b[0m\n\u001b[0;32m----> 1\u001b[0;31m \u001b[0mee\u001b[0m\u001b[0;34m.\u001b[0m\u001b[0mArray\u001b[0m\u001b[0;34m(\u001b[0m\u001b[0mdmsp1996\u001b[0m\u001b[0;34m)\u001b[0m\u001b[0;34m.\u001b[0m\u001b[0mget\u001b[0m\u001b[0;34m(\u001b[0m\u001b[0;34m'results'\u001b[0m\u001b[0;34m)\u001b[0m\u001b[0;34m\u001b[0m\u001b[0;34m\u001b[0m\u001b[0m\n\u001b[0m",
      "\u001b[0;32m~/anaconda3/envs/onl/lib/python3.7/site-packages/ee/apifunction.py\u001b[0m in \u001b[0;36m<lambda>\u001b[0;34m(*args, **kwargs)\u001b[0m\n\u001b[1;32m    203\u001b[0m         \u001b[0;32mdef\u001b[0m \u001b[0mMakeBoundFunction\u001b[0m\u001b[0;34m(\u001b[0m\u001b[0mfunc\u001b[0m\u001b[0;34m)\u001b[0m\u001b[0;34m:\u001b[0m\u001b[0;34m\u001b[0m\u001b[0;34m\u001b[0m\u001b[0m\n\u001b[1;32m    204\u001b[0m           \u001b[0;31m# We need the lambda to capture \"func\" from the enclosing scope.\u001b[0m\u001b[0;34m\u001b[0m\u001b[0;34m\u001b[0m\u001b[0;34m\u001b[0m\u001b[0m\n\u001b[0;32m--> 205\u001b[0;31m           \u001b[0;32mreturn\u001b[0m \u001b[0;32mlambda\u001b[0m \u001b[0;34m*\u001b[0m\u001b[0margs\u001b[0m\u001b[0;34m,\u001b[0m \u001b[0;34m**\u001b[0m\u001b[0mkwargs\u001b[0m\u001b[0;34m:\u001b[0m \u001b[0mfunc\u001b[0m\u001b[0;34m.\u001b[0m\u001b[0mcall\u001b[0m\u001b[0;34m(\u001b[0m\u001b[0;34m*\u001b[0m\u001b[0margs\u001b[0m\u001b[0;34m,\u001b[0m \u001b[0;34m**\u001b[0m\u001b[0mkwargs\u001b[0m\u001b[0;34m)\u001b[0m  \u001b[0;31m# pylint: disable=unnecessary-lambda\u001b[0m\u001b[0;34m\u001b[0m\u001b[0;34m\u001b[0m\u001b[0m\n\u001b[0m\u001b[1;32m    206\u001b[0m         \u001b[0mbound_function\u001b[0m \u001b[0;34m=\u001b[0m \u001b[0mMakeBoundFunction\u001b[0m\u001b[0;34m(\u001b[0m\u001b[0mapi_func\u001b[0m\u001b[0;34m)\u001b[0m\u001b[0;34m\u001b[0m\u001b[0;34m\u001b[0m\u001b[0m\n\u001b[1;32m    207\u001b[0m \u001b[0;34m\u001b[0m\u001b[0m\n",
      "\u001b[0;32m~/anaconda3/envs/onl/lib/python3.7/site-packages/ee/function.py\u001b[0m in \u001b[0;36mcall\u001b[0;34m(self, *args, **kwargs)\u001b[0m\n\u001b[1;32m     65\u001b[0m       \u001b[0mto\u001b[0m \u001b[0mthat\u001b[0m \u001b[0mtype\u001b[0m\u001b[0;34m.\u001b[0m\u001b[0;34m\u001b[0m\u001b[0;34m\u001b[0m\u001b[0m\n\u001b[1;32m     66\u001b[0m     \"\"\"\n\u001b[0;32m---> 67\u001b[0;31m     \u001b[0;32mreturn\u001b[0m \u001b[0mself\u001b[0m\u001b[0;34m.\u001b[0m\u001b[0mapply\u001b[0m\u001b[0;34m(\u001b[0m\u001b[0mself\u001b[0m\u001b[0;34m.\u001b[0m\u001b[0mnameArgs\u001b[0m\u001b[0;34m(\u001b[0m\u001b[0margs\u001b[0m\u001b[0;34m,\u001b[0m \u001b[0mkwargs\u001b[0m\u001b[0;34m)\u001b[0m\u001b[0;34m)\u001b[0m\u001b[0;34m\u001b[0m\u001b[0;34m\u001b[0m\u001b[0m\n\u001b[0m\u001b[1;32m     68\u001b[0m \u001b[0;34m\u001b[0m\u001b[0m\n\u001b[1;32m     69\u001b[0m   \u001b[0;32mdef\u001b[0m \u001b[0mapply\u001b[0m\u001b[0;34m(\u001b[0m\u001b[0mself\u001b[0m\u001b[0;34m,\u001b[0m \u001b[0mnamed_args\u001b[0m\u001b[0;34m)\u001b[0m\u001b[0;34m:\u001b[0m\u001b[0;34m\u001b[0m\u001b[0;34m\u001b[0m\u001b[0m\n",
      "\u001b[0;32m~/anaconda3/envs/onl/lib/python3.7/site-packages/ee/function.py\u001b[0m in \u001b[0;36mapply\u001b[0;34m(self, named_args)\u001b[0m\n\u001b[1;32m     78\u001b[0m       \u001b[0mto\u001b[0m \u001b[0mthat\u001b[0m \u001b[0mtype\u001b[0m\u001b[0;34m.\u001b[0m\u001b[0;34m\u001b[0m\u001b[0;34m\u001b[0m\u001b[0m\n\u001b[1;32m     79\u001b[0m     \"\"\"\n\u001b[0;32m---> 80\u001b[0;31m     \u001b[0mresult\u001b[0m \u001b[0;34m=\u001b[0m \u001b[0mcomputedobject\u001b[0m\u001b[0;34m.\u001b[0m\u001b[0mComputedObject\u001b[0m\u001b[0;34m(\u001b[0m\u001b[0mself\u001b[0m\u001b[0;34m,\u001b[0m \u001b[0mself\u001b[0m\u001b[0;34m.\u001b[0m\u001b[0mpromoteArgs\u001b[0m\u001b[0;34m(\u001b[0m\u001b[0mnamed_args\u001b[0m\u001b[0;34m)\u001b[0m\u001b[0;34m)\u001b[0m\u001b[0;34m\u001b[0m\u001b[0;34m\u001b[0m\u001b[0m\n\u001b[0m\u001b[1;32m     81\u001b[0m     \u001b[0;32mreturn\u001b[0m \u001b[0mFunction\u001b[0m\u001b[0;34m.\u001b[0m\u001b[0m_promoter\u001b[0m\u001b[0;34m(\u001b[0m\u001b[0mresult\u001b[0m\u001b[0;34m,\u001b[0m \u001b[0mself\u001b[0m\u001b[0;34m.\u001b[0m\u001b[0mgetReturnType\u001b[0m\u001b[0;34m(\u001b[0m\u001b[0;34m)\u001b[0m\u001b[0;34m)\u001b[0m\u001b[0;34m\u001b[0m\u001b[0;34m\u001b[0m\u001b[0m\n\u001b[1;32m     82\u001b[0m \u001b[0;34m\u001b[0m\u001b[0m\n",
      "\u001b[0;32m~/anaconda3/envs/onl/lib/python3.7/site-packages/ee/function.py\u001b[0m in \u001b[0;36mpromoteArgs\u001b[0;34m(self, args)\u001b[0m\n\u001b[1;32m    105\u001b[0m       \u001b[0mname\u001b[0m \u001b[0;34m=\u001b[0m \u001b[0mspec\u001b[0m\u001b[0;34m[\u001b[0m\u001b[0;34m'name'\u001b[0m\u001b[0;34m]\u001b[0m\u001b[0;34m\u001b[0m\u001b[0;34m\u001b[0m\u001b[0m\n\u001b[1;32m    106\u001b[0m       \u001b[0;32mif\u001b[0m \u001b[0mname\u001b[0m \u001b[0;32min\u001b[0m \u001b[0margs\u001b[0m\u001b[0;34m:\u001b[0m\u001b[0;34m\u001b[0m\u001b[0;34m\u001b[0m\u001b[0m\n\u001b[0;32m--> 107\u001b[0;31m         \u001b[0mpromoted_args\u001b[0m\u001b[0;34m[\u001b[0m\u001b[0mname\u001b[0m\u001b[0;34m]\u001b[0m \u001b[0;34m=\u001b[0m \u001b[0mFunction\u001b[0m\u001b[0;34m.\u001b[0m\u001b[0m_promoter\u001b[0m\u001b[0;34m(\u001b[0m\u001b[0margs\u001b[0m\u001b[0;34m[\u001b[0m\u001b[0mname\u001b[0m\u001b[0;34m]\u001b[0m\u001b[0;34m,\u001b[0m \u001b[0mspec\u001b[0m\u001b[0;34m[\u001b[0m\u001b[0;34m'type'\u001b[0m\u001b[0;34m]\u001b[0m\u001b[0;34m)\u001b[0m\u001b[0;34m\u001b[0m\u001b[0;34m\u001b[0m\u001b[0m\n\u001b[0m\u001b[1;32m    108\u001b[0m       \u001b[0;32melif\u001b[0m \u001b[0;32mnot\u001b[0m \u001b[0mspec\u001b[0m\u001b[0;34m.\u001b[0m\u001b[0mget\u001b[0m\u001b[0;34m(\u001b[0m\u001b[0;34m'optional'\u001b[0m\u001b[0;34m)\u001b[0m\u001b[0;34m:\u001b[0m\u001b[0;34m\u001b[0m\u001b[0;34m\u001b[0m\u001b[0m\n\u001b[1;32m    109\u001b[0m         raise ee_exception.EEException(\n",
      "\u001b[0;32m~/anaconda3/envs/onl/lib/python3.7/site-packages/ee/__init__.py\u001b[0m in \u001b[0;36m_Promote\u001b[0;34m(arg, klass)\u001b[0m\n\u001b[1;32m    260\u001b[0m       \u001b[0;32mreturn\u001b[0m \u001b[0marg\u001b[0m\u001b[0;34m\u001b[0m\u001b[0;34m\u001b[0m\u001b[0m\n\u001b[1;32m    261\u001b[0m   \u001b[0;32melif\u001b[0m \u001b[0mklass\u001b[0m \u001b[0;34m==\u001b[0m \u001b[0;34m'List'\u001b[0m\u001b[0;34m:\u001b[0m\u001b[0;34m\u001b[0m\u001b[0;34m\u001b[0m\u001b[0m\n\u001b[0;32m--> 262\u001b[0;31m     \u001b[0;32mreturn\u001b[0m \u001b[0mList\u001b[0m\u001b[0;34m(\u001b[0m\u001b[0marg\u001b[0m\u001b[0;34m)\u001b[0m\u001b[0;34m\u001b[0m\u001b[0;34m\u001b[0m\u001b[0m\n\u001b[0m\u001b[1;32m    263\u001b[0m   \u001b[0;32melif\u001b[0m \u001b[0mklass\u001b[0m \u001b[0;32min\u001b[0m \u001b[0;34m(\u001b[0m\u001b[0;34m'Number'\u001b[0m\u001b[0;34m,\u001b[0m \u001b[0;34m'Float'\u001b[0m\u001b[0;34m,\u001b[0m \u001b[0;34m'Long'\u001b[0m\u001b[0;34m,\u001b[0m \u001b[0;34m'Integer'\u001b[0m\u001b[0;34m,\u001b[0m \u001b[0;34m'Short'\u001b[0m\u001b[0;34m,\u001b[0m \u001b[0;34m'Byte'\u001b[0m\u001b[0;34m)\u001b[0m\u001b[0;34m:\u001b[0m\u001b[0;34m\u001b[0m\u001b[0;34m\u001b[0m\u001b[0m\n\u001b[1;32m    264\u001b[0m     \u001b[0;32mreturn\u001b[0m \u001b[0mNumber\u001b[0m\u001b[0;34m(\u001b[0m\u001b[0marg\u001b[0m\u001b[0;34m)\u001b[0m\u001b[0;34m\u001b[0m\u001b[0;34m\u001b[0m\u001b[0m\n",
      "\u001b[0;32m~/anaconda3/envs/onl/lib/python3.7/site-packages/ee/computedobject.py\u001b[0m in \u001b[0;36m__call__\u001b[0;34m(cls, *args, **kwargs)\u001b[0m\n\u001b[1;32m     30\u001b[0m       \u001b[0;32mreturn\u001b[0m \u001b[0margs\u001b[0m\u001b[0;34m[\u001b[0m\u001b[0;36m0\u001b[0m\u001b[0;34m]\u001b[0m\u001b[0;34m\u001b[0m\u001b[0;34m\u001b[0m\u001b[0m\n\u001b[1;32m     31\u001b[0m     \u001b[0;32melse\u001b[0m\u001b[0;34m:\u001b[0m\u001b[0;34m\u001b[0m\u001b[0;34m\u001b[0m\u001b[0m\n\u001b[0;32m---> 32\u001b[0;31m       \u001b[0;32mreturn\u001b[0m \u001b[0mtype\u001b[0m\u001b[0;34m.\u001b[0m\u001b[0m__call__\u001b[0m\u001b[0;34m(\u001b[0m\u001b[0mcls\u001b[0m\u001b[0;34m,\u001b[0m \u001b[0;34m*\u001b[0m\u001b[0margs\u001b[0m\u001b[0;34m,\u001b[0m \u001b[0;34m**\u001b[0m\u001b[0mkwargs\u001b[0m\u001b[0;34m)\u001b[0m\u001b[0;34m\u001b[0m\u001b[0;34m\u001b[0m\u001b[0m\n\u001b[0m\u001b[1;32m     33\u001b[0m \u001b[0;34m\u001b[0m\u001b[0m\n\u001b[1;32m     34\u001b[0m \u001b[0;34m\u001b[0m\u001b[0m\n",
      "\u001b[0;32m~/anaconda3/envs/onl/lib/python3.7/site-packages/ee/ee_list.py\u001b[0m in \u001b[0;36m__init__\u001b[0;34m(self, arg)\u001b[0m\n\u001b[1;32m     40\u001b[0m     \u001b[0;32melse\u001b[0m\u001b[0;34m:\u001b[0m\u001b[0;34m\u001b[0m\u001b[0;34m\u001b[0m\u001b[0m\n\u001b[1;32m     41\u001b[0m       raise ee_exception.EEException(\n\u001b[0;32m---> 42\u001b[0;31m           'Invalid argument specified for ee.List(): %s' % arg)\n\u001b[0m\u001b[1;32m     43\u001b[0m \u001b[0;34m\u001b[0m\u001b[0m\n\u001b[1;32m     44\u001b[0m   \u001b[0;34m@\u001b[0m\u001b[0mclassmethod\u001b[0m\u001b[0;34m\u001b[0m\u001b[0;34m\u001b[0m\u001b[0m\n",
      "\u001b[0;31mEEException\u001b[0m: Invalid argument specified for ee.List(): results"
     ]
    }
   ],
   "source": [
    "ee.Reducer.histogram()"
   ]
  },
  {
   "cell_type": "markdown",
   "metadata": {},
   "source": [
    "## References:\n",
    "```{bibliography} ../references.bib\n",
    ":filter: docname in docnames\n",
    "```"
   ]
  },
  {
   "cell_type": "code",
   "execution_count": null,
   "metadata": {},
   "outputs": [],
   "source": []
  }
 ],
 "metadata": {
  "hide_input": false,
  "kernelspec": {
   "display_name": "Python 3",
   "language": "python",
   "name": "python3"
  },
  "language_info": {
   "codemirror_mode": {
    "name": "ipython",
    "version": 3
   },
   "file_extension": ".py",
   "mimetype": "text/x-python",
   "name": "python",
   "nbconvert_exporter": "python",
   "pygments_lexer": "ipython3",
   "version": "3.7.7"
  },
  "toc": {
   "base_numbering": 1,
   "nav_menu": {},
   "number_sections": false,
   "sideBar": true,
   "skip_h1_title": false,
   "title_cell": "Table of Contents",
   "title_sidebar": "Contents",
   "toc_cell": false,
   "toc_position": {},
   "toc_section_display": true,
   "toc_window_display": false
  }
 },
 "nbformat": 4,
 "nbformat_minor": 4
}
