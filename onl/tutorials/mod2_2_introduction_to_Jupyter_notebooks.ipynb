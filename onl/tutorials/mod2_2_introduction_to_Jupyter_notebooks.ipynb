{
 "cells": [
  {
   "cell_type": "markdown",
   "metadata": {},
   "source": [
    "# Introduction to Jupyter notebooks (10 min)\n",
    "\n",
    "<div class=\"alert alert-info\">\n",
    "A <b>Jupyter notebook</b> is a web-based interactive computational environment. A Jupyter notebook is basically a JSON document that can be displayed in a browser and contains input/ output cells that can be used to enter markdown text, contain executable code, or display plots or rich media.</div>\n",
    "\n",
    "Jupyter notebooks have gained a lot of popularity in the scientific computing community, largely because of the ease with which users can integrate executable code with written text and plots interactively, making it a powerful tool for conducting data exploration and communicating analytical insights.\n",
    "\n",
    "## Getting started\n",
    "Jupyter notebook comes installed with the Anaconda distribution, so if you’ve installed that already (as you should have in the last module), to open a Jupyter notebook, you can just open a terminal (and if you created a virtual environment, make sure you’ve activated it) and enter:\n",
    "\n",
    "`$ jupyter notebook`\n",
    "\n",
    "By default the notebook uses a Python kernel (whatever Python version is in your current environment), so we dont need to worry about changing the language since we’re working in Python.\n",
    "\n",
    "This launches the web server and your default browser (Chrome, Safari, Firefox, etc.) will open a tab showing a file directory based on your current location {numref}`jupyter-tree`. You can navigate to existing notebook files (which contain the .ipynb extension) and open them in a new tab simply by clicking on them.\n",
    "\n",
    "```{figure} img/mod1-jupyter_tree.png\n",
    "---\n",
    "name: jupyter-tree\n",
    "---\n",
    "Jupyter tree\n",
    "```\n",
    "\n",
    "<div class=\"alert alert-success\">\n",
    "There is a lot of <a href=\"https://jupyter-notebook.readthedocs.io/en/stable/\" class=\"alert-link\">helpful documentation on Jupyter notebooks</a> available.\n",
    "</div>\n",
    "\n",
    "<div class=\"alert alert-success\">\n",
    "And some helpful examples <a href=\"https://github.com/jupyter/notebook/tree/master/docs/source/examples/Notebook\" class=\"alert-link\">here</a></div>\n",
    "\n",
    "We encourage you to explore the documentation and examples to see what is capable with Jupyter notebooks. Here, we’ll just cover some basic concepts that allow you to use this tutorial.\n",
    "\n",
    "As noted, Jupyter notebooks contain cells. You can select what sort of content the cell contains, such as markdown text or executable code.\n",
    "\n",
    "```{figure} img/mod1-jupyter_cells.png\n",
    "---\n",
    "name: jupyter-cells\n",
    "---\n",
    "Select the type of cell you want, e.g. markdown or code.\n",
    "```\n",
    "\n",
    "This very text you’re reading now is actually a markdown cell in a notebook.\n",
    "\n",
    "And here is an example of executable code which produces an output:"
   ]
  },
  {
   "cell_type": "code",
   "execution_count": 1,
   "metadata": {},
   "outputs": [
    {
     "name": "stdout",
     "output_type": "stream",
     "text": [
      "hello world\n"
     ]
    }
   ],
   "source": [
    "print(\"hello world\")"
   ]
  },
  {
   "cell_type": "markdown",
   "metadata": {},
   "source": [
    "Which you could also wrap in a simple function and define that in one cell:"
   ]
  },
  {
   "cell_type": "code",
   "execution_count": 2,
   "metadata": {},
   "outputs": [],
   "source": [
    "def sayHello():\n",
    "    print(\"hello world\")"
   ]
  },
  {
   "cell_type": "markdown",
   "metadata": {},
   "source": [
    "...And then execute in a later cell:"
   ]
  },
  {
   "cell_type": "code",
   "execution_count": 3,
   "metadata": {},
   "outputs": [
    {
     "name": "stdout",
     "output_type": "stream",
     "text": [
      "hello world\n"
     ]
    }
   ],
   "source": [
    "sayHello()"
   ]
  },
  {
   "cell_type": "markdown",
   "metadata": {},
   "source": [
    "The menu bar provides an option to run the cell (keyboard shortcut: SHIFT + ENTER). You can also run all the cells in the notebook.\n",
    "\n",
    "```{figure} img/mod1-jupyter_runall.png\n",
    "---\n",
    "name: jupyter-runall\n",
    "---\n",
    "Running cells independently allows for interactive code execution that can be useful for exploring and plotting data.\n",
    "```\n",
    "\n",
    "You can also restart your kernel:\n",
    "\n",
    "```{figure} img/mod1-jupyter_restart.png\n",
    "---\n",
    "name: jupyter-restart\n",
    "---\n",
    "Warning: restarting your kernel resets your memory, so you'll lose all created variables and dump any data loaded in memory.\n",
    "```\n",
    "\n",
    "Restarting can help resolve some issues if you’ve accidentally clobbered variables....which brings us to a public service announcement:\n",
    "\n",
    "### Notebook limitations\n",
    "\n",
    "While their capabilities are expanding, there are a number of limitations to notebooks. It’s easy to <a href=\"https://datapastry.com/blog/why-i-dont-use-jupyter-notebooks-and-you-shouldnt-either\" class=\"alert-link\">get into bad habits</a>, especially if you’re a novice programmer. There can also be limits to managing large amounts of data using Jupyter notebooks -- a consideration with image data, such as nighttime lights, and they don’t facilitate writing modular, reusable code.\n",
    "\n",
    "The blend of analytics, simple programming concepts, and visualization used in this tutorial makes notebooks a useful tool, so we should be O.K. But as you grow in your programming skills you may consider using a full IDE, like PyCharm.\n",
    "\n",
    "## Using notebooks for this tutorial\n",
    " \n",
    "We mentioned this tutorial was written in notebooks, right? That means you can download these pages directly from your browser and save them locally.\n",
    " \n",
    "To do this, open your terminal in the directory where you want to work on this project and launch a notebook instance like shown above:\n",
    " \n",
    "`$ jupyter notebook`\n",
    " \n",
    "Then, on this webpage, download this page as a notebook (.ipynb extension) and save it within the directory you launched the notebook from. You can do this from the icon at the upper right-hand side of this page:\n",
    " \n",
    "```{figure} img/mod1-jupyter_download.png\n",
    "---\n",
    "name: jupyter-download\n",
    "---\n",
    "```\n",
    " \n",
    "Now, in the Jupyter home tab, you can navigate to where you’ve stored this file, click on the link, and open this notebook in your browser, where you can edit and execute this notebook as you wish.\n",
    " \n",
    "```{figure} img/mod1-jupyter_getbook.png\n",
    "---\n",
    "name: jupyter-getbook\n",
    "---\n",
    "```\n",
    "\n",
    " \n",
    "### GitHub\n",
    "\n",
    "<div class=\"alert alert-success\">\n",
    "<a href=\"https://github.com\" class=\"alert-link\">GitHub</a> is an online application built on `git` version-tracking software that supports code editing and collaboration. This site is hosted in a GitHub repo.</div>\n",
    " \n",
    "If you have a GitHub account, you can clone and download this entire repo to your local computer. You can the launch a Juypter notebook from that directory and navigate to these files to open and execute them."
   ]
  },
  {
   "cell_type": "code",
   "execution_count": null,
   "metadata": {},
   "outputs": [],
   "source": []
  }
 ],
 "metadata": {
  "hide_input": false,
  "kernelspec": {
   "display_name": "Python 3",
   "language": "python",
   "name": "python3"
  },
  "language_info": {
   "codemirror_mode": {
    "name": "ipython",
    "version": 3
   },
   "file_extension": ".py",
   "mimetype": "text/x-python",
   "name": "python",
   "nbconvert_exporter": "python",
   "pygments_lexer": "ipython3",
   "version": "3.7.8"
  },
  "toc": {
   "base_numbering": 1,
   "nav_menu": {},
   "number_sections": false,
   "sideBar": true,
   "skip_h1_title": false,
   "title_cell": "Table of Contents",
   "title_sidebar": "Contents",
   "toc_cell": false,
   "toc_position": {},
   "toc_section_display": true,
   "toc_window_display": false
  }
 },
 "nbformat": 4,
 "nbformat_minor": 4
}
