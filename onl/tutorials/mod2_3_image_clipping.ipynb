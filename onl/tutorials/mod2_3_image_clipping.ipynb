{
 "cells": [
  {
   "cell_type": "markdown",
   "metadata": {},
   "source": [
    "# Image clipping (5 min)\n",
    "\n",
    "Satellite data, which often comes structured as a GeoTIFF if you recall from  {doc}`mod1_6_DMSP_VIIRS_data_access`, can cover large areas geospatially. It's not always required to work with the entire file, in fact, it's often preferred to work only with a smaller Area Of Interest (AOI).\n",
    "\n",
    "In this tutorial, we're going to show how you can clip a particular satellite raster file to a specific AOI, including a geometry from a geopolitical boundary. We'll also apply this clipping to an entire ImageCollection.\n",
    "\n",
    "So far, we've been working with DMSP-OLS annual composites. For this exercise, we'll work with the VIIRS-DNB data so you can get familiar with this source. Refer to {doc}`mod1_2_introduction_to_nighttime_light_data` for a refresher on the VIIRS-DNB dataset.\n",
    "\n",
    "**Prerequisites:**\n",
    "- Make sure you have Python, Jupyter notebooks, and `ee` and `geemap` installed and are familiar with these packages\n",
    "- If not, you'll want to review: \n",
    "    - {doc}`mod1_3_getting_started_with_Python`\n",
    "    - {doc}`mod1_4_introduction_to_Jupyter_notebooks`\n",
    "    - {doc}`mod1_5_introduction_to_GEE`\n",
    "- You may also want to try this exercise to get familiar with GEE and the Python `geemap` and `ee` libraries:\n",
    "    - {doc}`mod1_7_practical_exercise-image_visualization`\n",
    "\n",
    "**Our tasks in this exercise:**\n",
    "1. Get a particular monthly composite from the VIIRS-DNB stray-light corrected image collection.\n",
    "2. Clip the VIIRS-DNB image to a Geometry (a buffer around a point)\n",
    "2. Clip the image to the geometry of the state of California.\n",
    "3. Clip all the images in the VIIRS-DNB stray-light corrected image collection to the state of California\n",
    "\n",
    "## Clip a VIIRS-DNB composite image to a rectangle\n",
    "\n",
    "For this exercise, we're going to work with the VIIRS-Day/Night Band (DNB) image collection that has been corrected for stray-light and is cleaned and created into monthly composites. In Google Earth Engine, this Image Collection is: `NOAA/VIIRS/DNB/MONTHLY_V1/VCMSLCFG`\n",
    "\n",
    "You can read more about the data and the methodology for cleaning and compositing <a href=\"https://eogdata.mines.edu/download_dnb_composites.html\">here</a>, and more about the process to correct for stray light in this paper {cite}`mills2013viirs`.\n",
    "\n",
    "Let's look at the monthly composite for December, 2019. So we'll filter on December, 2019 to get a single image that we'll display.\n",
    "\n",
    "#### As usual, let's initialize a `geemap` object, extract our image and visualize our layer"
   ]
  },
  {
   "cell_type": "code",
   "execution_count": 33,
   "metadata": {},
   "outputs": [],
   "source": [
    "# import geemap and ee for our Python session\n",
    "import geemap, ee\n",
    "\n",
    "try:\n",
    "        ee.Initialize()\n",
    "except Exception as e:\n",
    "        ee.Authenticate()\n",
    "        ee.Initialize()\n",
    "\n",
    "# get December image, we're using the \"avg_rad\" band\n",
    "viirs2019_12 = ee.ImageCollection(\"NOAA/VIIRS/DNB/MONTHLY_V1/VCMSLCFG\").filterDate(\"2019-12-01\",\"2019-12-31\").select('avg_rad').median()\n",
    "\n",
    "\n",
    "# initialize our map\n",
    "viirsMap = geemap.Map()\n",
    "viirsMap.add_basemap('SATELLITE')\n",
    "viirsMap.addLayer(viirs2019_12, {}, \"VIIRS-DNB Dec 2019\")"
   ]
  },
  {
   "cell_type": "code",
   "execution_count": 41,
   "metadata": {},
   "outputs": [
    {
     "data": {
      "application/vnd.jupyter.widget-view+json": {
       "model_id": "1553b3e461a0432aa0e09195ed672fc1",
       "version_major": 2,
       "version_minor": 0
      },
      "text/plain": [
       "Map(bottom=13364.400024414062, center=[34.00349183839598, -117.16809041798118], controls=(WidgetControl(option…"
      ]
     },
     "metadata": {},
     "output_type": "display_data"
    }
   ],
   "source": [
    "# display our map\n",
    "viirsMap"
   ]
  },
  {
   "cell_type": "markdown",
   "metadata": {},
   "source": [
    "## Let's clip our image to an area around Los Angeles, CA\n",
    "\n",
    "We'll create a Geometric point using the `ee.Geometry.Point` method at lon: -118.2541, lat: 34.0469 (downtown LA) and then create a 200,000 meter (200 km) buffer around that."
   ]
  },
  {
   "cell_type": "code",
   "execution_count": 44,
   "metadata": {},
   "outputs": [],
   "source": [
    "lat = 34.0469\n",
    "lon = -118.2541\n",
    "aoi = ee.Geometry.Point([lon, lat]).buffer(200000);"
   ]
  },
  {
   "cell_type": "markdown",
   "metadata": {},
   "source": [
    "Now, let's clip our VIIRS image to our AOI and add that as a layer by passing our `aoi` object to the `.clip()` function, like this:"
   ]
  },
  {
   "cell_type": "code",
   "execution_count": 49,
   "metadata": {},
   "outputs": [
    {
     "data": {
      "application/vnd.jupyter.widget-view+json": {
       "model_id": "e22bc5502dd24156a2da23a0d7978146",
       "version_major": 2,
       "version_minor": 0
      },
      "text/plain": [
       "Map(center=[34.0469, -118.2541], controls=(WidgetControl(options=['position'], widget=HBox(children=(ToggleBut…"
      ]
     },
     "metadata": {},
     "output_type": "display_data"
    }
   ],
   "source": [
    "viirs2019_12_clipped = viirs2019_12.clip(aoi)\n",
    "\n",
    "viirsMap2 = geemap.Map(center=[lat, lon],zoom=7)\n",
    "viirsMap2.add_basemap('SATELLITE')\n",
    "viirsMap2.addLayer(viirs2019_12_clipped, {}, \"VIIRS-DNB- Greater LA Dec 2019\")\n",
    "viirsMap2"
   ]
  },
  {
   "cell_type": "markdown",
   "metadata": {},
   "source": [
    "Now we can focus our attention (for analysis or visualization) on just the area around greater LA.\n",
    "\n",
    "## Clip an image to a geopolitical boundary: State of California\n",
    "\n",
    "We arbitrarily chose a lat/lon point and buffer to clip our image around, but in geospatial analysis, we're often called to focus on particular geopolitical boundaries.\n",
    "\n",
    "One example might be to use the shapefile of a country or sub-national boundary to clip our image. \n",
    "\n",
    "#### Importing shapefiles with `geemap`\n",
    "\n",
    "Importing shapefiles is very easy to do with geemap. It's as simple as:\n",
    "\n",
    "```\n",
    "ee_object = geemap.shp_to_ee(<pathtomyshapefile>)\n",
    "```\n",
    "\n",
    "...which you can now add to your map object:\n",
    "\n",
    "```\n",
    "Map.addLayer(ee_object, {}, 'Layer name')\n",
    "```\n",
    "\n",
    "So if you had a shapefile, say for the state of California, you could import that as just shown and then clip your image to that shapefile (just like we did with `aoi` earlier). \n",
    "\n",
    "Conveniently, Google Earth Engine actually has native shapefiles for US States so we dont need to have pre-downloaded shapefiles to clip our image to California. These are based on the US Census TIGER files from 2016 and are located in GEE at `TIGER/2016/States`\n",
    "\n",
    "We'll retreive the shapefile for the state of California:"
   ]
  },
  {
   "cell_type": "code",
   "execution_count": 50,
   "metadata": {},
   "outputs": [],
   "source": [
    "aoi_CA = ee.FeatureCollection('TIGER/2016/States').filter(ee.Filter.eq('NAME', 'California'))"
   ]
  },
  {
   "cell_type": "markdown",
   "metadata": {},
   "source": [
    "Now, just as with our point/buffer AOI, we can clip our VIIRS image to the entire state of California."
   ]
  },
  {
   "cell_type": "code",
   "execution_count": 53,
   "metadata": {},
   "outputs": [
    {
     "data": {
      "application/vnd.jupyter.widget-view+json": {
       "model_id": "82ac78329f0742a49081aaef4c524592",
       "version_major": 2,
       "version_minor": 0
      },
      "text/plain": [
       "Map(center=[34.0469, -118.2541], controls=(WidgetControl(options=['position'], widget=HBox(children=(ToggleBut…"
      ]
     },
     "metadata": {},
     "output_type": "display_data"
    }
   ],
   "source": [
    "viirs2019_12_ca = viirs2019_12.clip(aoi_CA)\n",
    "\n",
    "viirsMap3 = geemap.Map(center=[lat, lon],zoom=5)\n",
    "viirsMap3.add_basemap('SATELLITE')\n",
    "viirsMap3.addLayer(viirs2019_12_ca, {}, \"VIIRS-DNB- California Dec 2019\")\n",
    "viirsMap3"
   ]
  },
  {
   "cell_type": "markdown",
   "metadata": {},
   "source": [
    "**California! Right on, man!**\n",
    "\n",
    "## Clip an entire Image Collection to the State of California\n",
    "\n",
    "So far, we've just clipped the December 2019 VIIRS-DNB composite, but we can easily apply this geometry clipping to an entire Image Collection. This would help if we wanted to create time series visualizations of just our focus area.\n",
    "\n",
    "#### ImageCollection `map`\n",
    "\n",
    "Here's it's necessary to learn about the `.map()` function of ImageCollections, which as the name suggests, maps a given function each image in the collection, with some constraints as <a href=\"https://developers.google.com/earth-engine/guides/ic_mapping\">you can read here.</a>\n",
    "\n",
    "We passed our geometry (e.g. `aoi_CA`) to the `.clip()` function to clip a single image. We can map a function that does this to our entire ImageCollection in Python by first defining a simple function that clips a single image to our AOI, and then map this to our collection."
   ]
  },
  {
   "cell_type": "code",
   "execution_count": 62,
   "metadata": {},
   "outputs": [],
   "source": [
    "def clip_func(img):\n",
    "    return img.clip(aoi_CA)\n",
    "\n",
    "# for very short functions in Python, we can also use the \"lambda\" convention\n",
    "# this is identical to what we just defined above:\n",
    "\n",
    "clip_func = lambda x: x.clip(aoi_CA)\n",
    "\n",
    "# get the entire VIIRS-DNB selection -- still only selecting the \"avg_rad\" band\n",
    "viirsDNB = ee.ImageCollection(\"NOAA/VIIRS/DNB/MONTHLY_V1/VCMSLCFG\").select('avg_rad')\n",
    "\n",
    "# map the clip function with our `aoi_CA`\n",
    "viirs_CA = viirsDNB.map(clip_func)"
   ]
  },
  {
   "cell_type": "markdown",
   "metadata": {},
   "source": [
    "Now we can query this image collection for any date or series of dates to visualize layers. \n",
    "\n",
    "Let's look at June of 2015 and June 2020, for instance:"
   ]
  },
  {
   "cell_type": "code",
   "execution_count": 65,
   "metadata": {},
   "outputs": [
    {
     "data": {
      "application/vnd.jupyter.widget-view+json": {
       "model_id": "667915ef3ec5427db11f5f8bd06f2027",
       "version_major": 2,
       "version_minor": 0
      },
      "text/plain": [
       "Map(center=[34.0469, -118.2541], controls=(WidgetControl(options=['position'], widget=HBox(children=(ToggleBut…"
      ]
     },
     "metadata": {},
     "output_type": "display_data"
    }
   ],
   "source": [
    "viirs_CA_2015_06 = viirs_CA.filterDate('2015-06-01','2015-06-30').median()\n",
    "viirs_CA_2019_06 = viirs_CA.filterDate('2019-06-01','2019-06-30').median()\n",
    "\n",
    "viirsMap4 = geemap.Map(center=[lat, lon],zoom=5)\n",
    "viirsMap4.add_basemap('SATELLITE')\n",
    "viirsMap4.addLayer(viirs_CA_2015_06, {}, \"VIIRS-DNB- California June 2015\")\n",
    "viirsMap4.addLayer(viirs_CA_2019_06, {}, \"VIIRS-DNB- California June 2019\")\n",
    "viirsMap4"
   ]
  },
  {
   "cell_type": "markdown",
   "metadata": {},
   "source": [
    "#### Annual\n",
    "\n",
    "We could also get an annual composite of California for all of 2019, by reducing our image collection (through the `.median()` function."
   ]
  },
  {
   "cell_type": "code",
   "execution_count": 66,
   "metadata": {},
   "outputs": [
    {
     "data": {
      "application/vnd.jupyter.widget-view+json": {
       "model_id": "2b50d548ceab43f1b24878552148038d",
       "version_major": 2,
       "version_minor": 0
      },
      "text/plain": [
       "Map(center=[34.0469, -118.2541], controls=(WidgetControl(options=['position'], widget=HBox(children=(ToggleBut…"
      ]
     },
     "metadata": {},
     "output_type": "display_data"
    }
   ],
   "source": [
    "viirs_CA_2019 = viirs_CA.filterDate('2019-01-01','2019-12-31').median()\n",
    "\n",
    "viirsMap5 = geemap.Map(center=[lat, lon],zoom=5)\n",
    "viirsMap5.add_basemap('SATELLITE')\n",
    "viirsMap5.addLayer(viirs_CA_2019, {}, \"VIIRS-DNB- California 2019 (median)\")\n",
    "viirsMap5"
   ]
  },
  {
   "cell_type": "markdown",
   "metadata": {},
   "source": [
    "You can also get the the difference (i.e. change) in nighttime lights by subtracting images. We'll cover this in a future tutorial, but now you know how to clip an image to a specific geometry."
   ]
  },
  {
   "cell_type": "markdown",
   "metadata": {},
   "source": [
    "## References:\n",
    "```{bibliography} ../references.bib\n",
    ":filter: docname in docnames\n",
    "```"
   ]
  }
 ],
 "metadata": {
  "hide_input": false,
  "kernelspec": {
   "display_name": "Python 3",
   "language": "python",
   "name": "python3"
  },
  "language_info": {
   "codemirror_mode": {
    "name": "ipython",
    "version": 3
   },
   "file_extension": ".py",
   "mimetype": "text/x-python",
   "name": "python",
   "nbconvert_exporter": "python",
   "pygments_lexer": "ipython3",
   "version": "3.8.6"
  },
  "toc": {
   "base_numbering": 1,
   "nav_menu": {},
   "number_sections": false,
   "sideBar": true,
   "skip_h1_title": false,
   "title_cell": "Table of Contents",
   "title_sidebar": "Contents",
   "toc_cell": false,
   "toc_position": {},
   "toc_section_display": true,
   "toc_window_display": false
  }
 },
 "nbformat": 4,
 "nbformat_minor": 4
}
